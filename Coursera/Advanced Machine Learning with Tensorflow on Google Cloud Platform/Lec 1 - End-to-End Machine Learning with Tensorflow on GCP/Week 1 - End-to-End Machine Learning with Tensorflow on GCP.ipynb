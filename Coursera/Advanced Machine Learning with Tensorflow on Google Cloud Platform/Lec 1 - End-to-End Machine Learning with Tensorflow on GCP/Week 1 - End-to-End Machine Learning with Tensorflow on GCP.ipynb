{
 "cells": [
  {
   "cell_type": "markdown",
   "metadata": {},
   "source": [
    "# \\**ALL COPYRIGHT in COURSERA and GOOGLE\\**\n",
    "\n",
    "URL : https://www.coursera.org/learn/end-to-end-ml-tensorflow-gcp/home/welcome"
   ]
  },
  {
   "cell_type": "markdown",
   "metadata": {},
   "source": [
    "# 1. Introduction"
   ]
  },
  {
   "cell_type": "markdown",
   "metadata": {},
   "source": [
    "## 1-1 Intro to Specialization"
   ]
  },
  {
   "cell_type": "markdown",
   "metadata": {},
   "source": [
    "recap : 요약하다 1. = recapitulate   2. = recapitulation<br>\n",
    "recapitulate : (이미 한 말·결정 사항 등의) 개요를 말하다<br>\n",
    "deploy : 1. (군대·무기를) 배치하다   2. 효율적으로 사용하다<br>\n",
    "GCP : Google Cloud Platform<br>"
   ]
  },
  {
   "cell_type": "markdown",
   "metadata": {},
   "source": [
    "## 1-2 Course Introduction\n",
    "\n",
    "### Lab\n",
    "1. Explore, visualize a dataset\n",
    "2. Create sampled dataset\n",
    "3. Develop a Tensorflow Model\n",
    "4. Create training and evaluation datasets\n",
    "5. Execute training\n",
    "6. Deploy prediction service\n",
    "7. Invoke ML predictions"
   ]
  },
  {
   "cell_type": "markdown",
   "metadata": {},
   "source": [
    "invoke ~을 부르다 1. (법·규칙 등을) 들먹이다   2. (근거·이유로 인물·이론·예 등을) 들다"
   ]
  },
  {
   "cell_type": "markdown",
   "metadata": {},
   "source": [
    "# 2. Course Feedback"
   ]
  },
  {
   "cell_type": "markdown",
   "metadata": {},
   "source": [
    "# 3. Effective ML\n",
    "\n",
    "Scaling out is the answer\n",
    "\n",
    "To build effective ML, you need\n",
    "1. Big Data\n",
    "2. Feature Engineering\n",
    "3. Model Architectures\n",
    "=> all u can do in Tensorflow\n",
    "\n",
    "Tensorflow Released in 11.2015, #1 repository for \"machine learning\" category on GitHub\n",
    "Based on Open source"
   ]
  },
  {
   "cell_type": "markdown",
   "metadata": {},
   "source": [
    "<img src=\"./1-3 Effective ML 1.png\">\n",
    "<img src=\"./1-3 Effective ML 2.png\">\n",
    "<img src=\"./1-3 Effective ML 3.png\">"
   ]
  },
  {
   "cell_type": "markdown",
   "metadata": {},
   "source": [
    "devise 창안하다, 고안하다"
   ]
  },
  {
   "cell_type": "markdown",
   "metadata": {},
   "source": [
    "# 4. Fully managed ML\n",
    "\n",
    "- Hyperparameter tuning might be nice\n",
    "- Need to autoscale prediction code\n",
    " - Wrap the model REST API call with input variables\n",
    "- Who does the preprocessing\n",
    "- Cloud machine learning : repeatable, scalable, tuned\n",
    "\n",
    "In Cloud Datalab, start locally on a sampled dataset\n",
    "- CSV FILE -> pandas -> Tensorflow\n",
    "Then, scale it out to GCP using serverless technology\n",
    "- store -> improve/serverless/hypertune"
   ]
  },
  {
   "cell_type": "markdown",
   "metadata": {},
   "source": [
    "<img src=\"1-4 Fully managed ML 1.png\">\n",
    "<img src=\"1-4 Fully managed ML 2.png\">"
   ]
  },
  {
   "cell_type": "markdown",
   "metadata": {},
   "source": [
    "# 5. Explore the dataset\n",
    "\n",
    "- The most common ML models at Google are models that operate on structured data\n",
    "- Our goal is to predict the weight of newborns so that all newborns can get the care they need\n",
    " - Predict the weight of newborns\n",
    " - Identify babies who may need special facilities\n",
    " - Get babies the care they need\n",
    "- An open dataset of births is available in BigQuery\n",
    " - Births recored in 50 states of the USA from 1969 to 2008\n",
    " - Table Size 21.9GB\n",
    " - Number of Rows : 137,826,763\n",
    "- The data set includes details about the pregnancy\n",
    " - year, month, day, wday, state, weight_pounds, mother_age, gestation_weeks\n",
    " - Predict : weight_gain_pounds\n",
    "- Lab : #1 Explore, visualize a dataset"
   ]
  },
  {
   "cell_type": "markdown",
   "metadata": {},
   "source": [
    "intricacy  1. 복잡한 사항   2. (여러 부분·내용·무늬로 되어 있어) 복잡함<br>\n",
    "productionization : the process of turning a prototype of a design into a version that can be more easily mass-produced. <br>\n",
    "gestation 1. 임신 (기간)   2. (생각·계획의) 구상<br>"
   ]
  },
  {
   "cell_type": "markdown",
   "metadata": {},
   "source": [
    "<img src=\"1-5 Explore the dataset 1.png\">\n",
    "<img src=\"1-5 Explore the dataset 2.png\">"
   ]
  },
  {
   "cell_type": "markdown",
   "metadata": {},
   "source": [
    "# 6. BigQuery and Datalab\n",
    "\n",
    "### BigQuery\n",
    "- BigQuery is a serverless data warehouse\n",
    " 1. Interactive analysis of petabyte scale databases\n",
    " 2. Familiar, SQL 2011 query language and function\n",
    " 3. Many ways to ingest, transform, load, export data to/from BigQuery\n",
    " 4. Nested and repeated fields, user-defined function (table, json)\n",
    " 5. Data storage is inexpensive; queries charged on amount of data processed(or a monthly flat rate)\n",
    "- Run a query from BigQuery web UI\n",
    "- Demo: Query large datasets in seconds\n",
    "\n",
    "### Datalab\n",
    "- Datalab notebooks are developed in an iterative, collaborative process\n",
    " - Development Process in Cloud Datalab\n",
    " - Phase 1 Write code in Python\n",
    " - Phase 2 Run cell(Shift+Enter)\n",
    " - Phase 3 Examin Output\n",
    " - Phase 4 Write commentary in markdown\n",
    " - Phase 5 Share and collaborate\n",
    "- You can develop locally with Datalab and then scale out data processing to the cloud\n",
    "- Datalab notebooks let you change the underlying hardware\n",
    "- Starting Cloud Datalab in Cloud Shell is simple\n",
    " 1. Active Google Cloud Shell\n",
    " 2. Write  \n",
    "             datalab create my-datalab-vm \\\n",
    "             --machine-type n1-highmem-8 \\\n",
    "             --zone us-central1-a\n",
    "             \n",
    " 3. Change port -> Port 8081"
   ]
  },
  {
   "cell_type": "markdown",
   "metadata": {},
   "source": [
    "nested field : SQL이나 엑셀 형태의 격자 모양?"
   ]
  },
  {
   "cell_type": "markdown",
   "metadata": {},
   "source": [
    "<img src=\"1-6 BigQuery and Datalab 1.png\">\n",
    "<img src=\"1-6 BigQuery and Datalab 2.png\">\n",
    "<img src=\"1-6 BigQuery and Datalab 3.png\">"
   ]
  },
  {
   "cell_type": "markdown",
   "metadata": {},
   "source": [
    "### BigQuery in Python to get a Pandas DF\n",
    "\n",
    "- Pandas + BigQuery in notebook rocks!"
   ]
  },
  {
   "cell_type": "markdown",
   "metadata": {},
   "source": [
    "# 7. How to use Qwiklabs\n",
    "\n",
    "- Getting started with Google Cloud Platform and Qwiklabs\n",
    " - In Coursera, click on a lab, for example:<br>\n",
    " Lab 0 : Getting Started with Google Cloud Platform and Qwiklabs\n",
    " - In Coursera, launch the lab tool\n",
    " - In Quiklabs, start the lab\n",
    " - For each lab, note the generated username and password\n",
    " - In Qwiklabs, open the console\n",
    " - Sign in using your generated username and password(not your personal email)"
   ]
  },
  {
   "cell_type": "markdown",
   "metadata": {},
   "source": [
    "provision 1. 공급, 제공   2. 대비, 준비   3. (특히 장거리 여정을 위한) 식량 <br>\n",
    "(특히 특정 기간 동안 필요한 식량을) 공급하다 <br>"
   ]
  },
  {
   "cell_type": "markdown",
   "metadata": {},
   "source": [
    "# 8. Hands-on Lab 1"
   ]
  },
  {
   "cell_type": "markdown",
   "metadata": {},
   "source": [
    "Coursrea 우등 코드<br>\n",
    "당사는 Coursera에서 귀하의 작품이 완전 무결하게 보호될 수 있도록 최선을 다하고 있습니다.<br>\n",
    "\n",
    "이 활동의 부분으로 모든 사람이 따라주길 바라는 우등 코드를 만들었습니다. 자세히 알아보기<br>\n",
    "\n",
    "모든 학습자가 해야 할 일:<br>\n",
    "\n",
    "원래 작품 제출하기<br>\n",
    "다른 사람과 대답을 공유하지 않도록 하십시오.<br>\n",
    "의심되는 위반 사항 보고하기"
   ]
  },
  {
   "cell_type": "markdown",
   "metadata": {},
   "source": [
    "이 강좌는 제 3자 도구인 Lab 1 : Explore the dataset을 학습 경험을 늘리는데 사용합니다. 도구는 이름, 이메일 및 Coursera ID같은 기본 정보에 대한 참고 표시를 할 것입니다.\n",
    "\n",
    "나는 내 작품이 아닌 것을 제출하면 이 강좌에서 영원히 불합격으로, 또는 나의 Coursera 계정이 비활성화될 수 있음을 이해합니다. Coursera의 우등 코드에 대하여 더 알아보기"
   ]
  },
  {
   "cell_type": "markdown",
   "metadata": {},
   "source": [
    "incognito 1. 자기 신분을 숨기고, 가명으로  <br>\n",
    "natality 출생률<br>\n",
    "plurality 1. 많은 수   2. (선거에서) 최다 득표수   3. 복수(인 상태)<br>"
   ]
  }
 ],
 "metadata": {
  "kernelspec": {
   "display_name": "Python [conda env:tf20] *",
   "language": "python",
   "name": "conda-env-tf20-py"
  },
  "language_info": {
   "codemirror_mode": {
    "name": "ipython",
    "version": 3
   },
   "file_extension": ".py",
   "mimetype": "text/x-python",
   "name": "python",
   "nbconvert_exporter": "python",
   "pygments_lexer": "ipython3",
   "version": "3.6.9"
  }
 },
 "nbformat": 4,
 "nbformat_minor": 2
}
