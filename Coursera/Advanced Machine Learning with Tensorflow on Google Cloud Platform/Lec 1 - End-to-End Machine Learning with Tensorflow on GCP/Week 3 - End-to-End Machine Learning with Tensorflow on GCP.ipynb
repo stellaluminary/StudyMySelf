{
 "cells": [
  {
   "cell_type": "markdown",
   "metadata": {},
   "source": [
    "# Week 3 - End-to-End Machine Learning with Tensorflow on GCP\n",
    "\n",
    "URL : https://www.coursera.org/learn/end-to-end-ml-tensorflow-gcp/home/week/3"
   ]
  },
  {
   "cell_type": "markdown",
   "metadata": {},
   "source": [
    "# Module Quiz\n",
    "\n",
    "1. Which of these tools are commonly used for data pre-processing?\n",
    "> BigQuery, TensorFlow, Apache Beam, Google Cloud Storage, Bigtable\n",
    ">> Apache Beam(x), \n",
    "BigQuery,Apache Beam(x), \n",
    "BigQuery,Apache Beam, Google Cloud Storage(x),  \n",
    "BigQuery,Google Cloud Storage,(X),\n",
    "BigQuery, Apache Beam, Google Cloud Storage, Bigtable(x), \n",
    "BigQuery, TensorFlow, Apache Beam, Google Cloud Storage(x)\n",
    "TensorFlow, Apache Beam(x)\n",
    "Apache Beam, Google Cloud Storage(x)\n",
    "Apache Beam, Bigtable(x)\n",
    "=> BigQuery, TensorFlow, Apache Beam(O)\n",
    "\n",
    "2. Apache Beam can only be executed on a local environment or using Cloud DataFlow.\n",
    "> False"
   ]
  },
  {
   "cell_type": "markdown",
   "metadata": {},
   "source": [
    "# Module Quiz\n",
    "\n",
    "1. What does the scale-tier represent in CMLE training jobs?\n",
    "\n",
    ">The type of hardware you want your model to run on(O)<br>\n",
    "The number of steps your model should scale to<br>\n",
    "The number of distributed machines your model should use(O)<br>\n",
    "\n",
    "2. What is the purpose of task.py when creating a Python package for ML Engine?\\\n",
    "\n",
    ">To parse command-line parameters and to call the model training logic.(O),<br>\n",
    "It defines the task that will be submitted to ML Engine.<br>\n",
    "It contains the hyperparameters that will be used for model training.<br>\n",
    "None of the above.<br>"
   ]
  },
  {
   "cell_type": "code",
   "execution_count": null,
   "metadata": {},
   "outputs": [],
   "source": []
  }
 ],
 "metadata": {
  "kernelspec": {
   "display_name": "tf20a",
   "language": "python",
   "name": "tf20a"
  },
  "language_info": {
   "codemirror_mode": {
    "name": "ipython",
    "version": 3
   },
   "file_extension": ".py",
   "mimetype": "text/x-python",
   "name": "python",
   "nbconvert_exporter": "python",
   "pygments_lexer": "ipython3",
   "version": "3.6.8"
  }
 },
 "nbformat": 4,
 "nbformat_minor": 2
}
