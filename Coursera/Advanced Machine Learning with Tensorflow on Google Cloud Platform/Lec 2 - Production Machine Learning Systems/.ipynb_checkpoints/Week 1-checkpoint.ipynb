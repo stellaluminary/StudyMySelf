{
 "cells": [
  {
   "cell_type": "markdown",
   "metadata": {},
   "source": [
    "# Week 1\n",
    "\n",
    "data wrangling : 데이터 랭글링(Data Wrangling) 혹은 데이터 먼징(Data Munging)은 원자료(raw data)를 또다른 형태로 수작업으로 전환하거나 매핑하는 과정이다<br>\n",
    "URL : https://ko.wikipedia.org/wiki/%EB%8D%B0%EC%9D%B4%ED%84%B0_%EB%9E%AD%EA%B8%80%EB%A7%81<br>\n",
    "wrangele : 1. (복잡하고 오래 계속되는) 언쟁   2. (보통 오랫동안) 언쟁을 벌이다<br>"
   ]
  },
  {
   "cell_type": "markdown",
   "metadata": {},
   "source": [
    "## Quiz : What percent of system code does the ML model account for?\n",
    ">5%\n"
   ]
  },
  {
   "cell_type": "markdown",
   "metadata": {},
   "source": [
    "https://qwiklabs-gcp-067d3f764bd20803.appspot.com/form"
   ]
  },
  {
   "cell_type": "markdown",
   "metadata": {},
   "source": [
    ">Fashion\n",
    "\n",
    "2. Is the distribution of prediction requests likely to be more peaked or more flat?\n",
    "> peaked\n",
    "\n",
    "3. Is the cardinality of the set of all prediction requests likely to be low, moderate, high, need more info?\n",
    "> need more info\n",
    "\n",
    "집합의 cardinality 는 그 집합의 원소의 개수\n",
    "\n",
    "4. What does the cardinality of traffic requests depend on? (Choose all that apply)\n",
    "> Historical traffic data, Problem framing, not Variance of Traffic Levels"
   ]
  },
  {
   "cell_type": "markdown",
   "metadata": {},
   "source": [
    "# Architecting Production ML Systems\n",
    "\n",
    "1. What percent of system code does the ML model account for?\n",
    "> 5%\n",
    "\n",
    "2. For data analysis, what is one common way to uncover bugs?\n",
    "> Understanding the distribution of your data to check if upstream data sources have changed,<br>\n",
    "Understanding the velocity of your data upstream to see if upstream data sources have changed (i.e. you are no longer receiving data or your data is stale), <br>\n",
    "Understanding the variety of your data upstream to see if your upstream data sources have changed (i.e. your ML pipeline is breaking because expected fields are no longer there), <br>\n",
    "All of the above, \n",
    ">> All of the above\n",
    "3. Match the three types of data ingest with an appropriate source of training data\n",
    "> Streaming (Pub/Sub), structured batch (BigQuery), unstructured batch (Cloud Storage)\n",
    "\n",
    "4. How does the key performance consideration differ between training and prediction?\n",
    "> During training, you care about time to train the model to a desired accuracy; during prediction, you care about queries-per-second."
   ]
  },
  {
   "cell_type": "markdown",
   "metadata": {},
   "source": [
    "# Ingesting data for Cloud-based analytics and ML\n",
    "\n",
    "1. If your data currently resides in other databases or data warehouses, what are some common ways to bring it into BigQuery? (Select all that apply)\n",
    "> BigQuery Transfer Service, Upload the data into GCS and then ingest it into BigQuery, Upload the databases to Google Drive and setup a federated connection to BigQuery\n",
    ">> BigQuery Transfer Service, Upload the data into GCS and then ingest it into BigQuery\n",
    "\n",
    "2. What is the fully-managed orchestration service available on GCP that can be triggered by events or at set intervals?\n",
    "> Cloud Composer (managed Apache AirFlow)\n",
    "\n",
    "3. What can you do when uploading large volumes of files using gsutil to speed up the transfer?\n",
    "> Ensure the -m multithreaded flag is set\n",
    "\n",
    "4. When should you consider using Cloud Transfer Appliance to load your data in GCP? (Select all that apply)\n",
    "> If you have 60+TB to load, If you have 1TB+ data and a 10 Mbps network, If online transfer would take more than a week, If you have less than 10TB to load but a slow network connection (less than 10 Mbps)\n"
   ]
  },
  {
   "cell_type": "code",
   "execution_count": null,
   "metadata": {},
   "outputs": [],
   "source": []
  },
  {
   "cell_type": "markdown",
   "metadata": {},
   "source": [
    "<br>"
   ]
  }
 ],
 "metadata": {
  "kernelspec": {
   "display_name": "tf20a",
   "language": "python",
   "name": "tf20a"
  },
  "language_info": {
   "codemirror_mode": {
    "name": "ipython",
    "version": 3
   },
   "file_extension": ".py",
   "mimetype": "text/x-python",
   "name": "python",
   "nbconvert_exporter": "python",
   "pygments_lexer": "ipython3",
   "version": "3.6.8"
  }
 },
 "nbformat": 4,
 "nbformat_minor": 2
}
