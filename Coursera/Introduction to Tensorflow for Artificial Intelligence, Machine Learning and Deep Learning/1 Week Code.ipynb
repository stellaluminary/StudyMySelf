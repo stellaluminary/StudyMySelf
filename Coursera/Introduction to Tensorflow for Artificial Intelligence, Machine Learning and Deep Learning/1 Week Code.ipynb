{
 "cells": [
  {
   "cell_type": "code",
   "execution_count": 1,
   "metadata": {},
   "outputs": [
    {
     "name": "stderr",
     "output_type": "stream",
     "text": [
      "Using TensorFlow backend.\n"
     ]
    }
   ],
   "source": [
    "import keras\n",
    "\n",
    "model = keras.Sequential([keras.layers.Dense(units=1, input_shape=[1])])"
   ]
  },
  {
   "cell_type": "code",
   "execution_count": 2,
   "metadata": {},
   "outputs": [],
   "source": [
    "model.compile(optimizer='sgd', loss='mean_squared_error')"
   ]
  },
  {
   "cell_type": "code",
   "execution_count": 3,
   "metadata": {},
   "outputs": [],
   "source": [
    "import numpy as np\n",
    "xs=np.array([-1., 0., 1., 2., 3., 4.], dtype=float)\n",
    "ys=np.array([-3., -1., 1., 3., 5., 7.], dtype=float)"
   ]
  },
  {
   "cell_type": "code",
   "execution_count": 4,
   "metadata": {},
   "outputs": [
    {
     "name": "stdout",
     "output_type": "stream",
     "text": [
      "Epoch 1/50\n",
      "6/6 [==============================] - 1s 169ms/step - loss: 6.1056\n",
      "Epoch 2/50\n",
      "6/6 [==============================] - 0s 333us/step - loss: 4.9872\n",
      "Epoch 3/50\n",
      "6/6 [==============================] - 0s 499us/step - loss: 4.1036\n",
      "Epoch 4/50\n",
      "6/6 [==============================] - 0s 332us/step - loss: 3.4047\n",
      "Epoch 5/50\n",
      "6/6 [==============================] - 0s 499us/step - loss: 2.8512\n",
      "Epoch 6/50\n",
      "6/6 [==============================] - 0s 499us/step - loss: 2.4122\n",
      "Epoch 7/50\n",
      "6/6 [==============================] - 0s 332us/step - loss: 2.0633\n",
      "Epoch 8/50\n",
      "6/6 [==============================] - 0s 499us/step - loss: 1.7855\n",
      "Epoch 9/50\n",
      "6/6 [==============================] - 0s 498us/step - loss: 1.5635\n",
      "Epoch 10/50\n",
      "6/6 [==============================] - 0s 499us/step - loss: 1.3857\n",
      "Epoch 11/50\n",
      "6/6 [==============================] - 0s 498us/step - loss: 1.2425\n",
      "Epoch 12/50\n",
      "6/6 [==============================] - 0s 665us/step - loss: 1.1268\n",
      "Epoch 13/50\n",
      "6/6 [==============================] - 0s 498us/step - loss: 1.0327\n",
      "Epoch 14/50\n",
      "6/6 [==============================] - 0s 498us/step - loss: 0.9556\n",
      "Epoch 15/50\n",
      "6/6 [==============================] - 0s 499us/step - loss: 0.8920\n",
      "Epoch 16/50\n",
      "6/6 [==============================] - 0s 332us/step - loss: 0.8391\n",
      "Epoch 17/50\n",
      "6/6 [==============================] - 0s 499us/step - loss: 0.7947\n",
      "Epoch 18/50\n",
      "6/6 [==============================] - 0s 494us/step - loss: 0.7570\n",
      "Epoch 19/50\n",
      "6/6 [==============================] - 0s 665us/step - loss: 0.7246\n",
      "Epoch 20/50\n",
      "6/6 [==============================] - 0s 500us/step - loss: 0.6965\n",
      "Epoch 21/50\n",
      "6/6 [==============================] - 0s 331us/step - loss: 0.6718\n",
      "Epoch 22/50\n",
      "6/6 [==============================] - 0s 665us/step - loss: 0.6498\n",
      "Epoch 23/50\n",
      "6/6 [==============================] - 0s 665us/step - loss: 0.6300\n",
      "Epoch 24/50\n",
      "6/6 [==============================] - 0s 499us/step - loss: 0.6120\n",
      "Epoch 25/50\n",
      "6/6 [==============================] - 0s 499us/step - loss: 0.5954\n",
      "Epoch 26/50\n",
      "6/6 [==============================] - 0s 332us/step - loss: 0.5800\n",
      "Epoch 27/50\n",
      "6/6 [==============================] - 0s 499us/step - loss: 0.5656\n",
      "Epoch 28/50\n",
      "6/6 [==============================] - 0s 332us/step - loss: 0.5521\n",
      "Epoch 29/50\n",
      "6/6 [==============================] - 0s 332us/step - loss: 0.5392\n",
      "Epoch 30/50\n",
      "6/6 [==============================] - 0s 499us/step - loss: 0.5269\n",
      "Epoch 31/50\n",
      "6/6 [==============================] - 0s 332us/step - loss: 0.5152\n",
      "Epoch 32/50\n",
      "6/6 [==============================] - 0s 332us/step - loss: 0.5038\n",
      "Epoch 33/50\n",
      "6/6 [==============================] - 0s 332us/step - loss: 0.4929\n",
      "Epoch 34/50\n",
      "6/6 [==============================] - 0s 332us/step - loss: 0.4823\n",
      "Epoch 35/50\n",
      "6/6 [==============================] - 0s 499us/step - loss: 0.4720\n",
      "Epoch 36/50\n",
      "6/6 [==============================] - 0s 332us/step - loss: 0.4621\n",
      "Epoch 37/50\n",
      "6/6 [==============================] - 0s 333us/step - loss: 0.4523\n",
      "Epoch 38/50\n",
      "6/6 [==============================] - 0s 332us/step - loss: 0.4429\n",
      "Epoch 39/50\n",
      "6/6 [==============================] - 0s 332us/step - loss: 0.4336\n",
      "Epoch 40/50\n",
      "6/6 [==============================] - 0s 166us/step - loss: 0.4246\n",
      "Epoch 41/50\n",
      "6/6 [==============================] - 0s 332us/step - loss: 0.4158\n",
      "Epoch 42/50\n",
      "6/6 [==============================] - 0s 332us/step - loss: 0.4072\n",
      "Epoch 43/50\n",
      "6/6 [==============================] - 0s 665us/step - loss: 0.3988\n",
      "Epoch 44/50\n",
      "6/6 [==============================] - 0s 333us/step - loss: 0.3906\n",
      "Epoch 45/50\n",
      "6/6 [==============================] - 0s 498us/step - loss: 0.3825\n",
      "Epoch 46/50\n",
      "6/6 [==============================] - 0s 332us/step - loss: 0.3746\n",
      "Epoch 47/50\n",
      "6/6 [==============================] - 0s 333us/step - loss: 0.3669\n",
      "Epoch 48/50\n",
      "6/6 [==============================] - 0s 332us/step - loss: 0.3593\n",
      "Epoch 49/50\n",
      "6/6 [==============================] - 0s 166us/step - loss: 0.3520\n",
      "Epoch 50/50\n",
      "6/6 [==============================] - 0s 332us/step - loss: 0.3447\n"
     ]
    },
    {
     "data": {
      "text/plain": [
       "<keras.callbacks.History at 0x226c471ac88>"
      ]
     },
     "execution_count": 4,
     "metadata": {},
     "output_type": "execute_result"
    }
   ],
   "source": [
    "model.fit(xs, ys, epochs=50)"
   ]
  },
  {
   "cell_type": "code",
   "execution_count": 5,
   "metadata": {},
   "outputs": [
    {
     "name": "stdout",
     "output_type": "stream",
     "text": [
      "[[17.263771]]\n"
     ]
    }
   ],
   "source": [
    "print(model.predict([10.]))"
   ]
  },
  {
   "cell_type": "markdown",
   "metadata": {},
   "source": [
    "# CS\n",
    "GitHub Link : https://github.com/lmoroney/dlaicourse/blob/master/Course%201%20-%20Part%202%20-%20Lesson%202%20-%20Notebook.ipynb\n",
    "CoLab Link : https://colab.research.google.com/github/lmoroney/dlaicourse/blob/master/Course%201%20-%20Part%202%20-%20Lesson%202%20-%20Notebook.ipynb"
   ]
  },
  {
   "cell_type": "markdown",
   "metadata": {},
   "source": [
    "# Week 1 Quiz - Guess\n",
    "\n",
    "1. The diagram for traditional programming had Rules and Data In, but what came out?\n",
    ">Option: Binary / Answer / Machine Learning / Bugs \n",
    ">>Answer\n",
    "2. The diagram for Machine Learning had Answers and Data In, but what came out?\n",
    ">Option: Models / Bugs / Binary / Rules \n",
    ">>Rules\n",
    "3. When I tell a computer what the data represents (i.e. this data is for walking, this data is for running), what is that process called?\n",
    ">Option: Categorizaing the Data / Programming Data / Learning the Data / Labelling the Data \n",
    ">> Programming Data\n",
    "4. What is a Dense?\n",
    ">Option: A single neuron / A layer of disconnected neurons / A layer of connected neurons / Mass over Volume\n",
    ">>  A layer of connected neurons\n",
    "5. What does a Loss function do?\n",
    ">Option: Generates a guess / Measures how good the current'guess is / Figure out if you win or lose / Decides to stop training neural network\n",
    ">> Measures how good the current'guess is\n",
    "6. What does the optimizer do\n",
    ">Option: Measures how good the current'guess is / Figure out how to efficiently compile your code / Generate a new and improved guess / Decides to stop training a neural network\n",
    ">> Generate a new and improved guess\n",
    "7. What is Convergence\n",
    ">Option: The bad guys in the next 'Star Wars' movie / A dramatic increase in loss / A programming API for AI / The process of getting very close to the correct answer\n",
    ">> The process of getting very close to the correct answer\n",
    "8. What does model.fit do?\n",
    ">Option: It trains the neural network to fit one set of values to another / It determines if your activity is good for your body / It optimizes an existing model / It makes a model fit available memory\n",
    ">>It trains the neural network to fit one set of values to another"
   ]
  },
  {
   "cell_type": "markdown",
   "metadata": {},
   "source": [
    "# Exercise"
   ]
  },
  {
   "cell_type": "code",
   "execution_count": 6,
   "metadata": {},
   "outputs": [
    {
     "name": "stdout",
     "output_type": "stream",
     "text": [
      "[[4.0034885]]\n"
     ]
    }
   ],
   "source": [
    "import tensorflow as tf\n",
    "import numpy as np\n",
    "from tensorflow import keras\n",
    "\n",
    "model = keras.Sequential([keras.layers.Dense(units=1, input_shape=[1])])\n",
    "model.compile(loss='mse', optimizer='sgd' )\n",
    "xs = np.array([1.,2.,3.,4.,5.,6.], dtype='float')\n",
    "ys = np.array([1.,1.5,2.0,2.5,3.0, 3.5], dtype='float')\n",
    "model.fit(xs, ys, epochs=1000, verbose=0)\n",
    "print(model.predict([7.0]))"
   ]
  },
  {
   "cell_type": "markdown",
   "metadata": {},
   "source": [
    "참조 즐길거리 : http://playground.tensorflow.org/#activation=tanh&batchSize=10&dataset=circle&regDataset=reg-plane&learningRate=0.03&regularizationRate=0&noise=0&networkShape=4,2&seed=0.95744&showTestData=false&discretize=false&percTrainData=50&x=true&y=true&xTimesY=false&xSquared=false&ySquared=false&cosX=false&sinX=false&cosY=false&sinY=false&collectStats=false&problem=classification&initZero=false&hideText=false"
   ]
  },
  {
   "cell_type": "markdown",
   "metadata": {},
   "source": [
    "GitHub ALL Course Exercise : https://github.com/lmoroney/dlaicourse"
   ]
  }
 ],
 "metadata": {
  "kernelspec": {
   "display_name": "Python [conda env:tf20] *",
   "language": "python",
   "name": "conda-env-tf20-py"
  },
  "language_info": {
   "codemirror_mode": {
    "name": "ipython",
    "version": 3
   },
   "file_extension": ".py",
   "mimetype": "text/x-python",
   "name": "python",
   "nbconvert_exporter": "python",
   "pygments_lexer": "ipython3",
   "version": "3.6.9"
  }
 },
 "nbformat": 4,
 "nbformat_minor": 2
}
