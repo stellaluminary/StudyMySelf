{
 "cells": [
  {
   "cell_type": "markdown",
   "metadata": {},
   "source": [
    "# 5.1 PassingCars"
   ]
  },
  {
   "cell_type": "code",
   "execution_count": null,
   "metadata": {
    "collapsed": true
   },
   "outputs": [],
   "source": [
    "def solution(A):\n",
    "    index_zero = [i for i, x in enumerate(A) if x == 0]\n",
    "    result = 0\n",
    "    for i in index_zero:\n",
    "        result += A[i+1:].count(1)\n",
    "\n",
    "    if result > 1000000000:\n",
    "        return -1\n",
    "    return result"
   ]
  },
  {
   "cell_type": "code",
   "execution_count": 3,
   "metadata": {
    "collapsed": false
   },
   "outputs": [
    {
     "name": "stdout",
     "output_type": "stream",
     "text": [
      "[0, 2]\n",
      "5\n"
     ]
    }
   ],
   "source": [
    "A=[0,1,0,1,1]\n",
    "index_zero = [i for i, x in enumerate(A) if x == 0]\n",
    "print(index_zero)\n",
    "result = 0\n",
    "for i in index_zero:\n",
    "    result += A[i+1:].count(1)\n",
    "print(result)"
   ]
  },
  {
   "cell_type": "code",
   "execution_count": 1,
   "metadata": {
    "collapsed": true
   },
   "outputs": [],
   "source": [
    "A=[0,1,0,1,1]"
   ]
  },
  {
   "cell_type": "code",
   "execution_count": 3,
   "metadata": {
    "collapsed": true
   },
   "outputs": [],
   "source": [
    "east_zero_li=[]\n",
    "west_one_li=[]\n",
    "\n",
    "for i in range(len(A)):\n",
    "    if A[i] == 0:\n",
    "        east_zero_li.append(i)\n",
    "    else:\n",
    "        west_one_li.append(i)"
   ]
  },
  {
   "cell_type": "code",
   "execution_count": 4,
   "metadata": {
    "collapsed": false
   },
   "outputs": [
    {
     "data": {
      "text/plain": [
       "[0, 2]"
      ]
     },
     "execution_count": 4,
     "metadata": {},
     "output_type": "execute_result"
    }
   ],
   "source": [
    "east_zero_li"
   ]
  },
  {
   "cell_type": "code",
   "execution_count": 5,
   "metadata": {
    "collapsed": false
   },
   "outputs": [
    {
     "data": {
      "text/plain": [
       "[1, 3, 4]"
      ]
     },
     "execution_count": 5,
     "metadata": {},
     "output_type": "execute_result"
    }
   ],
   "source": [
    "west_one_li"
   ]
  },
  {
   "cell_type": "code",
   "execution_count": 9,
   "metadata": {
    "collapsed": false
   },
   "outputs": [
    {
     "name": "stdout",
     "output_type": "stream",
     "text": [
      "5\n"
     ]
    }
   ],
   "source": [
    "count=0\n",
    "\n",
    "for zero in east_zero_li:\n",
    "    for one in west_one_li:\n",
    "        if zero < one:\n",
    "            count += 1\n",
    "print(count)"
   ]
  },
  {
   "cell_type": "code",
   "execution_count": null,
   "metadata": {
    "collapsed": true
   },
   "outputs": [],
   "source": [
    "#총 합\n",
    "east_zero_li=[]\n",
    "west_one_li=[]\n",
    "\n",
    "for i in range(len(A)):\n",
    "    if A[i] == 0:\n",
    "        east_zero_li.append(i)\n",
    "    else:\n",
    "        west_one_li.append(i)\n",
    "count=0\n",
    "for zero in east_zero_li:\n",
    "    for one in west_one_li:\n",
    "        if zero < one:\n",
    "            count += 1\n",
    "return count"
   ]
  },
  {
   "cell_type": "code",
   "execution_count": null,
   "metadata": {
    "collapsed": true
   },
   "outputs": [],
   "source": [
    "def solution(A):\n",
    "    # write your code in Python 3.6\n",
    "    east_zero_li=[]\n",
    "    west_one_li=[]\n",
    "    count=0\n",
    "    \n",
    "    for i in range(len(A)):\n",
    "        if A[i] == 0:\n",
    "            east_zero_li.append(i)\n",
    "        else:\n",
    "            west_one_li.append(i)\n",
    "    \n",
    "    for zero in east_zero_li:\n",
    "        for one in west_one_li:\n",
    "            if zero < one:\n",
    "                count += 1\n",
    "    \n",
    "    if count > 1000000000:\n",
    "        return -1\n",
    "        \n",
    "    return count"
   ]
  },
  {
   "cell_type": "code",
   "execution_count": 10,
   "metadata": {
    "collapsed": true
   },
   "outputs": [],
   "source": [
    "#Final\n",
    "def solution(A):\n",
    "    # write your code in Python 3.6\n",
    "    \n",
    "    west=0\n",
    "    passing=0\n",
    "    \n",
    "    for i in range(len(A)-1,-1,-1):\n",
    "        if A[i]==0:\n",
    "            passing += west\n",
    "            \n",
    "        else:\n",
    "            west += 1\n",
    "            \n",
    "    if passing > 1000000000:\n",
    "        return -1\n",
    "    return passing"
   ]
  },
  {
   "cell_type": "markdown",
   "metadata": {
    "collapsed": true
   },
   "source": [
    "# 5.2 GenomicRangeQuery "
   ]
  },
  {
   "cell_type": "code",
   "execution_count": 11,
   "metadata": {
    "collapsed": true
   },
   "outputs": [],
   "source": [
    "S='CAGCCTA'"
   ]
  },
  {
   "cell_type": "code",
   "execution_count": 22,
   "metadata": {
    "collapsed": false
   },
   "outputs": [
    {
     "data": {
      "text/plain": [
       "['C', 'A', 'G', 'C', 'C', 'T', 'A']"
      ]
     },
     "execution_count": 22,
     "metadata": {},
     "output_type": "execute_result"
    }
   ],
   "source": [
    "char=[]\n",
    "char.extend(S)\n",
    "char"
   ]
  },
  {
   "cell_type": "code",
   "execution_count": 23,
   "metadata": {
    "collapsed": false
   },
   "outputs": [
    {
     "data": {
      "text/plain": [
       "[2, 1, 3, 2, 2, 4, 1]"
      ]
     },
     "execution_count": 23,
     "metadata": {},
     "output_type": "execute_result"
    }
   ],
   "source": [
    "genedic={'A':1,'C':2,'G':3, 'T':4}\n",
    "genenum=[]\n",
    "for i in char:\n",
    "    genenum.append(genedic[i])\n",
    "genenum"
   ]
  },
  {
   "cell_type": "code",
   "execution_count": 24,
   "metadata": {
    "collapsed": true
   },
   "outputs": [],
   "source": [
    "P=[2,5,0]\n",
    "Q=[4,5,6]"
   ]
  },
  {
   "cell_type": "code",
   "execution_count": 26,
   "metadata": {
    "collapsed": false
   },
   "outputs": [
    {
     "data": {
      "text/plain": [
       "[2, 4, 1]"
      ]
     },
     "execution_count": 26,
     "metadata": {},
     "output_type": "execute_result"
    }
   ],
   "source": [
    "Kchecknum=[]\n",
    "tmp=[]\n",
    "for M in range(len(P)):\n",
    "    Kchecknum.append(min(genenum[P[M]:Q[M]+1]))\n",
    "Kchecknum"
   ]
  },
  {
   "cell_type": "code",
   "execution_count": 27,
   "metadata": {
    "collapsed": false
   },
   "outputs": [
    {
     "data": {
      "text/plain": [
       "[2, 1, 3, 2, 2, 4, 1]"
      ]
     },
     "execution_count": 27,
     "metadata": {},
     "output_type": "execute_result"
    }
   ],
   "source": [
    "genenum[0:7]"
   ]
  },
  {
   "cell_type": "code",
   "execution_count": 28,
   "metadata": {
    "collapsed": true
   },
   "outputs": [],
   "source": [
    "def solution(S, P, Q):\n",
    "    # write your code in Python 3.6\n",
    "    char=[]\n",
    "    char.extend(S)\n",
    "    \n",
    "    genedic={'A':1,'C':2,'G':3, 'T':4}\n",
    "    genenum=[]\n",
    "    for i in char:\n",
    "        genenum.append(genedic[i])\n",
    "    \n",
    "    minnum=min(genenum)\n",
    "    Kchecknum=[]\n",
    "    for M in range(len(P)):\n",
    "        if P[M] == Q[M]:\n",
    "            Kchecknum.append(genenum[P[M]])\n",
    "        elif Q[M]-P[M]+1 == len(genenum):\n",
    "            Kchecknum.append(minnum)\n",
    "        else:\n",
    "            Kchecknum.append(min(genenum[P[M]:Q[M]+1]))\n",
    "    \n",
    "    return Kchecknum"
   ]
  },
  {
   "cell_type": "code",
   "execution_count": null,
   "metadata": {
    "collapsed": true
   },
   "outputs": [],
   "source": [
    "def solution(S, P, Q):\n",
    "\n",
    "    count = []\n",
    "    for i in range(3):\n",
    "        count.append([0]*(len(S)+1))\n",
    "\n",
    "    for index, i in enumerate(S):\n",
    "        count[0][index+1] = count[0][index] + ( i =='A')\n",
    "        count[1][index+1] = count[1][index] + ( i =='C')\n",
    "        count[2][index+1] = count[2][index] + ( i =='G')\n",
    "\n",
    "    result = []\n",
    "\n",
    "    for i in range(len(P)):\n",
    "        start = P[i]\n",
    "        end = Q[i]+1\n",
    "\n",
    "        if count[0][end] - count[0][start]:\n",
    "            result.append(1)\n",
    "        elif count[1][end] - count[1][start]:\n",
    "            result.append(2)\n",
    "        elif count[2][end] - count[2][start]:\n",
    "            result.append(3)\n",
    "        else:\n",
    "            result.append(4)\n",
    "\n",
    "    return result"
   ]
  },
  {
   "cell_type": "code",
   "execution_count": 31,
   "metadata": {
    "collapsed": false
   },
   "outputs": [
    {
     "name": "stdout",
     "output_type": "stream",
     "text": [
      "0 C\n",
      "1 A\n",
      "2 G\n",
      "3 C\n",
      "4 C\n",
      "5 T\n",
      "6 A\n"
     ]
    },
    {
     "data": {
      "text/plain": [
       "[[0, 0, 1, 1, 1, 1, 1, 2], [0, 1, 1, 1, 2, 3, 3, 3], [0, 0, 0, 1, 1, 1, 1, 1]]"
      ]
     },
     "execution_count": 31,
     "metadata": {},
     "output_type": "execute_result"
    }
   ],
   "source": [
    "S='CAGCCTA'\n",
    "count = []\n",
    "for i in range(3):\n",
    "    count.append([0]*(len(S)+1))\n",
    "\n",
    "for index, i in enumerate(S):\n",
    "    print(index,i)\n",
    "    count[0][index+1] = count[0][index] + ( i =='A')\n",
    "    count[1][index+1] = count[1][index] + ( i =='C')\n",
    "    count[2][index+1] = count[2][index] + ( i =='G')\n",
    "count"
   ]
  },
  {
   "cell_type": "code",
   "execution_count": 33,
   "metadata": {
    "collapsed": false
   },
   "outputs": [
    {
     "name": "stdout",
     "output_type": "stream",
     "text": [
      "2 5\n",
      "5 6\n",
      "0 7\n",
      "[2, 4, 1]\n"
     ]
    }
   ],
   "source": [
    "result = []\n",
    "for i in range(len(P)):\n",
    "    start = P[i]\n",
    "    end = Q[i]+1\n",
    "\n",
    "    print(start, end)\n",
    "\n",
    "    if count[0][end] - count[0][start]:\n",
    "        result.append(1)\n",
    "    elif count[1][end] - count[1][start]:\n",
    "        result.append(2)\n",
    "    elif count[2][end] - count[2][start]:\n",
    "        result.append(3)\n",
    "    else:\n",
    "        result.append(4)\n",
    "        \n",
    "print(result)"
   ]
  },
  {
   "cell_type": "code",
   "execution_count": 34,
   "metadata": {
    "collapsed": false
   },
   "outputs": [
    {
     "name": "stdout",
     "output_type": "stream",
     "text": [
      "7 [[-1, -1, -1, -1, -1, -1, -1], [-1, -1, -1, -1, -1, -1, -1], [-1, -1, -1, -1, -1, -1, -1], [-1, -1, -1, -1, -1, -1, -1]]\n",
      "7 [[-1, -1, -1, -1, -1, -1, 6], [-1, -1, -1, -1, -1, -1, -1], [-1, -1, -1, -1, -1, -1, -1], [-1, -1, -1, -1, -1, -1, -1]]\n",
      "[[1, 1, 6, 6, 6, 6, 6], [0, 3, 3, 3, 4, -1, -1], [2, 2, 2, -1, -1, -1, -1], [5, 5, 5, 5, 5, 5, -1]]\n",
      "[2, 4, 1]\n"
     ]
    }
   ],
   "source": [
    "\n",
    "result = []\n",
    "DNA_len = len(S)\n",
    "mapping = {\"A\":1, \"C\":2, \"G\":3, \"T\":4}\n",
    "next_nucl = [[-1]*DNA_len, [-1]*DNA_len, [-1]*DNA_len, [-1]*DNA_len]\n",
    "print(DNA_len, next_nucl)\n",
    "next_nucl[mapping[S[-1]] - 1][-1] = DNA_len-1\n",
    "print(DNA_len, next_nucl)\n",
    "\n",
    "for index in range(DNA_len-2,-1,-1):\n",
    "    next_nucl[0][index] = next_nucl[0][index+1]\n",
    "    next_nucl[1][index] = next_nucl[1][index+1]\n",
    "    next_nucl[2][index] = next_nucl[2][index+1]\n",
    "    next_nucl[3][index] = next_nucl[3][index+1]\n",
    "    next_nucl[mapping[S[index]] - 1][index] = index\n",
    "    \n",
    "print(next_nucl)\n",
    "\n",
    "for index in range(0,len(P)):\n",
    "    if next_nucl[0][P[index]] != -1 and next_nucl[0][P[index]] <= Q[index]:\n",
    "        result.append(1)\n",
    "    elif next_nucl[1][P[index]] != -1 and next_nucl[1][P[index]] <= Q[index]:\n",
    "        result.append(2)\n",
    "    elif next_nucl[2][P[index]] != -1 and next_nucl[2][P[index]] <= Q[index]:\n",
    "        result.append(3)\n",
    "    else:\n",
    "        result.append(4)\n",
    "print(result)\n",
    "\n"
   ]
  },
  {
   "cell_type": "markdown",
   "metadata": {},
   "source": [
    "# 5.3 MinAvgTwoSlice"
   ]
  },
  {
   "cell_type": "markdown",
   "metadata": {},
   "source": [
    "##### 5.3.1"
   ]
  },
  {
   "cell_type": "code",
   "execution_count": 76,
   "metadata": {
    "collapsed": true
   },
   "outputs": [],
   "source": [
    "A=[4,2,2,5,1,5,8]"
   ]
  },
  {
   "cell_type": "code",
   "execution_count": 42,
   "metadata": {
    "collapsed": false
   },
   "outputs": [
    {
     "data": {
      "text/plain": [
       "(1, 7)"
      ]
     },
     "execution_count": 42,
     "metadata": {},
     "output_type": "execute_result"
    }
   ],
   "source": [
    "min(A),len(A)"
   ]
  },
  {
   "cell_type": "code",
   "execution_count": 82,
   "metadata": {
    "collapsed": true
   },
   "outputs": [],
   "source": [
    "A=[-1,1]"
   ]
  },
  {
   "cell_type": "code",
   "execution_count": 85,
   "metadata": {
    "collapsed": true
   },
   "outputs": [],
   "source": [
    "A=[3,-1,1,0,-2,2]"
   ]
  },
  {
   "cell_type": "code",
   "execution_count": 99,
   "metadata": {
    "collapsed": true
   },
   "outputs": [],
   "source": [
    "A=[1,-2,3,-4,-5,10,-7,-8]"
   ]
  },
  {
   "cell_type": "code",
   "execution_count": 100,
   "metadata": {
    "collapsed": false
   },
   "outputs": [
    {
     "name": "stdout",
     "output_type": "stream",
     "text": [
      "-7.5 6\n"
     ]
    }
   ],
   "source": [
    "minAvg=None\n",
    "minAvgIndex=None\n",
    "fomula=None\n",
    "\n",
    "for i in range(2,len(A)+1):\n",
    "    for j in range(len(A)+1-i):\n",
    "        fomula = sum(A[j:j+i])/ i\n",
    "        #print('j~j+i-1: ',j,j+i-1,', sum:',sum(A[j:j+i]),', i:',i,', formula:', fomula)\n",
    "                \n",
    "        if minAvg == None:\n",
    "            minAvg = fomula\n",
    "            minAvgIndex=j\n",
    "            \n",
    "        if minAvg > fomula:\n",
    "            minAvg=fomula\n",
    "            minAvgIndex=j\n",
    "            \n",
    "print(minAvg, minAvgIndex)\n",
    "        "
   ]
  },
  {
   "cell_type": "code",
   "execution_count": 65,
   "metadata": {
    "collapsed": false
   },
   "outputs": [
    {
     "data": {
      "text/plain": [
       "0.5"
      ]
     },
     "execution_count": 65,
     "metadata": {},
     "output_type": "execute_result"
    }
   ],
   "source": [
    "sum(A[1:3])/2"
   ]
  },
  {
   "cell_type": "markdown",
   "metadata": {},
   "source": [
    "##### 5.3.2"
   ]
  },
  {
   "cell_type": "code",
   "execution_count": 97,
   "metadata": {
    "collapsed": true
   },
   "outputs": [],
   "source": [
    "A=[4,2,2,5,1,5,8]"
   ]
  },
  {
   "cell_type": "code",
   "execution_count": 91,
   "metadata": {
    "collapsed": false
   },
   "outputs": [
    {
     "name": "stdout",
     "output_type": "stream",
     "text": [
      "0 1 -1 -0.5\n",
      "0 2 2 0.6666666666666666\n",
      "0 3 -2 -0.5\n",
      "0 4 -7 -1.4\n",
      "0 5 3 0.5\n",
      "0 6 -4 -0.5714285714285714\n",
      "0 7 -12 -1.5\n",
      "1 2 1 0.5\n",
      "1 3 -3 -1.0\n",
      "1 4 -8 -2.0\n",
      "1 5 2 0.4\n",
      "1 6 -5 -0.8333333333333334\n",
      "1 7 -13 -1.8571428571428572\n",
      "2 3 -1 -0.5\n",
      "2 4 -6 -2.0\n",
      "2 5 4 1.0\n",
      "2 6 -3 -0.6\n",
      "2 7 -11 -1.8333333333333333\n",
      "3 4 -9 -4.5\n",
      "3 5 1 0.3333333333333333\n",
      "3 6 -6 -1.5\n",
      "3 7 -14 -2.8\n",
      "4 5 5 2.5\n",
      "4 6 -2 -0.6666666666666666\n",
      "4 7 -10 -2.5\n",
      "5 6 3 1.5\n",
      "5 7 -5 -1.6666666666666667\n",
      "6 7 -15 -7.5\n",
      "-7.5 6\n"
     ]
    }
   ],
   "source": [
    "minAvg=sum(A[0:2])/ 2\n",
    "minAvgIndex=0\n",
    "fomula=None\n",
    "divNum=2\n",
    "\n",
    "for i in range(len(A)-1): #index\n",
    "    sumNum=A[i]\n",
    "    divNum=2\n",
    "    for j in range(i+1,len(A)):#extend\n",
    "        sumNum += A[j]\n",
    "        avgNum = sumNum / divNum\n",
    "        divNum += 1\n",
    "        \n",
    "        print(i,j, sumNum, avgNum)\n",
    "        \n",
    "        if avgNum < minAvg:\n",
    "            minAvg = avgNum\n",
    "            minAvgIndex = i\n",
    "            \n",
    "print(minAvg, minAvgIndex)   "
   ]
  },
  {
   "cell_type": "markdown",
   "metadata": {},
   "source": [
    "##### 5.3.3"
   ]
  },
  {
   "cell_type": "code",
   "execution_count": 102,
   "metadata": {
    "collapsed": true
   },
   "outputs": [],
   "source": [
    "def solution(A):\n",
    "    min_idx = 0\n",
    "    min_value = 10001\n",
    " \n",
    "    for idx in range(0, len(A)-1):\n",
    "        if (A[idx] + A[idx+1])/2.0 < min_value:\n",
    "            min_idx = idx\n",
    "            min_value = (A[idx] + A[idx+1])/2.0\n",
    "        if idx < len(A)-2 and (A[idx] + A[idx+1] + A[idx+2])/3.0 < min_value:\n",
    "            min_idx = idx\n",
    "            min_value = (A[idx] + A[idx+1] + A[idx+2])/3.0\n",
    " \n",
    "    return min_idx\n"
   ]
  },
  {
   "cell_type": "code",
   "execution_count": 93,
   "metadata": {
    "collapsed": false
   },
   "outputs": [
    {
     "ename": "NameError",
     "evalue": "name 'xrange' is not defined",
     "output_type": "error",
     "traceback": [
      "\u001b[0;31m---------------------------------------------------------------------------\u001b[0m",
      "\u001b[0;31mNameError\u001b[0m                                 Traceback (most recent call last)",
      "\u001b[0;32m<ipython-input-93-3a0838781cb2>\u001b[0m in \u001b[0;36m<module>\u001b[0;34m()\u001b[0m\n\u001b[0;32m----> 1\u001b[0;31m \u001b[0msolution\u001b[0m\u001b[1;33m(\u001b[0m\u001b[0mA\u001b[0m\u001b[1;33m)\u001b[0m\u001b[1;33m\u001b[0m\u001b[0m\n\u001b[0m",
      "\u001b[0;32m<ipython-input-92-a46cd70efc66>\u001b[0m in \u001b[0;36msolution\u001b[0;34m(A)\u001b[0m\n\u001b[1;32m      3\u001b[0m     \u001b[0mmin_value\u001b[0m \u001b[1;33m=\u001b[0m \u001b[1;36m10001\u001b[0m\u001b[1;33m\u001b[0m\u001b[0m\n\u001b[1;32m      4\u001b[0m \u001b[1;33m\u001b[0m\u001b[0m\n\u001b[0;32m----> 5\u001b[0;31m     \u001b[1;32mfor\u001b[0m \u001b[0midx\u001b[0m \u001b[1;32min\u001b[0m \u001b[0mxrange\u001b[0m\u001b[1;33m(\u001b[0m\u001b[1;36m0\u001b[0m\u001b[1;33m,\u001b[0m \u001b[0mlen\u001b[0m\u001b[1;33m(\u001b[0m\u001b[0mA\u001b[0m\u001b[1;33m)\u001b[0m\u001b[1;33m-\u001b[0m\u001b[1;36m1\u001b[0m\u001b[1;33m)\u001b[0m\u001b[1;33m:\u001b[0m\u001b[1;33m\u001b[0m\u001b[0m\n\u001b[0m\u001b[1;32m      6\u001b[0m         \u001b[1;32mif\u001b[0m \u001b[1;33m(\u001b[0m\u001b[0mA\u001b[0m\u001b[1;33m[\u001b[0m\u001b[0midx\u001b[0m\u001b[1;33m]\u001b[0m \u001b[1;33m+\u001b[0m \u001b[0mA\u001b[0m\u001b[1;33m[\u001b[0m\u001b[0midx\u001b[0m\u001b[1;33m+\u001b[0m\u001b[1;36m1\u001b[0m\u001b[1;33m]\u001b[0m\u001b[1;33m)\u001b[0m\u001b[1;33m/\u001b[0m\u001b[1;36m2.0\u001b[0m \u001b[1;33m<\u001b[0m \u001b[0mmin_value\u001b[0m\u001b[1;33m:\u001b[0m\u001b[1;33m\u001b[0m\u001b[0m\n\u001b[1;32m      7\u001b[0m             \u001b[0mmin_idx\u001b[0m \u001b[1;33m=\u001b[0m \u001b[0midx\u001b[0m\u001b[1;33m\u001b[0m\u001b[0m\n",
      "\u001b[0;31mNameError\u001b[0m: name 'xrange' is not defined"
     ]
    }
   ],
   "source": [
    "solution(A)"
   ]
  },
  {
   "cell_type": "code",
   "execution_count": 101,
   "metadata": {
    "collapsed": false
   },
   "outputs": [
    {
     "name": "stdout",
     "output_type": "stream",
     "text": [
      "6\n"
     ]
    }
   ],
   "source": [
    "minAvg=(A[-1]+A[-2])/2\n",
    "minAvgIndex=len(A)-2\n",
    "\n",
    "for i in range(len(A)-2): #index\n",
    "    if (A[i]+A[i+1])/2 < minAvg:\n",
    "        minAvg = (A[i]+A[i+1])/2\n",
    "        minAvgIndex = i\n",
    "    if i < len(A)-2 and (A[i]+A[i+1]+A[i+2])/3 < minAvg:\n",
    "        minAvg = (A[i]+A[i+1]+A[i+2])/3\n",
    "        minAvgIndex = i\n",
    "    \n",
    "print(minAvgIndex)"
   ]
  },
  {
   "cell_type": "code",
   "execution_count": 1,
   "metadata": {
    "collapsed": false
   },
   "outputs": [
    {
     "data": {
      "text/plain": [
       "5.0"
      ]
     },
     "execution_count": 1,
     "metadata": {},
     "output_type": "execute_result"
    }
   ],
   "source": [
    "(6+6+3)/3"
   ]
  },
  {
   "cell_type": "code",
   "execution_count": 2,
   "metadata": {
    "collapsed": false
   },
   "outputs": [
    {
     "data": {
      "text/plain": [
       "5.0"
      ]
     },
     "execution_count": 2,
     "metadata": {},
     "output_type": "execute_result"
    }
   ],
   "source": [
    "(6+6+3)/3."
   ]
  },
  {
   "cell_type": "code",
   "execution_count": 3,
   "metadata": {
    "collapsed": false
   },
   "outputs": [
    {
     "name": "stdout",
     "output_type": "stream",
     "text": [
      "6.5 5\n"
     ]
    }
   ],
   "source": [
    "A=[4,2,2,5,1,5,8]\n",
    "minAvg=(A[-1]+A[-2])/2\n",
    "minAvgIndex=len(A)-2\n",
    "print(minAvg,minAvgIndex)"
   ]
  },
  {
   "cell_type": "code",
   "execution_count": null,
   "metadata": {
    "collapsed": true
   },
   "outputs": [],
   "source": []
  },
  {
   "cell_type": "code",
   "execution_count": null,
   "metadata": {
    "collapsed": true
   },
   "outputs": [],
   "source": []
  },
  {
   "cell_type": "code",
   "execution_count": null,
   "metadata": {
    "collapsed": true
   },
   "outputs": [],
   "source": []
  },
  {
   "cell_type": "code",
   "execution_count": null,
   "metadata": {
    "collapsed": true
   },
   "outputs": [],
   "source": []
  },
  {
   "cell_type": "code",
   "execution_count": null,
   "metadata": {
    "collapsed": true
   },
   "outputs": [],
   "source": []
  },
  {
   "cell_type": "code",
   "execution_count": null,
   "metadata": {
    "collapsed": true
   },
   "outputs": [],
   "source": []
  }
 ],
 "metadata": {
  "kernelspec": {
   "display_name": "Python 3",
   "language": "python",
   "name": "python3"
  },
  "language_info": {
   "codemirror_mode": {
    "name": "ipython",
    "version": 3
   },
   "file_extension": ".py",
   "mimetype": "text/x-python",
   "name": "python",
   "nbconvert_exporter": "python",
   "pygments_lexer": "ipython3",
   "version": "3.6.2"
  }
 },
 "nbformat": 4,
 "nbformat_minor": 2
}
