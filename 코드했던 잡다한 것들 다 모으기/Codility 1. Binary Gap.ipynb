{
 "cells": [
  {
   "cell_type": "code",
   "execution_count": 1,
   "metadata": {
    "collapsed": false
   },
   "outputs": [
    {
     "name": "stdout",
     "output_type": "stream",
     "text": [
      "259\n"
     ]
    }
   ],
   "source": [
    "N=int(input())"
   ]
  },
  {
   "cell_type": "code",
   "execution_count": 33,
   "metadata": {
    "collapsed": false
   },
   "outputs": [
    {
     "name": "stdout",
     "output_type": "stream",
     "text": [
      "[]\n",
      "num: 2 N: 4\n",
      "num: 3 N: 2\n",
      "num: 4 N: 1\n",
      "0 4 3\n",
      "num: 5 N: 0\n",
      "[1, 0, 0, 0]\n"
     ]
    }
   ],
   "source": [
    "N=8\n",
    "binary_gap=0\n",
    "g=[]\n",
    "num=1\n",
    "a,b=0,0\n",
    "print(g)\n",
    "\n",
    "while N != 0:\n",
    "    mod =  N % 2\n",
    "    g.append(mod)\n",
    "    N = N // 2\n",
    "    if mod == 1:\n",
    "        a = b\n",
    "        b = num\n",
    "        print(a,b,b-a-1)\n",
    "        if binary_gap < b-a-1:\n",
    "            if a == 0:\n",
    "                binary_gap=0\n",
    "            else:\n",
    "                binary_gap = b-a-1            \n",
    "    num += 1\n",
    "    print('num:',num,'N:',N)\n",
    "    \n",
    "    \n",
    "g.reverse()\n",
    "print(g)"
   ]
  },
  {
   "cell_type": "code",
   "execution_count": 34,
   "metadata": {
    "collapsed": false
   },
   "outputs": [
    {
     "name": "stdout",
     "output_type": "stream",
     "text": [
      "0\n"
     ]
    }
   ],
   "source": [
    "print(binary_gap)"
   ]
  }
 ],
 "metadata": {
  "kernelspec": {
   "display_name": "Python 3",
   "language": "python",
   "name": "python3"
  },
  "language_info": {
   "codemirror_mode": {
    "name": "ipython",
    "version": 3
   },
   "file_extension": ".py",
   "mimetype": "text/x-python",
   "name": "python",
   "nbconvert_exporter": "python",
   "pygments_lexer": "ipython3",
   "version": "3.6.2"
  }
 },
 "nbformat": 4,
 "nbformat_minor": 2
}
