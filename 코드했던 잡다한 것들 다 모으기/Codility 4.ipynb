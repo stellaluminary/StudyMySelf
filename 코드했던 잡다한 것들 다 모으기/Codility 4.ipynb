{
 "cells": [
  {
   "cell_type": "markdown",
   "metadata": {},
   "source": [
    "# PermCheck"
   ]
  },
  {
   "cell_type": "code",
   "execution_count": 1,
   "metadata": {
    "collapsed": true
   },
   "outputs": [],
   "source": [
    "A=[4,1,3,2]"
   ]
  },
  {
   "cell_type": "code",
   "execution_count": 16,
   "metadata": {
    "collapsed": true
   },
   "outputs": [],
   "source": [
    "A=[9, 5, 7, 3, 2, 7, 3, 1, 10, 8]"
   ]
  },
  {
   "cell_type": "code",
   "execution_count": 3,
   "metadata": {
    "collapsed": false
   },
   "outputs": [
    {
     "data": {
      "text/plain": [
       "[1, 2, 3, 4]"
      ]
     },
     "execution_count": 3,
     "metadata": {},
     "output_type": "execute_result"
    }
   ],
   "source": [
    "A.sort()\n",
    "A"
   ]
  },
  {
   "cell_type": "code",
   "execution_count": 4,
   "metadata": {
    "collapsed": false
   },
   "outputs": [
    {
     "data": {
      "text/plain": [
       "True"
      ]
     },
     "execution_count": 4,
     "metadata": {},
     "output_type": "execute_result"
    }
   ],
   "source": [
    "len(A) == A[len(A)-1]"
   ]
  },
  {
   "cell_type": "code",
   "execution_count": 7,
   "metadata": {
    "collapsed": false
   },
   "outputs": [
    {
     "data": {
      "text/plain": [
       "1"
      ]
     },
     "execution_count": 7,
     "metadata": {},
     "output_type": "execute_result"
    }
   ],
   "source": [
    "def solution(A):\n",
    "    # write your code in Python 3.6\n",
    "    \n",
    "    cp=A\n",
    "    cp.sort()\n",
    "    if len(cp) == cp[len(cp)-1]:\n",
    "        return 1\n",
    "    else:\n",
    "        return 0\n",
    "solution(A)"
   ]
  },
  {
   "cell_type": "code",
   "execution_count": 8,
   "metadata": {
    "collapsed": false
   },
   "outputs": [
    {
     "data": {
      "text/plain": [
       "10"
      ]
     },
     "execution_count": 8,
     "metadata": {},
     "output_type": "execute_result"
    }
   ],
   "source": [
    "len(A)"
   ]
  },
  {
   "cell_type": "code",
   "execution_count": 11,
   "metadata": {
    "collapsed": false
   },
   "outputs": [
    {
     "data": {
      "text/plain": [
       "1"
      ]
     },
     "execution_count": 11,
     "metadata": {},
     "output_type": "execute_result"
    }
   ],
   "source": [
    "def solution(A):\n",
    "    # write your code in Python 3.6\n",
    "    cp=A\n",
    "    if sum(range(1,len(A)+1)) == sum(A):\n",
    "        return 1\n",
    "    else:\n",
    "        return 0\n",
    "solution(A)"
   ]
  },
  {
   "cell_type": "code",
   "execution_count": 12,
   "metadata": {
    "collapsed": false
   },
   "outputs": [
    {
     "data": {
      "text/plain": [
       "55"
      ]
     },
     "execution_count": 12,
     "metadata": {},
     "output_type": "execute_result"
    }
   ],
   "source": [
    "sum(range(1,len(A)+1))"
   ]
  },
  {
   "cell_type": "code",
   "execution_count": 13,
   "metadata": {
    "collapsed": false
   },
   "outputs": [
    {
     "data": {
      "text/plain": [
       "55"
      ]
     },
     "execution_count": 13,
     "metadata": {},
     "output_type": "execute_result"
    }
   ],
   "source": [
    "sum(A)"
   ]
  },
  {
   "cell_type": "code",
   "execution_count": 14,
   "metadata": {
    "collapsed": true
   },
   "outputs": [],
   "source": [
    "def solution(A):\n",
    "    # write your code in Python 3.6\n",
    "    cp=A\n",
    "    cp.sort()\n",
    "    if len(cp) == cp[len(cp)-1]:\n",
    "        for i in range(len(cp)):\n",
    "            if cp[i] != i+1:\n",
    "                return 0\n",
    "            else:\n",
    "                continue\n",
    "        return 1\n",
    "    else:\n",
    "        return 0"
   ]
  },
  {
   "cell_type": "code",
   "execution_count": 17,
   "metadata": {
    "collapsed": false
   },
   "outputs": [
    {
     "data": {
      "text/plain": [
       "0"
      ]
     },
     "execution_count": 17,
     "metadata": {},
     "output_type": "execute_result"
    }
   ],
   "source": [
    "def solution(A):\n",
    "    if max(A) != len(A) or len(set(A)) != len(A):\n",
    "        return 0\n",
    "    return 1\n",
    "solution(A)"
   ]
  },
  {
   "cell_type": "code",
   "execution_count": 18,
   "metadata": {
    "collapsed": false
   },
   "outputs": [
    {
     "data": {
      "text/plain": [
       "{1, 2, 3, 5, 7, 8, 9, 10}"
      ]
     },
     "execution_count": 18,
     "metadata": {},
     "output_type": "execute_result"
    }
   ],
   "source": [
    "set(A)"
   ]
  },
  {
   "cell_type": "markdown",
   "metadata": {},
   "source": [
    "# 4.2 FrogRiverOne"
   ]
  },
  {
   "cell_type": "code",
   "execution_count": 19,
   "metadata": {
    "collapsed": false
   },
   "outputs": [
    {
     "data": {
      "text/plain": [
       "{1, 2, 3, 4, 5}"
      ]
     },
     "execution_count": 19,
     "metadata": {},
     "output_type": "execute_result"
    }
   ],
   "source": [
    "A=[1,3,1,4,2,3,5,4]\n",
    "set(A)"
   ]
  },
  {
   "cell_type": "code",
   "execution_count": 20,
   "metadata": {
    "collapsed": false
   },
   "outputs": [
    {
     "data": {
      "text/plain": [
       "6"
      ]
     },
     "execution_count": 20,
     "metadata": {},
     "output_type": "execute_result"
    }
   ],
   "source": [
    "A.index(5)"
   ]
  },
  {
   "cell_type": "code",
   "execution_count": 24,
   "metadata": {
    "collapsed": false
   },
   "outputs": [
    {
     "name": "stdout",
     "output_type": "stream",
     "text": [
      "0\n"
     ]
    }
   ],
   "source": [
    "if 6 in A:\n",
    "    print(1)\n",
    "else:\n",
    "    print(0)"
   ]
  },
  {
   "cell_type": "code",
   "execution_count": 27,
   "metadata": {
    "collapsed": false
   },
   "outputs": [
    {
     "data": {
      "text/plain": [
       "3"
      ]
     },
     "execution_count": 27,
     "metadata": {},
     "output_type": "execute_result"
    }
   ],
   "source": [
    "A=[1,3,1,4,2,3,5,4]\n",
    "A.index(4)"
   ]
  },
  {
   "cell_type": "code",
   "execution_count": 28,
   "metadata": {
    "collapsed": false
   },
   "outputs": [
    {
     "ename": "TypeError",
     "evalue": "'builtin_function_or_method' object is not subscriptable",
     "output_type": "error",
     "traceback": [
      "\u001b[0;31m---------------------------------------------------------------------------\u001b[0m",
      "\u001b[0;31mTypeError\u001b[0m                                 Traceback (most recent call last)",
      "\u001b[0;32m<ipython-input-28-795ac05675b2>\u001b[0m in \u001b[0;36m<module>\u001b[0;34m()\u001b[0m\n\u001b[1;32m      5\u001b[0m     \u001b[1;32melse\u001b[0m\u001b[1;33m:\u001b[0m\u001b[1;33m\u001b[0m\u001b[0m\n\u001b[1;32m      6\u001b[0m         \u001b[1;32mreturn\u001b[0m \u001b[1;33m-\u001b[0m\u001b[1;36m1\u001b[0m\u001b[1;33m\u001b[0m\u001b[0m\n\u001b[0;32m----> 7\u001b[0;31m \u001b[0msolution\u001b[0m\u001b[1;33m(\u001b[0m\u001b[1;36m5\u001b[0m\u001b[1;33m,\u001b[0m\u001b[0mA\u001b[0m\u001b[1;33m)\u001b[0m\u001b[1;33m\u001b[0m\u001b[0m\n\u001b[0m",
      "\u001b[0;32m<ipython-input-28-795ac05675b2>\u001b[0m in \u001b[0;36msolution\u001b[0;34m(X, A)\u001b[0m\n\u001b[1;32m      2\u001b[0m     \u001b[1;31m# write your code in Python 3.6\u001b[0m\u001b[1;33m\u001b[0m\u001b[1;33m\u001b[0m\u001b[0m\n\u001b[1;32m      3\u001b[0m     \u001b[1;32mif\u001b[0m \u001b[0mX\u001b[0m \u001b[1;32min\u001b[0m \u001b[0mA\u001b[0m\u001b[1;33m:\u001b[0m\u001b[1;33m\u001b[0m\u001b[0m\n\u001b[0;32m----> 4\u001b[0;31m         \u001b[1;32mreturn\u001b[0m \u001b[0mA\u001b[0m\u001b[1;33m.\u001b[0m\u001b[0mindex\u001b[0m\u001b[1;33m[\u001b[0m\u001b[0mX\u001b[0m\u001b[1;33m]\u001b[0m\u001b[1;33m\u001b[0m\u001b[0m\n\u001b[0m\u001b[1;32m      5\u001b[0m     \u001b[1;32melse\u001b[0m\u001b[1;33m:\u001b[0m\u001b[1;33m\u001b[0m\u001b[0m\n\u001b[1;32m      6\u001b[0m         \u001b[1;32mreturn\u001b[0m \u001b[1;33m-\u001b[0m\u001b[1;36m1\u001b[0m\u001b[1;33m\u001b[0m\u001b[0m\n",
      "\u001b[0;31mTypeError\u001b[0m: 'builtin_function_or_method' object is not subscriptable"
     ]
    }
   ],
   "source": [
    "def solution(X, A):\n",
    "    # write your code in Python 3.6\n",
    "    if X in A:\n",
    "        return A.index(X)\n",
    "    else:\n",
    "        return -1\n",
    "solution(5,A)"
   ]
  },
  {
   "cell_type": "code",
   "execution_count": null,
   "metadata": {
    "collapsed": true
   },
   "outputs": [],
   "source": [
    "#(2, [2, 2, 2, 2, 2])"
   ]
  },
  {
   "cell_type": "code",
   "execution_count": 29,
   "metadata": {
    "collapsed": false
   },
   "outputs": [
    {
     "data": {
      "text/plain": [
       "{1, 2, 3, 4, 5}"
      ]
     },
     "execution_count": 29,
     "metadata": {},
     "output_type": "execute_result"
    }
   ],
   "source": [
    "set(A)"
   ]
  },
  {
   "cell_type": "code",
   "execution_count": 31,
   "metadata": {
    "collapsed": false
   },
   "outputs": [
    {
     "data": {
      "text/plain": [
       "5"
      ]
     },
     "execution_count": 31,
     "metadata": {},
     "output_type": "execute_result"
    }
   ],
   "source": [
    "list(set(A))[-1]"
   ]
  },
  {
   "cell_type": "code",
   "execution_count": 40,
   "metadata": {
    "collapsed": true
   },
   "outputs": [],
   "source": [
    "X=3\n",
    "A=[1,3,1,3,2,1,3]"
   ]
  },
  {
   "cell_type": "code",
   "execution_count": 33,
   "metadata": {
    "collapsed": false
   },
   "outputs": [
    {
     "data": {
      "text/plain": [
       "1"
      ]
     },
     "execution_count": 33,
     "metadata": {},
     "output_type": "execute_result"
    }
   ],
   "source": [
    "def solution(X, A):\n",
    "    # write your code in Python 3.6\n",
    "    if len(set(A)) == list(set(A))[-1] and X in set(A):\n",
    "        return A.index(X)\n",
    "    else:\n",
    "        return -1\n",
    "solution(X,A)"
   ]
  },
  {
   "cell_type": "code",
   "execution_count": 34,
   "metadata": {
    "collapsed": false
   },
   "outputs": [
    {
     "data": {
      "text/plain": [
       "3"
      ]
     },
     "execution_count": 34,
     "metadata": {},
     "output_type": "execute_result"
    }
   ],
   "source": [
    "max(A)"
   ]
  },
  {
   "cell_type": "code",
   "execution_count": 36,
   "metadata": {
    "collapsed": true
   },
   "outputs": [],
   "source": [
    "#(2, [1, 1, 1, 1])\n",
    "X=2\n",
    "A=[1, 1, 1, 1]"
   ]
  },
  {
   "cell_type": "code",
   "execution_count": 47,
   "metadata": {
    "collapsed": false
   },
   "outputs": [
    {
     "data": {
      "text/plain": [
       "4"
      ]
     },
     "execution_count": 47,
     "metadata": {},
     "output_type": "execute_result"
    }
   ],
   "source": [
    "#O(N ** 2)\n",
    "def solution(X, A):\n",
    "    # write your code in Python 3.6    \n",
    "    cpA=list(set(A))    \n",
    "    if len(cpA) == X:\n",
    "        ch=-1\n",
    "        for i in range(1,len(cpA)+1):\n",
    "            if A.index(i) > ch:\n",
    "                ch = A.index(i)\n",
    "        return ch\n",
    "    else:\n",
    "        return -1\n",
    "solution(X,A)"
   ]
  },
  {
   "cell_type": "code",
   "execution_count": 41,
   "metadata": {
    "collapsed": false
   },
   "outputs": [
    {
     "data": {
      "text/plain": [
       "{1, 2, 3}"
      ]
     },
     "execution_count": 41,
     "metadata": {},
     "output_type": "execute_result"
    }
   ],
   "source": [
    "set(A)"
   ]
  },
  {
   "cell_type": "code",
   "execution_count": 42,
   "metadata": {
    "collapsed": false
   },
   "outputs": [
    {
     "data": {
      "text/plain": [
       "{0: 0, 1: 0, 2: 0}"
      ]
     },
     "execution_count": 42,
     "metadata": {},
     "output_type": "execute_result"
    }
   ],
   "source": [
    "cpA=list(set(A))\n",
    "di={x:0 for x in range(len(cpA))}\n",
    "di"
   ]
  },
  {
   "cell_type": "code",
   "execution_count": 44,
   "metadata": {
    "collapsed": false
   },
   "outputs": [
    {
     "data": {
      "text/plain": [
       "[0, 1, 2]"
      ]
     },
     "execution_count": 44,
     "metadata": {},
     "output_type": "execute_result"
    }
   ],
   "source": [
    "list(di.keys())"
   ]
  },
  {
   "cell_type": "code",
   "execution_count": 46,
   "metadata": {
    "collapsed": false
   },
   "outputs": [
    {
     "data": {
      "text/plain": [
       "[0, 0, 0]"
      ]
     },
     "execution_count": 46,
     "metadata": {},
     "output_type": "execute_result"
    }
   ],
   "source": [
    "list(di.values())"
   ]
  },
  {
   "cell_type": "markdown",
   "metadata": {},
   "source": [
    "# 4.3"
   ]
  },
  {
   "cell_type": "code",
   "execution_count": 51,
   "metadata": {
    "collapsed": true
   },
   "outputs": [],
   "source": [
    "A=[1,3,6,4,1,2]"
   ]
  },
  {
   "cell_type": "code",
   "execution_count": 53,
   "metadata": {
    "collapsed": true
   },
   "outputs": [],
   "source": [
    "A=[1,2,3]"
   ]
  },
  {
   "cell_type": "code",
   "execution_count": 55,
   "metadata": {
    "collapsed": true
   },
   "outputs": [],
   "source": [
    "A=[-1,-3]"
   ]
  },
  {
   "cell_type": "code",
   "execution_count": 57,
   "metadata": {
    "collapsed": true
   },
   "outputs": [],
   "source": [
    "A=[]"
   ]
  },
  {
   "cell_type": "code",
   "execution_count": 59,
   "metadata": {
    "collapsed": true
   },
   "outputs": [],
   "source": [
    "A=[-1000, 1000,2000]"
   ]
  },
  {
   "cell_type": "code",
   "execution_count": 61,
   "metadata": {
    "collapsed": true
   },
   "outputs": [],
   "source": [
    "A=[-111, 2,3434]"
   ]
  },
  {
   "cell_type": "code",
   "execution_count": 63,
   "metadata": {
    "collapsed": true
   },
   "outputs": [],
   "source": [
    "A=[-111,1,343434]"
   ]
  },
  {
   "cell_type": "code",
   "execution_count": 65,
   "metadata": {
    "collapsed": true
   },
   "outputs": [],
   "source": [
    "A=[-111,0,232]"
   ]
  },
  {
   "cell_type": "code",
   "execution_count": 66,
   "metadata": {
    "collapsed": false
   },
   "outputs": [
    {
     "data": {
      "text/plain": [
       "1"
      ]
     },
     "execution_count": 66,
     "metadata": {},
     "output_type": "execute_result"
    }
   ],
   "source": [
    "def solution(A):\n",
    "    # write your code in Python 3.6\n",
    "    A.sort()\n",
    "    min = 1\n",
    "    for a in A:\n",
    "        if a > min:\n",
    "            return min\n",
    "        if a > 0:\n",
    "            min = a+1\n",
    "    \n",
    "    return min\n",
    "solution(A)"
   ]
  },
  {
   "cell_type": "code",
   "execution_count": 13,
   "metadata": {
    "collapsed": false
   },
   "outputs": [
    {
     "data": {
      "text/plain": [
       "[1, 2, 3]"
      ]
     },
     "execution_count": 13,
     "metadata": {},
     "output_type": "execute_result"
    }
   ],
   "source": [
    "B=list(set(A))\n",
    "B"
   ]
  },
  {
   "cell_type": "code",
   "execution_count": 48,
   "metadata": {
    "collapsed": false
   },
   "outputs": [
    {
     "name": "stdout",
     "output_type": "stream",
     "text": [
      "[-111, 1, 343434]\n",
      "음수 양수 1\n",
      "양수 양수\n",
      "2\n"
     ]
    }
   ],
   "source": [
    "A.sort()\n",
    "B=A\n",
    "print(B)\n",
    "if not B or B[-1]<0:\n",
    "    print(1)\n",
    "else:\n",
    "    for i in range(len(B)-1):\n",
    "        if B[i]>=0 and B[i+1] >0:\n",
    "            dif = B[i+1]-B[i]\n",
    "            if dif >= 2:\n",
    "                val = B[i]+1\n",
    "                print('양수 양수')\n",
    "                break\n",
    "        elif B[i]<0 and B[i+1] >0:\n",
    "            if B[i+1] == 1:\n",
    "                print('음수 양수 1')\n",
    "                continue                \n",
    "            else:\n",
    "                val=1\n",
    "                print(B)\n",
    "                print(i,B[i],'음수 양수 1이 아님')\n",
    "                break\n",
    "        if i == len(B)-2:\n",
    "            val=B[i+1]+1\n",
    "            print('마지막')\n",
    "    print(val)\n",
    "                "
   ]
  },
  {
   "cell_type": "code",
   "execution_count": 38,
   "metadata": {
    "collapsed": false
   },
   "outputs": [
    {
     "data": {
      "text/plain": [
       "{-308, -3, -1, 0, 1, 484848}"
      ]
     },
     "execution_count": 38,
     "metadata": {},
     "output_type": "execute_result"
    }
   ],
   "source": [
    "set([484848,-308,0,1,-3,-1])"
   ]
  },
  {
   "cell_type": "code",
   "execution_count": 45,
   "metadata": {
    "collapsed": false
   },
   "outputs": [
    {
     "data": {
      "text/plain": [
       "[-111, 0, 232]"
      ]
     },
     "execution_count": 45,
     "metadata": {},
     "output_type": "execute_result"
    }
   ],
   "source": [
    "A.sort()\n",
    "A"
   ]
  },
  {
   "cell_type": "code",
   "execution_count": null,
   "metadata": {
    "collapsed": true
   },
   "outputs": [],
   "source": [
    "def solution(A):\n",
    "    # write your code in Python 3.6\n",
    "    B=list(set(A))\n",
    "    if not B:\n",
    "        return 1\n",
    "\n",
    "    if B[-1] < 0:\n",
    "        return 1\n",
    "    else:\n",
    "        for i in range(1,len(B)):\n",
    "            if B[i]>0 and B[i-1]>=0:\n",
    "                min=B[i]-B[i-1]\n",
    "                if min >= 2:\n",
    "                    val = B[i-1]+1\n",
    "                    break\n",
    "            if i == (len(B)-1):\n",
    "                val=B[i]+1\n",
    "        return val"
   ]
  },
  {
   "cell_type": "markdown",
   "metadata": {},
   "source": [
    "# 4.4 MaxCounters"
   ]
  },
  {
   "cell_type": "code",
   "execution_count": null,
   "metadata": {
    "collapsed": true
   },
   "outputs": [],
   "source": []
  },
  {
   "cell_type": "code",
   "execution_count": 48,
   "metadata": {
    "collapsed": true
   },
   "outputs": [],
   "source": [
    "def solution(N, A):\n",
    "    # write your code in Python 3.6\n",
    "    \n",
    "    returning_li=[0]*N\n",
    "    \n",
    "    for i in range(len(A)):\n",
    "        num = A[i]\n",
    "        if num > N:\n",
    "            returning_li=[max(returning_li)]*N\n",
    "            \n",
    "        else:\n",
    "            returning_li[num-1] += 1\n",
    "    return returning_li"
   ]
  },
  {
   "cell_type": "code",
   "execution_count": 62,
   "metadata": {
    "collapsed": false
   },
   "outputs": [],
   "source": [
    "def solution(N, A):\n",
    "    # write your code in Python 3.6\n",
    "    \n",
    "    returning_li=[0]*N\n",
    "    max_num=0\n",
    "    for i in range(len(A)):\n",
    "        num = A[i]\n",
    "        if num > N:\n",
    "            returning_li=[max_num]*N            \n",
    "        else:\n",
    "            returning_li[num-1] += 1\n",
    "            if returning_li[num-1] > max_num:\n",
    "                max_num = returning_li[num-1]             \n",
    "            \n",
    "    return returning_li"
   ]
  },
  {
   "cell_type": "code",
   "execution_count": 73,
   "metadata": {
    "collapsed": false
   },
   "outputs": [
    {
     "name": "stdout",
     "output_type": "stream",
     "text": [
      "command 3 current_max 1\n",
      "[0, 0, 1, 0, 0]\n",
      "[0, 0, 1, 1, 0]\n",
      "command 4 current_max 2\n",
      "[0, 0, 1, 2, 0]\n",
      "6 2\n",
      "command 1 current_max 3\n",
      "[3, 0, 1, 2, 0]\n",
      "[3, 0, 1, 3, 0]\n",
      "command 4 current_max 4\n",
      "[3, 0, 1, 4, 0]\n",
      "[3, 0, 1, 4, 0]\n",
      "max_counter 2 current_max 4\n"
     ]
    },
    {
     "data": {
      "text/plain": [
       "[3, 2, 2, 4, 2]"
      ]
     },
     "execution_count": 73,
     "metadata": {},
     "output_type": "execute_result"
    }
   ],
   "source": [
    "solution(5, [3, 4, 4, 6, 1, 4, 4]) "
   ]
  },
  {
   "cell_type": "code",
   "execution_count": 72,
   "metadata": {
    "collapsed": true
   },
   "outputs": [],
   "source": [
    "def solution(N, A):\n",
    "    result = [0]*N    # The list to be returned\n",
    "    max_counter = 0   # The used value in previous max_counter command\n",
    "    current_max = 0   # The current maximum value of any counter\n",
    "    for command in A:\n",
    "        if 1 <= command <= N:\n",
    "            # increase(X) command\n",
    "            if max_counter > result[command-1]:\n",
    "                # lazy write\n",
    "                result[command-1] = max_counter\n",
    "            result[command-1] += 1\n",
    "            if current_max < result[command-1]:\n",
    "                current_max = result[command-1]\n",
    "                print('command',command,'current_max',current_max)\n",
    "            print(result)\n",
    "        else:\n",
    "            # max_counter command\n",
    "            # just record the current maximum value for later write\n",
    "            max_counter = current_max\n",
    "            print(command, max_counter)\n",
    "    print(result)\n",
    "    print('max_counter', max_counter,'current_max',current_max)\n",
    "    for index in range(0,N):\n",
    "        if result[index] < max_counter:\n",
    "            # This element has never been used/updated after previous\n",
    "            #     max_counter command\n",
    "            result[index] = max_counter\n",
    "    return result\n",
    "\n",
    " "
   ]
  },
  {
   "cell_type": "code",
   "execution_count": null,
   "metadata": {
    "collapsed": true
   },
   "outputs": [],
   "source": []
  }
 ],
 "metadata": {
  "kernelspec": {
   "display_name": "Python 3",
   "language": "python",
   "name": "python3"
  },
  "language_info": {
   "codemirror_mode": {
    "name": "ipython",
    "version": 3
   },
   "file_extension": ".py",
   "mimetype": "text/x-python",
   "name": "python",
   "nbconvert_exporter": "python",
   "pygments_lexer": "ipython3",
   "version": "3.6.2"
  }
 },
 "nbformat": 4,
 "nbformat_minor": 2
}
