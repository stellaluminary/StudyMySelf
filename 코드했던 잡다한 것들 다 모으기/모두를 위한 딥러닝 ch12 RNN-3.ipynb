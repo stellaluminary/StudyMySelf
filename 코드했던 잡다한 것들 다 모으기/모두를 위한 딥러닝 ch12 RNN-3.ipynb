{
 "cells": [
  {
   "cell_type": "code",
   "execution_count": 1,
   "metadata": {
    "collapsed": true
   },
   "outputs": [],
   "source": [
    "import tensorflow as tf\n",
    "import numpy as np"
   ]
  },
  {
   "cell_type": "code",
   "execution_count": 2,
   "metadata": {
    "collapsed": false
   },
   "outputs": [
    {
     "data": {
      "text/plain": [
       "['u', 'a', 'o', 'w', 'n', 'f', 't', 'i', 'y', ' ']"
      ]
     },
     "execution_count": 2,
     "metadata": {},
     "output_type": "execute_result"
    }
   ],
   "source": [
    "sample='if you want you'\n",
    "idx2char=list(set(sample))\n",
    "idx2char"
   ]
  },
  {
   "cell_type": "code",
   "execution_count": 3,
   "metadata": {
    "collapsed": false
   },
   "outputs": [
    {
     "data": {
      "text/plain": [
       "{' ': 9,\n",
       " 'a': 1,\n",
       " 'f': 5,\n",
       " 'i': 7,\n",
       " 'n': 4,\n",
       " 'o': 2,\n",
       " 't': 6,\n",
       " 'u': 0,\n",
       " 'w': 3,\n",
       " 'y': 8}"
      ]
     },
     "execution_count": 3,
     "metadata": {},
     "output_type": "execute_result"
    }
   ],
   "source": [
    "char2idx={c:i for i,c in enumerate(idx2char)}\n",
    "char2idx"
   ]
  },
  {
   "cell_type": "code",
   "execution_count": 4,
   "metadata": {
    "collapsed": false
   },
   "outputs": [
    {
     "name": "stdout",
     "output_type": "stream",
     "text": [
      "10\n"
     ]
    },
    {
     "data": {
      "text/plain": [
       "[7, 5, 9, 8, 2, 0, 9, 3, 1, 4, 6, 9, 8, 2, 0]"
      ]
     },
     "execution_count": 4,
     "metadata": {},
     "output_type": "execute_result"
    }
   ],
   "source": [
    "dic_size=len(char2idx)\n",
    "hidden_size=len(char2idx)\n",
    "num_classes=len(char2idx)\n",
    "batch_size=1\n",
    "sequence_length=len(sample)-1\n",
    "learning_rate=0.1\n",
    "print(len(char2idx))\n",
    "\n",
    "sample_idx=[char2idx[c] for c in sample]\n",
    "sample_idx"
   ]
  },
  {
   "cell_type": "code",
   "execution_count": 5,
   "metadata": {
    "collapsed": false
   },
   "outputs": [
    {
     "name": "stdout",
     "output_type": "stream",
     "text": [
      "[[7, 5, 9, 8, 2, 0, 9, 3, 1, 4, 6, 9, 8, 2]]\n",
      "[[5, 9, 8, 2, 0, 9, 3, 1, 4, 6, 9, 8, 2, 0]]\n"
     ]
    }
   ],
   "source": [
    "x_data=[sample_idx[:-1]]\n",
    "y_data=[sample_idx[1:]]\n",
    "print(x_data)\n",
    "print(y_data)"
   ]
  },
  {
   "cell_type": "code",
   "execution_count": 9,
   "metadata": {
    "collapsed": false
   },
   "outputs": [],
   "source": [
    "tf.reset_default_graph()\n",
    "X=tf.placeholder(tf.int32, [None,sequence_length])\n",
    "Y=tf.placeholder(tf.int32, [None,sequence_length])\n",
    "\n",
    "x_one_hot=tf.one_hot(X, num_classes)\n",
    "cell=tf.contrib.rnn.BasicLSTMCell(num_units=hidden_size, state_is_tuple=True)\n",
    "initial_state=cell.zero_state(batch_size, tf.float32)\n",
    "outputs, _states = tf.nn.dynamic_rnn(cell,x_one_hot, initial_state=initial_state, dtype=tf.float32)\n",
    "\n",
    "X_for_fc = tf.reshape(outputs, [-1,hidden_size])\n",
    "outputs=tf.contrib.layers.fully_connected(X_for_fc, num_classes, activation_fn=None)\n",
    "\n",
    "outputs=tf.reshape(outputs, [ batch_size,sequence_length,num_classes])\n",
    "weights=tf.ones([batch_size, sequence_length])\n",
    "sequence_loss=tf.contrib.seq2seq.sequence_loss(logits=outputs, targets=Y, weights=weights)\n",
    "loss=tf.reduce_mean(sequence_loss)\n",
    "train=tf.train.AdamOptimizer(learning_rate=learning_rate).minimize(loss)\n",
    "\n",
    "prediction=tf.argmax(outputs,axis=2)"
   ]
  },
  {
   "cell_type": "code",
   "execution_count": 14,
   "metadata": {
    "collapsed": false
   },
   "outputs": [
    {
     "name": "stdout",
     "output_type": "stream",
     "text": [
      "0 loss:  2.3158128 Prediction:                \n",
      "1 loss:  2.1411262 Prediction:                \n",
      "2 loss:  2.0424752 Prediction:  y   u  yyy y u\n",
      "3 loss:  1.8979169 Prediction:  y   u  ynyyyou\n",
      "4 loss:  1.755834 Prediction:  y   u   ny you\n",
      "5 loss:  1.579465 Prediction:  y  ou   ny you\n",
      "6 loss:  1.3313982 Prediction:  y  ou  ant you\n",
      "7 loss:  1.0764319 Prediction:  y  ou  ant you\n",
      "8 loss:  0.8109232 Prediction:  f you want you\n",
      "9 loss:  0.5738026 Prediction:  f you want you\n",
      "10 loss:  0.38638738 Prediction:  f you want you\n",
      "11 loss:  0.2514594 Prediction:  f you want you\n",
      "12 loss:  0.1616662 Prediction:  f you want you\n",
      "13 loss:  0.10300884 Prediction:  f you want you\n",
      "14 loss:  0.065461695 Prediction:  f you want you\n",
      "15 loss:  0.041888006 Prediction:  f you want you\n",
      "16 loss:  0.027227785 Prediction:  f you want you\n",
      "17 loss:  0.018160552 Prediction:  f you want you\n",
      "18 loss:  0.012493194 Prediction:  f you want you\n",
      "19 loss:  0.008865102 Prediction:  f you want you\n",
      "20 loss:  0.006491524 Prediction:  f you want you\n",
      "21 loss:  0.0049066944 Prediction:  f you want you\n",
      "22 loss:  0.0038217555 Prediction:  f you want you\n",
      "23 loss:  0.003056618 Prediction:  f you want you\n",
      "24 loss:  0.0024995187 Prediction:  f you want you\n",
      "25 loss:  0.0020805313 Prediction:  f you want you\n",
      "26 loss:  0.001756086 Prediction:  f you want you\n",
      "27 loss:  0.0014986639 Prediction:  f you want you\n",
      "28 loss:  0.001291013 Prediction:  f you want you\n",
      "29 loss:  0.0011221184 Prediction:  f you want you\n",
      "30 loss:  0.0009844375 Prediction:  f you want you\n",
      "31 loss:  0.00087239273 Prediction:  f you want you\n",
      "32 loss:  0.00078130263 Prediction:  f you want you\n",
      "33 loss:  0.0007069915 Prediction:  f you want you\n",
      "34 loss:  0.0006460202 Prediction:  f you want you\n",
      "35 loss:  0.0005954918 Prediction:  f you want you\n",
      "36 loss:  0.0005530519 Prediction:  f you want you\n",
      "37 loss:  0.0005169576 Prediction:  f you want you\n",
      "38 loss:  0.0004858401 Prediction:  f you want you\n",
      "39 loss:  0.00045860212 Prediction:  f you want you\n",
      "40 loss:  0.00043442711 Prediction:  f you want you\n",
      "41 loss:  0.0004129238 Prediction:  f you want you\n",
      "42 loss:  0.0003935391 Prediction:  f you want you\n",
      "43 loss:  0.00037600085 Prediction:  f you want you\n",
      "44 loss:  0.0003601558 Prediction:  f you want you\n",
      "45 loss:  0.00034569766 Prediction:  f you want you\n",
      "46 loss:  0.00033269453 Prediction:  f you want you\n",
      "47 loss:  0.00032094208 Prediction:  f you want you\n",
      "48 loss:  0.00031029584 Prediction:  f you want you\n",
      "49 loss:  0.00030074723 Prediction:  f you want you\n"
     ]
    }
   ],
   "source": [
    "with tf.Session() as sess:\n",
    "    sess.run(tf.global_variables_initializer())\n",
    "    for i in range(50):\n",
    "        l,_=sess.run([loss,train], feed_dict={X:x_data, Y:y_data})\n",
    "        result=sess.run(prediction, feed_dict={X:x_data})\n",
    "        #print('result           : ',result)\n",
    "        #print('result np.squeeze: ',np.squeeze(result))\n",
    "        #result=[[5 9 8 2 0 9 3 1 4 6 9 8 2 0]]\n",
    "        #np.squeeze(result) = [5 9 8 2 0 9 3 1 4 6 9 8 2 0]\n",
    "\n",
    "        result_str=[idx2char[c] for c in np.squeeze(result)]\n",
    "        print(i,'loss: ',l,'Prediction: ',''.join(result_str))"
   ]
  },
  {
   "cell_type": "code",
   "execution_count": null,
   "metadata": {
    "collapsed": true
   },
   "outputs": [],
   "source": []
  }
 ],
 "metadata": {
  "kernelspec": {
   "display_name": "Python 3",
   "language": "python",
   "name": "python3"
  },
  "language_info": {
   "codemirror_mode": {
    "name": "ipython",
    "version": 3
   },
   "file_extension": ".py",
   "mimetype": "text/x-python",
   "name": "python",
   "nbconvert_exporter": "python",
   "pygments_lexer": "ipython3",
   "version": "3.6.2"
  }
 },
 "nbformat": 4,
 "nbformat_minor": 2
}
