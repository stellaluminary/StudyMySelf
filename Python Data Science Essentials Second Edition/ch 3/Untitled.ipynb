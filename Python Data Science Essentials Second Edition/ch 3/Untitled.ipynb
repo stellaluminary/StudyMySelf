{
 "cells": [
  {
   "cell_type": "code",
   "execution_count": 1,
   "metadata": {},
   "outputs": [
    {
     "data": {
      "text/plain": [
       "[0, 1, 2, 4, 5, 6, 7, 8, 9, 10, 11, 12]"
      ]
     },
     "execution_count": 1,
     "metadata": {},
     "output_type": "execute_result"
    }
   ],
   "source": [
    "#일변량 특이값 검색\n",
    "from sklearn.datasets import load_boston\n",
    "boston=load_boston()\n",
    "continuous_variables = [n for n in range(boston.data.shape[1]) if n!=3]\n",
    "continuous_variables"
   ]
  },
  {
   "cell_type": "code",
   "execution_count": 5,
   "metadata": {},
   "outputs": [
    {
     "name": "stdout",
     "output_type": "stream",
     "text": [
      "[ 55  56  57 102 141 199 200 201 202 203 204 225 256 257 262 283 284 347\n",
      " 351 352 353 353 354 355 364 365 367 373 374 374 380 398 404 405 406 410\n",
      " 410 411 412 412 414 414 415 416 418 418 419 423 424 425 426 427 427 429\n",
      " 431 436 437 438 445 450 454 455 456 457 466] [ 1  1  1 10 11  1  1  1  1  1  1  4  1  4  4  1  1  1  6  6  1  6  6  6\n",
      "  4  4  4 11  4 11  0  0  0  0  4  0 10 10 10 11  0 11 10 10  0 10 10 10\n",
      " 10 10 10  0 10 10 10 10 10 10 10 10 10 10 10 10 10]\n"
     ]
    }
   ],
   "source": [
    "import numpy as np\n",
    "from sklearn import preprocessing\n",
    "normalized_data=preprocessing.StandardScaler().fit_transform(boston.data[:,continuous_variables])\n",
    "outliers_rows, outliers_columns=np.where(np.abs(normalized_data)>3)\n",
    "print(outliers_rows, outliers_columns)"
   ]
  },
  {
   "cell_type": "code",
   "execution_count": 11,
   "metadata": {},
   "outputs": [
    {
     "name": "stdout",
     "output_type": "stream",
     "text": [
      "[(55, 1), (56, 1), (57, 1), (102, 10), (141, 11), (199, 1), (200, 1), (201, 1), (202, 1), (203, 1), (204, 1), (225, 4), (256, 1), (257, 4), (262, 4), (283, 1), (284, 1), (347, 1), (351, 6), (352, 6), (353, 1), (353, 6), (354, 6), (355, 6), (364, 4), (365, 4), (367, 4), (373, 11), (374, 4), (374, 11), (380, 0), (398, 0), (404, 0), (405, 0), (406, 4), (410, 0), (410, 10), (411, 10), (412, 10), (412, 11), (414, 0), (414, 11), (415, 10), (416, 10), (418, 0), (418, 10), (419, 10), (423, 10), (424, 10), (425, 10), (426, 10), (427, 0), (427, 10), (429, 10), (431, 10), (436, 10), (437, 10), (438, 10), (445, 10), (450, 10), (454, 10), (455, 10), (456, 10), (457, 10), (466, 10)]\n"
     ]
    }
   ],
   "source": [
    "print(list(zip(outliers_rows, outliers_columns)))"
   ]
  },
  {
   "cell_type": "code",
   "execution_count": null,
   "metadata": {},
   "outputs": [],
   "source": []
  }
 ],
 "metadata": {
  "kernelspec": {
   "display_name": "Python 3",
   "language": "python",
   "name": "python3"
  },
  "language_info": {
   "codemirror_mode": {
    "name": "ipython",
    "version": 3
   },
   "file_extension": ".py",
   "mimetype": "text/x-python",
   "name": "python",
   "nbconvert_exporter": "python",
   "pygments_lexer": "ipython3",
   "version": "3.6.4"
  }
 },
 "nbformat": 4,
 "nbformat_minor": 2
}
