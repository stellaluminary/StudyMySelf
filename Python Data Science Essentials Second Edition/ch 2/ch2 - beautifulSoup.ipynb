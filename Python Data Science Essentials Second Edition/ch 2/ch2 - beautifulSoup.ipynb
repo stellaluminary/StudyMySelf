{
 "cells": [
  {
   "cell_type": "code",
   "execution_count": 1,
   "metadata": {},
   "outputs": [],
   "source": [
    "import urllib.request"
   ]
  },
  {
   "cell_type": "code",
   "execution_count": 2,
   "metadata": {},
   "outputs": [],
   "source": [
    "url='https://en.wikipedia.org/wiki/William_Shakespeare'\n",
    "request=urllib.request.Request(url)\n",
    "response=urllib.request.urlopen(request)"
   ]
  },
  {
   "cell_type": "code",
   "execution_count": 3,
   "metadata": {},
   "outputs": [],
   "source": [
    "from bs4 import BeautifulSoup\n",
    "soup = BeautifulSoup(response,'html.parser')"
   ]
  },
  {
   "cell_type": "code",
   "execution_count": 4,
   "metadata": {},
   "outputs": [
    {
     "data": {
      "text/plain": [
       "<title>William Shakespeare - Wikipedia</title>"
      ]
     },
     "execution_count": 4,
     "metadata": {},
     "output_type": "execute_result"
    }
   ],
   "source": [
    "soup.title"
   ]
  },
  {
   "cell_type": "code",
   "execution_count": 5,
   "metadata": {},
   "outputs": [
    {
     "name": "stdout",
     "output_type": "stream",
     "text": [
      "Category:Sonnets by William Shakespeare -> /wiki/Category:Sonnets_by_William_Shakespeare\n",
      "Category:William Shakespeare -> /wiki/Category:William_Shakespeare\n",
      "Category:1564 births -> /wiki/Category:1564_births\n",
      "Category:1616 deaths -> /wiki/Category:1616_deaths\n",
      "Category:16th-century English male actors -> /wiki/Category:16th-century_English_male_actors\n",
      "Category:English male stage actors -> /wiki/Category:English_male_stage_actors\n",
      "Category:16th-century English writers -> /wiki/Category:16th-century_English_writers\n",
      "Category:17th-century English writers -> /wiki/Category:17th-century_English_writers\n",
      "Category:16th-century dramatists and playwrights -> /wiki/Category:16th-century_dramatists_and_playwrights\n",
      "Category:17th-century English dramatists and playwrights -> /wiki/Category:17th-century_English_dramatists_and_playwrights\n",
      "Category:16th-century English poets -> /wiki/Category:16th-century_English_poets\n",
      "Category:Burials in Warwickshire -> /wiki/Category:Burials_in_Warwickshire\n",
      "Category:People from Warwickshire -> /wiki/Category:People_from_Warwickshire\n",
      "Category:17th-century English poets -> /wiki/Category:17th-century_English_poets\n",
      "Category:English Renaissance dramatists -> /wiki/Category:English_Renaissance_dramatists\n",
      "Category:English male writers -> /wiki/Category:English_male_writers\n",
      "Category:People educated at King Edward VI School, Stratford-upon-Avon -> /wiki/Category:People_educated_at_King_Edward_VI_School,_Stratford-upon-Avon\n",
      "Category:People from Stratford-upon-Avon -> /wiki/Category:People_from_Stratford-upon-Avon\n",
      "Category:People of the Elizabethan era -> /wiki/Category:People_of_the_Elizabethan_era\n",
      "Category:People of the Stuart period -> /wiki/Category:People_of_the_Stuart_period\n",
      "Category:Shakespeare family -> /wiki/Category:Shakespeare_family\n",
      "Category:Sonneteers -> /wiki/Category:Sonneteers\n",
      "Category:King's Men (playing company) -> /wiki/Category:King%27s_Men_(playing_company)\n",
      "Category:17th-century English male actors -> /wiki/Category:17th-century_English_male_actors\n",
      "Category:English male dramatists and playwrights -> /wiki/Category:English_male_dramatists_and_playwrights\n",
      "Category:English male poets -> /wiki/Category:English_male_poets\n"
     ]
    }
   ],
   "source": [
    "section=soup.find_all(id='mw-normal-catlinks')[0]\n",
    "for catlink in section.find_all(\"a\")[1:]:\n",
    "    print(catlink.get(\"title\"),\"->\",catlink.get(\"href\"))"
   ]
  },
  {
   "cell_type": "code",
   "execution_count": null,
   "metadata": {},
   "outputs": [],
   "source": []
  }
 ],
 "metadata": {
  "kernelspec": {
   "display_name": "Python 3",
   "language": "python",
   "name": "python3"
  },
  "language_info": {
   "codemirror_mode": {
    "name": "ipython",
    "version": 3
   },
   "file_extension": ".py",
   "mimetype": "text/x-python",
   "name": "python",
   "nbconvert_exporter": "python",
   "pygments_lexer": "ipython3",
   "version": "3.6.4"
  }
 },
 "nbformat": 4,
 "nbformat_minor": 2
}
