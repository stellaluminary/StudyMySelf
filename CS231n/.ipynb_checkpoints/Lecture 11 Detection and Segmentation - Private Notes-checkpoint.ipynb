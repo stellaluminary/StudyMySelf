{
 "cells": [
  {
   "cell_type": "markdown",
   "metadata": {},
   "source": [
    "# Lecture 11 Detection and Segmentation - Private Notes\n",
    "- Semantic segmentation \n",
    "- Object detection \n",
    "- Instance segmentation \n",
    "\n",
    "slides : http://cs231n.stanford.edu/slides/2017/cs231n_2017_lecture11.pdf<br>\n",
    "Videos : https://www.youtube.com/watch?v=nDPWywWRIRo&list=PL3FW7Lu3i5JvHM8ljYj-zLfQRF3EO8sYv"
   ]
  },
  {
   "cell_type": "markdown",
   "metadata": {},
   "source": [
    "## Today: Segmentation, Localization, Detection\n",
    "<img src='./Lesson pic/11-17.png'>"
   ]
  },
  {
   "cell_type": "markdown",
   "metadata": {},
   "source": [
    "# Semantic Segmentation\n",
    "<img src='./Lesson pic/11-19.png'>\n",
    "<img src='./Lesson pic/11-21.png'>\n",
    "<img src='./Lesson pic/11-23.png'>\n",
    "<img src='./Lesson pic/11-25.png'>"
   ]
  },
  {
   "cell_type": "markdown",
   "metadata": {},
   "source": [
    "<img src='./Lesson pic/11-26.png'>\n",
    "<img src='./Lesson pic/11-27.png'>\n",
    "<img src='./Lesson pic/11-30.png'>\n",
    "<img src='./Lesson pic/11-33.png'>\n",
    "<img src='./Lesson pic/11-38.png'>\n",
    "<img src='./Lesson pic/11-39.png'>\n",
    "<img src='./Lesson pic/11-41.png'>\n",
    "<img src='./Lesson pic/11-43.png'>\n",
    "<img src='./Lesson pic/11-44.png'>"
   ]
  },
  {
   "cell_type": "markdown",
   "metadata": {},
   "source": [
    "# Classification + Localization"
   ]
  },
  {
   "attachments": {},
   "cell_type": "markdown",
   "metadata": {},
   "source": [
    "<img src='./Lesson pic/11-49.png'>\n",
    "<img src='./Lesson pic/11-50.png'>\n",
    "<img src='./Lesson pic/11-52.png'>"
   ]
  },
  {
   "cell_type": "markdown",
   "metadata": {},
   "source": [
    "# Object Detection"
   ]
  },
  {
   "attachments": {},
   "cell_type": "markdown",
   "metadata": {},
   "source": [
    "<img src='./Lesson pic/11-54.png'>\n",
    "<img src='./Lesson pic/11-56.png'>\n",
    "<img src='./Lesson pic/11-58.png'>\n",
    "<img src='./Lesson pic/11-61.png'>"
   ]
  },
  {
   "cell_type": "markdown",
   "metadata": {},
   "source": [
    "<img src='./Lesson pic/11-62.png'>\n",
    "<img src='./Lesson pic/11-68.png'>\n",
    "<img src='./Lesson pic/11-69.png'>\n",
    "<img src='./Lesson pic/11-70.png'>\n",
    "<img src='./Lesson pic/11-77.png'>\n",
    "<img src='./Lesson pic/11-78.png'>\n",
    "<img src='./Lesson pic/11-80.png'>\n",
    "<img src='./Lesson pic/11-82.png'>\n",
    "<img src='./Lesson pic/11-84.png'>\n",
    "<img src='./Lesson pic/11-85.png'>\n",
    "<img src='./Lesson pic/11-86.png'>\n",
    "<img src='./Lesson pic/11-87.png'>\n",
    "<img src='./Lesson pic/11-88.png'>"
   ]
  },
  {
   "cell_type": "markdown",
   "metadata": {},
   "source": [
    "<img src='./Lesson pic/11-89.png'>\n",
    "<img src='./Lesson pic/11-90.png'>\n",
    "<img src='./Lesson pic/11-91.png'>\n",
    "<img src='./Lesson pic/11-92.png'>\n",
    "<img src='./Lesson pic/11-93.png'>"
   ]
  }
 ],
 "metadata": {
  "kernelspec": {
   "display_name": "tf20",
   "language": "python",
   "name": "tf20"
  },
  "language_info": {
   "codemirror_mode": {
    "name": "ipython",
    "version": 3
   },
   "file_extension": ".py",
   "mimetype": "text/x-python",
   "name": "python",
   "nbconvert_exporter": "python",
   "pygments_lexer": "ipython3",
   "version": "3.6.8"
  }
 },
 "nbformat": 4,
 "nbformat_minor": 2
}
