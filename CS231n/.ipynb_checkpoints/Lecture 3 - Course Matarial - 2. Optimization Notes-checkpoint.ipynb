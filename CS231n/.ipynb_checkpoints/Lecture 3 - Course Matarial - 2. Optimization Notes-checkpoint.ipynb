{
 "cells": [
  {
   "cell_type": "markdown",
   "metadata": {},
   "source": [
    "# Optimization\n",
    "\n",
    "http://cs231n.github.io/optimization-1/\n",
    "\n",
    " 1. Introduction\n",
    " - Visualizing the loss function\n",
    " - Optimization\n",
    "     - Strategy #1: Random Search\n",
    "     - Strategy #2: Random Local Search\n",
    "     - Strategy #3: Following the gradient\n",
    " - Computing the gradient\n",
    "     - Numerically with finite differences\n",
    "     - Analytically with calculus\n",
    " - Gradient descent\n",
    " - Summary"
   ]
  },
  {
   "cell_type": "markdown",
   "metadata": {},
   "source": [
    "# 1. Introduction"
   ]
  },
  {
   "cell_type": "markdown",
   "metadata": {},
   "source": [
    "Linear function $f(x_i,W) = Wx_i$<br>\n",
    "SVM formula\n",
    "$$L=\\frac{1}{N} \\sum_{i}\\sum_{j\\neq y_i} [max(0,f(x_i;W)_j) - f(x_i;W)_{y_i} +1] + \\alpha R(W)$$"
   ]
  },
  {
   "cell_type": "markdown",
   "metadata": {},
   "source": [
    "\\begin{align}\n",
    "\\dot{x} &= 1\n",
    "\\end{align}"
   ]
  }
 ],
 "metadata": {
  "kernelspec": {
   "display_name": "tf_gpu",
   "language": "python",
   "name": "tf_gpu"
  },
  "language_info": {
   "codemirror_mode": {
    "name": "ipython",
    "version": 3
   },
   "file_extension": ".py",
   "mimetype": "text/x-python",
   "name": "python",
   "nbconvert_exporter": "python",
   "pygments_lexer": "ipython3",
   "version": "3.6.8"
  }
 },
 "nbformat": 4,
 "nbformat_minor": 2
}
