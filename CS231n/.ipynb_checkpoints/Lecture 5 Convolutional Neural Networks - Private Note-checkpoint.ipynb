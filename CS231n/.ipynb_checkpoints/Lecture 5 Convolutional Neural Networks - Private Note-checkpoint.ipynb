{
 "cells": [
  {
   "cell_type": "markdown",
   "metadata": {},
   "source": [
    "# Lecture 5 Convolutional Neural Networks\n",
    "Lecture 5 slides : http://cs231n.stanford.edu/slides/2017/cs231n_2017_lecture5.pdf<br>\n",
    "Lecture 5 video : https://www.youtube.com/watch?v=bNb2fEVKeEo&list=PL3FW7Lu3i5JvHM8ljYj-zLfQRF3EO8sYv"
   ]
  },
  {
   "cell_type": "markdown",
   "metadata": {},
   "source": [
    "Frank Rosenblatt ~1957: Perceptron<br>\n",
    "Widrow and Hoff ~1960: Adaline/Madaline<br>\n",
    "Rumelhart et al 1986: First time back - propagation became popular<br>\n",
    "<font size=6>$\\frac{\\partial E_p}{\\partial w_ji} = \\frac{\\partial E_p}{\\partial o_pj} \\frac{\\partial o_pj}{\\partial w_ji} $</font><br>\n",
    "Hinton and Salakhutdinov 2006: Reinvigorated research in Deep Learning<br>"
   ]
  },
  {
   "cell_type": "markdown",
   "metadata": {},
   "source": [
    "## First strong result\n",
    " 1. Acoustic Modeling using Deep Belief Networks - Abdel-rahman Mohamed, George Dahl, Geoffrey Hinton, 2010\n",
    " - Context-Depentent Pre-training Deep Neural Networks for Large Vocabulary Speech Recognition - George Dahl, Dong Yu, Li Deng, Alex Acero 2012\n",
    " - Imagenet classification with deep convolutional neural networks - Alex Krizhevsky, Ilya Sutskever, Geoffrey E Hinton, 2012"
   ]
  },
  {
   "cell_type": "markdown",
   "metadata": {},
   "source": [
    "# Hubel & Wiesel\n",
    " - 1959 Receptive fields of single Neurons in the Cat's Striate Cortex<br>\n",
    "striate = 1. …에 줄을 넣다   2. = STRIATED\n",
    " - 1962 Receptive fields, Binocular interaction and functional architecture in the cat's visual cortex\n",
    " - 1968 "
   ]
  },
  {
   "cell_type": "markdown",
   "metadata": {},
   "source": [
    "<img src='./Lesson pic/5-11.png'>\n",
    "<img src='./Lesson pic/5-12.png'>\n",
    "<FONT size=4 color='blue'>ganglion 신경절</font>"
   ]
  },
  {
   "cell_type": "markdown",
   "metadata": {},
   "source": [
    "<img src='./Lesson pic/5-13.png'>\n",
    "<img src='./Lesson pic/5-14.png'>\n",
    "<img src='./Lesson pic/5-15.png'>"
   ]
  },
  {
   "cell_type": "markdown",
   "metadata": {},
   "source": [
    "# Fast-forward ConvNets are everywhere\n",
    "\n",
    "slides 5-16<br>\n",
    "Imagenet classification with deep convolutional neural networks - Alex Krizhevsky, Ilya Sutskever, Geoffrey E Hinton, 2012<br>\n",
    "<br>\n",
    "<img src='./Lesson pic/5-17.png'>\n",
    "<img src='./Lesson pic/5-19.png'>\n",
    "<img src='./Lesson pic/5-20.png'>\n",
    "<img src='./Lesson pic/5-21.png'>\n",
    "<img src='./Lesson pic/5-23.png'>\n",
    "<img src='./Lesson pic/5-24.png'>"
   ]
  },
  {
   "cell_type": "markdown",
   "metadata": {},
   "source": [
    "# Convolutional Neural Networks(First without the brain stuff)"
   ]
  },
  {
   "cell_type": "markdown",
   "metadata": {},
   "source": [
    "<img src='./Lesson pic/5-27.png'>\n",
    "<img src='./Lesson pic/5-30.png'>\n",
    "<img src='./Lesson pic/5-31.png'>\n",
    "<img src='./Lesson pic/5-34.png'>\n",
    "<img src='./Lesson pic/5-38.png'>\n",
    "<img src='./Lesson pic/5-39.png'>\n",
    "<img src='./Lesson pic/5-40.png'>\n",
    "<img src='./Lesson pic/5-52.png'>\n",
    "<img src='./Lesson pic/5-55.png'>\n",
    "<img src='./Lesson pic/5-58.png'>\n",
    "<img src='./Lesson pic/5-60.png'>\n",
    "<img src='./Lesson pic/5-62.png'>\n",
    "<img src='./Lesson pic/5-63.png'>\n",
    "<img src='./Lesson pic/5-67.png'>\n",
    "<img src='./Lesson pic/5-72.png'>"
   ]
  },
  {
   "cell_type": "markdown",
   "metadata": {},
   "source": [
    "[ConvNetJS demo: training on CIFAR-10] : https://cs.stanford.edu/people/karpathy/convnetjs/demo/cifar10.html"
   ]
  },
  {
   "cell_type": "markdown",
   "metadata": {},
   "source": [
    "# Summary\n",
    "- ConvNets stack CONV,POOL,FC layers\n",
    "- Trend towards smaller filters and deeper architectures\n",
    "- Trend towards getting rid of POOL/FC layers (just CONV)\n",
    "- Typical architectures look like [(CONV-RELU)*N-POOL?]*M-(FC-RELU)*K,SOFTMAX\n",
    " - where N is usually up to ~5, M is large, 0 <= K <= 2.\n",
    "  - but recent advances such as ResNet/GoogLeNet challenge this paradigm"
   ]
  }
 ],
 "metadata": {
  "kernelspec": {
   "display_name": "tf_gpu",
   "language": "python",
   "name": "tf_gpu"
  },
  "language_info": {
   "codemirror_mode": {
    "name": "ipython",
    "version": 3
   },
   "file_extension": ".py",
   "mimetype": "text/x-python",
   "name": "python",
   "nbconvert_exporter": "python",
   "pygments_lexer": "ipython3",
   "version": "3.6.8"
  }
 },
 "nbformat": 4,
 "nbformat_minor": 2
}
