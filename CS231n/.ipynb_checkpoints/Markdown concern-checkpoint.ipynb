{
 "cells": [
  {
   "cell_type": "markdown",
   "metadata": {},
   "source": [
    "# Table of Contents\n",
    "- Python<br>\n",
    "    - Basic data types\n",
    "    - Containers\n",
    "        - Lists\n",
    "        - Dictionaries\n",
    "        - Sets\n",
    "        - Tuples\n",
    "    - Functions\n",
    "    - Classes\n",
    "- Numpy\n",
    "    - Arrays\n",
    "    - Array indexing\n",
    "    - Datatypes\n",
    "    - Array math\n",
    "    - Broadcasting\n",
    "- SciPy\n",
    "    - Image operations\n",
    "    - MATLAB files\n",
    "    - Distance between points\n",
    "- Matplotlib\n",
    "    - Plotting\n",
    "    - Subplots\n",
    "    - Images"
   ]
  },
  {
   "cell_type": "markdown",
   "metadata": {},
   "source": [
    "<div class=\"alert alert-block alert-info\">\n",
    "<b>Order:</b> Use blue boxes (alert-info) for tips and notes. \n",
    "If it’s a note, you don’t have to include the word “Note”.\n",
    "</div>"
   ]
  },
  {
   "cell_type": "markdown",
   "metadata": {},
   "source": [
    "***"
   ]
  },
  {
   "cell_type": "markdown",
   "metadata": {},
   "source": [
    "####Groceries:\n",
    "\n",
    "* Fruit:\n",
    "    * Pears\n",
    "    0. Peaches\n",
    "    3. Plums\n",
    "    4. Apples \n",
    "        - Granny Smith \n",
    "        7. Gala\n",
    "    * Oranges\n",
    "    - Berries \n",
    "        - Strawberries \n",
    "        + Blueberries\n",
    "        * Raspberries\n",
    "    - Bananas\n",
    "9. Bread:\n",
    "    * Whole Wheat\n",
    "        * With oats on crust\n",
    "        0. Without oats on crust\n",
    "    + Rye \n",
    "    0. White\n",
    "0. Dairy:\n",
    "    * Milk\n",
    "        + Whole\n",
    "        0. Skim\n",
    "    - Cheese\n",
    "        - Wisconsin Cheddar\n",
    "        0. Pepper Jack\n"
   ]
  },
  {
   "cell_type": "markdown",
   "metadata": {},
   "source": [
    "####Groceries:\n",
    "\n",
    "* Fruit:\n",
    "    * Pears\n",
    "    0. Peaches\n",
    "    3. Plums\n",
    "    4. Apples \n",
    "        - Granny Smith \n",
    "        7. Gala\n",
    "    * Oranges\n",
    "    - Berries \n",
    "        - Strawberries \n",
    "        + Blueberries\n",
    "        * Raspberries\n",
    "    - Bananas\n",
    "9. Bread:\n",
    "    * Whole Wheat\n",
    "        * With oats on crust\n",
    "        0. Without oats on crust\n",
    "    + Rye \n",
    "    0. White\n",
    "0. Dairy:\n",
    "    * Milk\n",
    "        + Whole\n",
    "        0. Skim\n",
    "    - Cheese\n",
    "        - Wisconsin Cheddar\n",
    "        0. Pepper Jack\n"
   ]
  },
  {
   "cell_type": "markdown",
   "metadata": {},
   "source": [
    "# Table of Contents\n",
    "- Python<br>\n",
    "    1. Basic data types\n",
    "    - Containers\n",
    "        - Lists\n",
    "        - Dictionaries\n",
    "        - Sets\n",
    "        - Tuples\n",
    "    - Functions\n",
    "    - Classes\n",
    "- Numpy\n",
    "    1. Arrays\n",
    "    - Array indexing\n",
    "    - Datatypes\n",
    "    - Array math\n",
    "    - Broadcasting\n",
    "- SciPy\n",
    "    1. Image operations\n",
    "    - MATLAB files\n",
    "    - Distance between points\n",
    "- Matplotlib\n",
    "    1. Plotting\n",
    "    - Subplots\n",
    "    - Images"
   ]
  },
  {
   "cell_type": "markdown",
   "metadata": {},
   "source": [
    ">2. Containers\n",
    "     - Dictionaries"
   ]
  },
  {
   "cell_type": "markdown",
   "metadata": {},
   "source": [
    "10^82승을 나타낼 때의 유의점 $10^{82} and 10^82$"
   ]
  },
  {
   "cell_type": "code",
   "execution_count": null,
   "metadata": {},
   "outputs": [],
   "source": []
  }
 ],
 "metadata": {
  "kernelspec": {
   "display_name": "tf_gpu",
   "language": "python",
   "name": "tf_gpu"
  },
  "language_info": {
   "codemirror_mode": {
    "name": "ipython",
    "version": 3
   },
   "file_extension": ".py",
   "mimetype": "text/x-python",
   "name": "python",
   "nbconvert_exporter": "python",
   "pygments_lexer": "ipython3",
   "version": "3.6.8"
  }
 },
 "nbformat": 4,
 "nbformat_minor": 2
}
