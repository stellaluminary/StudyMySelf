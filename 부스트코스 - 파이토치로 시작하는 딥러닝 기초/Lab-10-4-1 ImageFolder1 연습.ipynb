{
 "cells": [
  {
   "cell_type": "markdown",
   "metadata": {},
   "source": [
    "# Lab-10-4-1 ImageFolder1 연습"
   ]
  },
  {
   "cell_type": "code",
   "execution_count": 1,
   "metadata": {},
   "outputs": [],
   "source": [
    "import torchvision\n",
    "from torchvision import transforms\n",
    "from torch.utils.data import DataLoader"
   ]
  },
  {
   "cell_type": "code",
   "execution_count": 2,
   "metadata": {},
   "outputs": [],
   "source": [
    "from matplotlib.pyplot import imshow\n",
    "%matplotlib inline"
   ]
  },
  {
   "cell_type": "markdown",
   "metadata": {},
   "source": [
    "### root에는 폴더가 있고 그 안에 subfolder가 존재해야한다."
   ]
  },
  {
   "cell_type": "code",
   "execution_count": 3,
   "metadata": {},
   "outputs": [],
   "source": [
    "trans = transforms.Compose([transforms.Resize((64,128))])\n",
    "train_data = torchvision.datasets.ImageFolder(root='./tft', transform=trans)"
   ]
  },
  {
   "cell_type": "code",
   "execution_count": 4,
   "metadata": {},
   "outputs": [
    {
     "name": "stdout",
     "output_type": "stream",
     "text": [
      "0 <PIL.Image.Image image mode=RGB size=128x64 at 0x27F0375FFC8> 0\n",
      "1 <PIL.Image.Image image mode=RGB size=128x64 at 0x27F0376A108> 0\n",
      "2 <PIL.Image.Image image mode=RGB size=128x64 at 0x27F0375FF88> 0\n",
      "3 <PIL.Image.Image image mode=RGB size=128x64 at 0x27F0376A488> 0\n"
     ]
    }
   ],
   "source": [
    "for num,value in enumerate(train_data):\n",
    "    data, label = value\n",
    "    print(num, data, label)\n",
    "    \n",
    "    if label ==0:\n",
    "        data.save(\"./tft/%d_%d.png\" %(num, label))\n",
    "    else:\n",
    "        data.save(\"./tft/%d_%d.png\" %(num, label))"
   ]
  }
 ],
 "metadata": {
  "kernelspec": {
   "display_name": "tf20",
   "language": "python",
   "name": "tf20"
  },
  "language_info": {
   "codemirror_mode": {
    "name": "ipython",
    "version": 3
   },
   "file_extension": ".py",
   "mimetype": "text/x-python",
   "name": "python",
   "nbconvert_exporter": "python",
   "pygments_lexer": "ipython3",
   "version": "3.7.4"
  }
 },
 "nbformat": 4,
 "nbformat_minor": 2
}
