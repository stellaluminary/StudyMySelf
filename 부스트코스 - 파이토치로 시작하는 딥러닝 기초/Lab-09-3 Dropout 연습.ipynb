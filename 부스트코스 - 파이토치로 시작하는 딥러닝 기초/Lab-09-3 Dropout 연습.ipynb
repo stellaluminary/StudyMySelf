{
 "cells": [
  {
   "cell_type": "markdown",
   "metadata": {},
   "source": [
    "# Solution for Overfitting\n",
    "- More data\n",
    "- Reduce # of features\n",
    "- Regularization\n",
    "- Dropout"
   ]
  },
  {
   "cell_type": "code",
   "execution_count": 1,
   "metadata": {},
   "outputs": [],
   "source": [
    "import torch\n",
    "import torchvision.datasets as dsets\n",
    "import torchvision.transforms as transforms\n",
    "import random"
   ]
  },
  {
   "cell_type": "code",
   "execution_count": 2,
   "metadata": {},
   "outputs": [],
   "source": [
    "device = 'cuda' if torch.cuda.is_available() else 'cpu'\n",
    "learning_rate = 1e-3\n",
    "training_epochs = 20\n",
    "batch_size = 100\n",
    "drop_prob = 0.3"
   ]
  },
  {
   "cell_type": "code",
   "execution_count": 3,
   "metadata": {},
   "outputs": [],
   "source": [
    "mnist_train = dsets.MNIST(root='MNIST_data', train=True, transform=transforms.ToTensor())\n",
    "mnist_test = dsets.MNIST(root='MNIST_data', train=False, transform=transforms.ToTensor())\n",
    "\n",
    "data_loader = torch.utils.data.DataLoader(dataset=mnist_train, batch_size=batch_size, shuffle=True, drop_last=True)"
   ]
  },
  {
   "cell_type": "code",
   "execution_count": 4,
   "metadata": {},
   "outputs": [
    {
     "data": {
      "text/plain": [
       "Parameter containing:\n",
       "tensor([[-0.0357,  0.0963, -0.0819,  ..., -0.1016,  0.0583, -0.0413],\n",
       "        [ 0.0895,  0.0749,  0.0632,  ..., -0.0441, -0.0761,  0.0131],\n",
       "        [-0.0832, -0.0944, -0.0843,  ..., -0.0613, -0.0363, -0.0687],\n",
       "        ...,\n",
       "        [ 0.0169, -0.0403,  0.0759,  ..., -0.0437,  0.0595, -0.0811],\n",
       "        [-0.0350,  0.0225,  0.0283,  ...,  0.0437,  0.0443,  0.0868],\n",
       "        [ 0.0080, -0.0915, -0.0996,  ...,  0.0929,  0.0489,  0.0404]],\n",
       "       requires_grad=True)"
      ]
     },
     "execution_count": 4,
     "metadata": {},
     "output_type": "execute_result"
    }
   ],
   "source": [
    "linear1 = torch.nn.Linear(784, 512, bias=True)\n",
    "linear2 = torch.nn.Linear(512, 512, bias=True)\n",
    "linear3 = torch.nn.Linear(512, 512, bias=True)\n",
    "linear4 = torch.nn.Linear(512, 512, bias=True)\n",
    "linear5 = torch.nn.Linear(512, 10, bias=True)\n",
    "relu = torch.nn.ReLU()\n",
    "dropout = torch.nn.Dropout(p=drop_prob)\n",
    "\n",
    "torch.nn.init.xavier_uniform_(linear1.weight)\n",
    "torch.nn.init.xavier_uniform_(linear2.weight)\n",
    "torch.nn.init.xavier_uniform_(linear3.weight)\n",
    "torch.nn.init.xavier_uniform_(linear4.weight)\n",
    "torch.nn.init.xavier_uniform_(linear5.weight)"
   ]
  },
  {
   "cell_type": "code",
   "execution_count": 5,
   "metadata": {},
   "outputs": [],
   "source": [
    "model = torch.nn.Sequential(linear1, relu, dropout,\n",
    "                            linear2, relu, dropout,\n",
    "                            linear3, relu, dropout,\n",
    "                            linear4, relu, dropout,\n",
    "                            linear5).to(device)\n",
    "criterion = torch.nn.CrossEntropyLoss().to(device)\n",
    "optimizer = torch.optim.Adam(model.parameters(), lr=learning_rate)"
   ]
  },
  {
   "cell_type": "code",
   "execution_count": 6,
   "metadata": {},
   "outputs": [
    {
     "name": "stdout",
     "output_type": "stream",
     "text": [
      "Epoch: 0001 cost = 0.312456757\n",
      "Epoch: 0002 cost = 0.141547784\n",
      "Epoch: 0003 cost = 0.112969115\n",
      "Epoch: 0004 cost = 0.095832258\n",
      "Epoch: 0005 cost = 0.078776084\n",
      "Epoch: 0006 cost = 0.074406125\n",
      "Epoch: 0007 cost = 0.067496806\n",
      "Epoch: 0008 cost = 0.064080909\n",
      "Epoch: 0009 cost = 0.058568526\n",
      "Epoch: 0010 cost = 0.054047011\n",
      "Epoch: 0011 cost = 0.050450530\n",
      "Epoch: 0012 cost = 0.050119083\n",
      "Epoch: 0013 cost = 0.050072830\n",
      "Epoch: 0014 cost = 0.045038395\n",
      "Epoch: 0015 cost = 0.041415732\n",
      "Epoch: 0016 cost = 0.044126023\n",
      "Epoch: 0017 cost = 0.041531879\n",
      "Epoch: 0018 cost = 0.039127368\n",
      "Epoch: 0019 cost = 0.037724327\n",
      "Epoch: 0020 cost = 0.038225565\n"
     ]
    }
   ],
   "source": [
    "total_batch = len(data_loader)\n",
    "model.train()\n",
    "for epoch in range(training_epochs):\n",
    "    avg_cost =0\n",
    "    for X,Y in data_loader:\n",
    "        X = X.view(-1,28*28).to(device)\n",
    "        Y = Y.to(device)\n",
    "        \n",
    "        optimizer.zero_grad()\n",
    "        hypothesis = model(X)\n",
    "        cost = criterion(hypothesis, Y)\n",
    "        cost.backward()\n",
    "        optimizer.step()\n",
    "        \n",
    "        avg_cost += cost/total_batch        \n",
    "    print('Epoch:', '%04d' % (epoch + 1), 'cost =', '{:.9f}'.format(avg_cost))"
   ]
  },
  {
   "cell_type": "code",
   "execution_count": 7,
   "metadata": {},
   "outputs": [
    {
     "name": "stdout",
     "output_type": "stream",
     "text": [
      "Accuracy: 0.9837999939918518\n"
     ]
    },
    {
     "name": "stderr",
     "output_type": "stream",
     "text": [
      "C:\\Users\\la\\Anaconda3\\envs\\tf20\\lib\\site-packages\\torchvision\\datasets\\mnist.py:58: UserWarning: test_data has been renamed data\n",
      "  warnings.warn(\"test_data has been renamed data\")\n",
      "C:\\Users\\la\\Anaconda3\\envs\\tf20\\lib\\site-packages\\torchvision\\datasets\\mnist.py:48: UserWarning: test_labels has been renamed targets\n",
      "  warnings.warn(\"test_labels has been renamed targets\")\n"
     ]
    }
   ],
   "source": [
    "with torch.no_grad():\n",
    "    model.eval()\n",
    "    \n",
    "    X_test = mnist_test.test_data.view(-1, 28*28).float().to(device)\n",
    "    Y_test = mnist_test.test_labels.to(device)\n",
    "    \n",
    "    prediction = model(X_test)\n",
    "    correct_prediction = torch.argmax(prediction, 1) == Y_test\n",
    "    accuracy = correct_prediction.float().mean()\n",
    "    print('Accuracy:', accuracy.item())"
   ]
  },
  {
   "cell_type": "code",
   "execution_count": 8,
   "metadata": {},
   "outputs": [
    {
     "name": "stdout",
     "output_type": "stream",
     "text": [
      "tensor([7, 2, 1,  ..., 4, 5, 6], device='cuda:0')\n",
      "torch.Size([10000])\n",
      "tensor([True, True, True,  ..., True, True, True], device='cuda:0')\n",
      "tensor(0.9838, device='cuda:0')\n"
     ]
    }
   ],
   "source": [
    "print(torch.argmax(prediction, 1))\n",
    "print(torch.argmax(prediction, 1).shape)\n",
    "print(torch.argmax(prediction, 1) == Y_test)\n",
    "print((torch.argmax(prediction, 1) == Y_test).float().mean())"
   ]
  }
 ],
 "metadata": {
  "kernelspec": {
   "display_name": "tf20",
   "language": "python",
   "name": "tf20"
  },
  "language_info": {
   "codemirror_mode": {
    "name": "ipython",
    "version": 3
   },
   "file_extension": ".py",
   "mimetype": "text/x-python",
   "name": "python",
   "nbconvert_exporter": "python",
   "pygments_lexer": "ipython3",
   "version": "3.7.4"
  }
 },
 "nbformat": 4,
 "nbformat_minor": 2
}
