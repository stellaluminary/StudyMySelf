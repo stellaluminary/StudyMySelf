{
 "cells": [
  {
   "cell_type": "code",
   "execution_count": 1,
   "metadata": {},
   "outputs": [],
   "source": [
    "import torch"
   ]
  },
  {
   "cell_type": "code",
   "execution_count": 2,
   "metadata": {},
   "outputs": [],
   "source": [
    "x_train = torch.FloatTensor([[1],[2],[3]])\n",
    "y_train = torch.FloatTensor([[1],[2],[3]])"
   ]
  },
  {
   "cell_type": "markdown",
   "metadata": {},
   "source": [
    "# Hypothesis - Linear Regression"
   ]
  },
  {
   "cell_type": "code",
   "execution_count": 3,
   "metadata": {},
   "outputs": [],
   "source": [
    "W = torch.zeros(1, requires_grad=True)\n",
    "#b = torch.zeros(1, requires_grad=True)#단순화를 위해 생략\n",
    "hypothesis = x_train * W"
   ]
  },
  {
   "cell_type": "code",
   "execution_count": 4,
   "metadata": {},
   "outputs": [],
   "source": [
    "cost = torch.mean((hypothesis-y_train)**2)"
   ]
  },
  {
   "cell_type": "code",
   "execution_count": 5,
   "metadata": {},
   "outputs": [],
   "source": [
    "gradient = 2*torch.mean((W*x_train - y_train)*x_train)\n",
    "lr=0.1\n",
    "W = torch.zeros(1)\n",
    "W -= lr*gradient"
   ]
  },
  {
   "cell_type": "markdown",
   "metadata": {},
   "source": [
    "# Full Code"
   ]
  },
  {
   "cell_type": "code",
   "execution_count": 6,
   "metadata": {},
   "outputs": [
    {
     "name": "stdout",
     "output_type": "stream",
     "text": [
      "Epoch    0/10 W: 0.000, Cost: 4.666667, gradient:-14.00000\n",
      "Epoch    1/10 W: 1.400, Cost: 0.746666, gradient:5.60000\n",
      "Epoch    2/10 W: 0.840, Cost: 0.119467, gradient:-2.24000\n",
      "Epoch    3/10 W: 1.064, Cost: 0.019115, gradient:0.89600\n",
      "Epoch    4/10 W: 0.974, Cost: 0.003058, gradient:-0.35840\n",
      "Epoch    5/10 W: 1.010, Cost: 0.000489, gradient:0.14336\n",
      "Epoch    6/10 W: 0.996, Cost: 0.000078, gradient:-0.05734\n",
      "Epoch    7/10 W: 1.002, Cost: 0.000013, gradient:0.02294\n",
      "Epoch    8/10 W: 0.999, Cost: 0.000002, gradient:-0.00917\n",
      "Epoch    9/10 W: 1.000, Cost: 0.000000, gradient:0.00367\n",
      "Epoch   10/10 W: 1.000, Cost: 0.000000, gradient:-0.00147\n"
     ]
    }
   ],
   "source": [
    "x_train = torch.FloatTensor([[1],[2],[3]])\n",
    "y_train = torch.FloatTensor([[1],[2],[3]])\n",
    "W = torch.zeros(1)\n",
    "lr=0.1\n",
    "\n",
    "nb_epochs=10\n",
    "for epoch in range(nb_epochs+1):\n",
    "    hypothesis = x_train * W\n",
    "    cost = torch.mean((hypothesis-y_train)**2)\n",
    "    gradient = torch.sum((W*x_train - y_train)*x_train)\n",
    "    \n",
    "    print('Epoch {:4d}/{} W: {:.3f}, Cost: {:.6f}, gradient:{:.5f}'.format(epoch, nb_epochs, W.item(), cost.item(), gradient.item()))\n",
    "    \n",
    "    W -= lr*gradient"
   ]
  },
  {
   "cell_type": "code",
   "execution_count": 7,
   "metadata": {},
   "outputs": [
    {
     "data": {
      "text/plain": [
       "tensor(-0.0015)"
      ]
     },
     "execution_count": 7,
     "metadata": {},
     "output_type": "execute_result"
    }
   ],
   "source": [
    "gradient"
   ]
  },
  {
   "cell_type": "markdown",
   "metadata": {},
   "source": [
    "```python\n",
    "import torch.optim as optim\n",
    "W = torch.zeros(1, requires_grad=True)\n",
    "\n",
    "optimizer = optim.SGD([W], lr=0.15)\n",
    "\n",
    "optimizer.zero_grad() #gradient 0 init\n",
    "cost.backward() #gradient\n",
    "optimizer.step() #gradient descent\n",
    "```"
   ]
  },
  {
   "cell_type": "markdown",
   "metadata": {},
   "source": [
    "# Full Code with torch.optim"
   ]
  },
  {
   "cell_type": "code",
   "execution_count": 8,
   "metadata": {},
   "outputs": [
    {
     "name": "stdout",
     "output_type": "stream",
     "text": [
      "Epoch    0/10 W: 0.000, Cost: 4.666667\n",
      "Epoch    1/10 W: 1.400, Cost: 0.746667\n",
      "Epoch    2/10 W: 0.840, Cost: 0.119467\n",
      "Epoch    3/10 W: 1.064, Cost: 0.019115\n",
      "Epoch    4/10 W: 0.974, Cost: 0.003058\n",
      "Epoch    5/10 W: 1.010, Cost: 0.000489\n",
      "Epoch    6/10 W: 0.996, Cost: 0.000078\n",
      "Epoch    7/10 W: 1.002, Cost: 0.000013\n",
      "Epoch    8/10 W: 0.999, Cost: 0.000002\n",
      "Epoch    9/10 W: 1.000, Cost: 0.000000\n",
      "Epoch   10/10 W: 1.000, Cost: 0.000000\n"
     ]
    }
   ],
   "source": [
    "import torch.optim as optim\n",
    "\n",
    "x_train = torch.FloatTensor([[1],[2],[3]])\n",
    "y_train = torch.FloatTensor([[1],[2],[3]])\n",
    "\n",
    "W = torch.zeros(1, requires_grad=True)\n",
    "lr=0.1\n",
    "optimizer = optim.SGD([W], lr=0.15)\n",
    "\n",
    "nb_epochs=10\n",
    "for epoch in range(nb_epochs+1):\n",
    "    hypothesis = x_train * W\n",
    "    cost = torch.mean((hypothesis-y_train)**2)\n",
    "    \n",
    "    print('Epoch {:4d}/{} W: {:.3f}, Cost: {:.6f}'.format(epoch, nb_epochs, W.item(), cost.item()))\n",
    "    \n",
    "    optimizer.zero_grad()\n",
    "    cost.backward()\n",
    "    optimizer.step()    "
   ]
  }
 ],
 "metadata": {
  "kernelspec": {
   "display_name": "tf20",
   "language": "python",
   "name": "tf20"
  },
  "language_info": {
   "codemirror_mode": {
    "name": "ipython",
    "version": 3
   },
   "file_extension": ".py",
   "mimetype": "text/x-python",
   "name": "python",
   "nbconvert_exporter": "python",
   "pygments_lexer": "ipython3",
   "version": "3.7.4"
  }
 },
 "nbformat": 4,
 "nbformat_minor": 2
}
