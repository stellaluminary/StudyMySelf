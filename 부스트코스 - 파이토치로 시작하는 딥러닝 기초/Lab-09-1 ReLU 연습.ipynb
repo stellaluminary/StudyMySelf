{
 "cells": [
  {
   "cell_type": "markdown",
   "metadata": {},
   "source": [
    "# Sigmoid 문제점\n",
    "\n",
    "- 0~1 범주를 가지는 activation function이 backpropagation이 되면서 Vanishing Gradient 현상이 발생"
   ]
  },
  {
   "cell_type": "markdown",
   "metadata": {},
   "source": [
    "Optimizer마다의 성능을 그림으로 체크 가능한 gif URL\n",
    "- http://www.denizyuret.com/2015/03/alec-radfords-animations-for.html"
   ]
  },
  {
   "cell_type": "code",
   "execution_count": 1,
   "metadata": {},
   "outputs": [],
   "source": [
    "import torch\n",
    "import torchvision.datasets as dsets\n",
    "import torchvision.transforms as transforms\n",
    "import random"
   ]
  },
  {
   "cell_type": "code",
   "execution_count": 2,
   "metadata": {},
   "outputs": [],
   "source": [
    "device = 'cuda' if torch.cuda.is_available() else 'cpu'\n",
    "random.seed(777)\n",
    "torch.manual_seed(777)\n",
    "if device == 'cuda':\n",
    "    torch.cuda.manual_seed_all(777)"
   ]
  },
  {
   "cell_type": "code",
   "execution_count": 3,
   "metadata": {},
   "outputs": [],
   "source": [
    "learning_rate=1e-3\n",
    "training_epochs=25\n",
    "batch_size=100"
   ]
  },
  {
   "cell_type": "markdown",
   "metadata": {},
   "source": [
    "### dsets에서 불러올 때 transform을 비교해보기\n",
    "- 결론 : 차이가 없다..? 굳이 적지 않아도 자동 텐서로 불러와짐"
   ]
  },
  {
   "cell_type": "code",
   "execution_count": 4,
   "metadata": {},
   "outputs": [
    {
     "name": "stdout",
     "output_type": "stream",
     "text": [
      "torch.Size([28, 28])\n",
      "<built-in method type of Tensor object at 0x000001AD591F35E8>\n"
     ]
    }
   ],
   "source": [
    "mnist_train=dsets.MNIST(root='MNIST_data/', train=True, download=True)\n",
    "print(mnist_train.data[0].shape)\n",
    "print(mnist_train.data[0].type)"
   ]
  },
  {
   "cell_type": "code",
   "execution_count": 5,
   "metadata": {},
   "outputs": [],
   "source": [
    "mnist_train=dsets.MNIST(root='MNIST_data/', train=True, transform=transforms.ToTensor(), download=True)\n",
    "mnist_test=dsets.MNIST(root='MNIST_data/', train=False, transform=transforms.ToTensor(), download=True)"
   ]
  },
  {
   "cell_type": "code",
   "execution_count": 6,
   "metadata": {},
   "outputs": [
    {
     "name": "stdout",
     "output_type": "stream",
     "text": [
      "torch.Size([28, 28])\n",
      "<built-in method type of Tensor object at 0x000001AD59201688>\n"
     ]
    }
   ],
   "source": [
    "print(mnist_train.data[0].shape)\n",
    "print(mnist_train.data[0].type)"
   ]
  },
  {
   "cell_type": "code",
   "execution_count": 7,
   "metadata": {},
   "outputs": [
    {
     "name": "stdout",
     "output_type": "stream",
     "text": [
      "Parameter containing:\n",
      "tensor([[-1.2901,  0.3930, -0.1891,  ..., -0.1626, -0.3275,  0.5608],\n",
      "        [-1.6757, -0.2454,  0.9221,  ...,  0.9559,  0.6160, -0.4226],\n",
      "        [ 0.2444,  1.4810, -2.0906,  ...,  0.1206,  1.0044, -0.3737],\n",
      "        ...,\n",
      "        [ 0.6234,  1.8019, -2.7563,  ..., -0.5889, -0.5576,  0.7360],\n",
      "        [-0.2871, -1.3313, -2.2248,  ...,  0.0309,  0.9180, -0.1482],\n",
      "        [ 0.7678,  0.6624, -0.5362,  ...,  0.2338,  0.3688, -0.7182]],\n",
      "       device='cuda:0', requires_grad=True)\n"
     ]
    }
   ],
   "source": [
    "data_loader = torch.utils.data.DataLoader(dataset=mnist_train, batch_size=batch_size, shuffle=True, drop_last=True)\n",
    "linear = torch.nn.Linear(784,10,bias=True).to(device)\n",
    "print(torch.nn.init.normal_(linear.weight))"
   ]
  },
  {
   "cell_type": "code",
   "execution_count": 8,
   "metadata": {},
   "outputs": [],
   "source": [
    "criterion = torch.nn.CrossEntropyLoss().to(device)\n",
    "optimizer = torch.optim.Adam(linear.parameters(), lr=learning_rate)"
   ]
  },
  {
   "cell_type": "code",
   "execution_count": 9,
   "metadata": {},
   "outputs": [
    {
     "name": "stdout",
     "output_type": "stream",
     "text": [
      "600\n"
     ]
    }
   ],
   "source": [
    "# 60000/100 = 600\n",
    "print(len(data_loader))"
   ]
  },
  {
   "cell_type": "code",
   "execution_count": 10,
   "metadata": {},
   "outputs": [
    {
     "name": "stdout",
     "output_type": "stream",
     "text": [
      "Epoch: 0001 cost = 5.656310081\n",
      "Epoch: 0002 cost = 1.699869871\n",
      "Epoch: 0003 cost = 1.121589899\n",
      "Epoch: 0004 cost = 0.883372605\n",
      "Epoch: 0005 cost = 0.750498414\n",
      "Epoch: 0006 cost = 0.663257360\n",
      "Epoch: 0007 cost = 0.601353467\n",
      "Epoch: 0008 cost = 0.554276466\n",
      "Epoch: 0009 cost = 0.518754542\n",
      "Epoch: 0010 cost = 0.489626855\n",
      "Epoch: 0011 cost = 0.465853274\n",
      "Epoch: 0012 cost = 0.446376979\n",
      "Epoch: 0013 cost = 0.429088771\n",
      "Epoch: 0014 cost = 0.414358288\n",
      "Epoch: 0015 cost = 0.401437402\n",
      "Epoch: 0016 cost = 0.390579313\n",
      "Epoch: 0017 cost = 0.379998147\n",
      "Epoch: 0018 cost = 0.371015072\n",
      "Epoch: 0019 cost = 0.362883240\n",
      "Epoch: 0020 cost = 0.355653346\n",
      "Epoch: 0021 cost = 0.348467052\n",
      "Epoch: 0022 cost = 0.342722595\n",
      "Epoch: 0023 cost = 0.336138189\n",
      "Epoch: 0024 cost = 0.331430674\n",
      "Epoch: 0025 cost = 0.326691180\n"
     ]
    }
   ],
   "source": [
    "total_batch = len(data_loader)\n",
    "for epoch in range(training_epochs):\n",
    "    avg_cost=0\n",
    "    \n",
    "    for X,Y in data_loader:\n",
    "        X = X.view(-1,28*28).to(device)\n",
    "        Y = Y.to(device)\n",
    "        \n",
    "        optimizer.zero_grad()\n",
    "        hypothesis = linear(X)\n",
    "        cost = criterion(hypothesis, Y)\n",
    "        cost.backward()\n",
    "        optimizer.step()\n",
    "        \n",
    "        avg_cost += cost / total_batch        \n",
    "    print('Epoch:', '%04d' % (epoch + 1), 'cost =', '{:.9f}'.format(avg_cost))"
   ]
  },
  {
   "cell_type": "code",
   "execution_count": 11,
   "metadata": {},
   "outputs": [
    {
     "name": "stdout",
     "output_type": "stream",
     "text": [
      "Accuracy: 0.8887999653816223\n",
      "Label:  8\n",
      "Prediction:  3\n"
     ]
    },
    {
     "name": "stderr",
     "output_type": "stream",
     "text": [
      "C:\\Users\\la\\Anaconda3\\envs\\tf20\\lib\\site-packages\\torchvision\\datasets\\mnist.py:58: UserWarning: test_data has been renamed data\n",
      "  warnings.warn(\"test_data has been renamed data\")\n",
      "C:\\Users\\la\\Anaconda3\\envs\\tf20\\lib\\site-packages\\torchvision\\datasets\\mnist.py:48: UserWarning: test_labels has been renamed targets\n",
      "  warnings.warn(\"test_labels has been renamed targets\")\n"
     ]
    }
   ],
   "source": [
    "with torch.no_grad():\n",
    "    X_test = mnist_test.test_data.view(-1,28*28).float().to(device)\n",
    "    Y_test = mnist_test.test_labels.to(device)\n",
    "    \n",
    "    prediction = linear(X_test)\n",
    "    correct_prediction = torch.argmax(prediction,1) == Y_test\n",
    "    accuracy = correct_prediction.float().mean()\n",
    "    print('Accuracy:', accuracy.item())\n",
    "\n",
    "    # Get one and predict\n",
    "    r = random.randint(0, len(mnist_test) - 1)\n",
    "    X_single_data = mnist_test.test_data[r:r + 1].view(-1, 28 * 28).float().to(device)\n",
    "    Y_single_data = mnist_test.test_labels[r:r + 1].to(device)\n",
    "\n",
    "    print('Label: ', Y_single_data.item())\n",
    "    single_prediction = linear(X_single_data)\n",
    "    print('Prediction: ', torch.argmax(single_prediction, 1).item())"
   ]
  },
  {
   "cell_type": "markdown",
   "metadata": {},
   "source": [
    "# 다층 레이어 쌓기"
   ]
  },
  {
   "cell_type": "code",
   "execution_count": 12,
   "metadata": {},
   "outputs": [],
   "source": [
    "linear1 = torch.nn.Linear(784,256,bias=True).to(device)\n",
    "linear2 = torch.nn.Linear(256,128,bias=True).to(device)\n",
    "linear3 = torch.nn.Linear(128,64,bias=True).to(device)\n",
    "linear4 = torch.nn.Linear(64,10,bias=True).to(device)\n",
    "relu = torch.nn.ReLU()\n",
    "\n",
    "torch.nn.init.normal_(linear1.weight)\n",
    "torch.nn.init.normal_(linear2.weight)\n",
    "torch.nn.init.normal_(linear3.weight)\n",
    "torch.nn.init.normal_(linear4.weight)\n",
    "\n",
    "model = torch.nn.Sequential(linear1, relu, linear2, relu, linear3, relu, linear4).to(device)\n",
    "\n",
    "criterion = torch.nn.CrossEntropyLoss().to(device)\n",
    "optimizer = torch.optim.Adam(model.parameters(), lr=learning_rate)"
   ]
  },
  {
   "cell_type": "code",
   "execution_count": 13,
   "metadata": {},
   "outputs": [
    {
     "name": "stdout",
     "output_type": "stream",
     "text": [
      "Epoch: 0001 cost = 801.790222168\n",
      "Epoch: 0002 cost = 143.039810181\n",
      "Epoch: 0003 cost = 85.112846375\n",
      "Epoch: 0004 cost = 57.566673279\n",
      "Epoch: 0005 cost = 41.232223511\n",
      "Epoch: 0006 cost = 30.384174347\n",
      "Epoch: 0007 cost = 22.720020294\n",
      "Epoch: 0008 cost = 17.292089462\n",
      "Epoch: 0009 cost = 13.399991035\n",
      "Epoch: 0010 cost = 10.140534401\n",
      "Epoch: 0011 cost = 7.649079800\n",
      "Epoch: 0012 cost = 6.193267822\n",
      "Epoch: 0013 cost = 4.639629841\n",
      "Epoch: 0014 cost = 3.744567394\n",
      "Epoch: 0015 cost = 2.982141972\n",
      "Epoch: 0016 cost = 2.320754766\n",
      "Epoch: 0017 cost = 1.865953207\n",
      "Epoch: 0018 cost = 1.647352576\n",
      "Epoch: 0019 cost = 1.416785121\n",
      "Epoch: 0020 cost = 1.410082221\n",
      "Epoch: 0021 cost = 1.119329333\n",
      "Epoch: 0022 cost = 0.909280002\n",
      "Epoch: 0023 cost = 0.994037271\n",
      "Epoch: 0024 cost = 0.820456922\n",
      "Epoch: 0025 cost = 0.804532468\n"
     ]
    }
   ],
   "source": [
    "total_batch = len(data_loader)\n",
    "for epoch in range(training_epochs):\n",
    "    avg_cost=0\n",
    "    \n",
    "    for X,Y in data_loader:\n",
    "        X = X.view(-1,28*28).to(device)\n",
    "        Y = Y.to(device)\n",
    "        \n",
    "        optimizer.zero_grad()\n",
    "        hypothesis = model(X)\n",
    "        cost = criterion(hypothesis, Y)\n",
    "        cost.backward()\n",
    "        optimizer.step()\n",
    "        \n",
    "        avg_cost += cost / total_batch        \n",
    "    print('Epoch:', '%04d' % (epoch + 1), 'cost =', '{:.9f}'.format(avg_cost))"
   ]
  }
 ],
 "metadata": {
  "kernelspec": {
   "display_name": "tf20",
   "language": "python",
   "name": "tf20"
  },
  "language_info": {
   "codemirror_mode": {
    "name": "ipython",
    "version": 3
   },
   "file_extension": ".py",
   "mimetype": "text/x-python",
   "name": "python",
   "nbconvert_exporter": "python",
   "pygments_lexer": "ipython3",
   "version": "3.7.4"
  }
 },
 "nbformat": 4,
 "nbformat_minor": 2
}
