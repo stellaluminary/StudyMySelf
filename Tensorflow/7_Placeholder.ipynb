{
 "cells": [
  {
   "cell_type": "markdown",
   "metadata": {},
   "source": [
    "# tensorflow의 자료형\n",
    "- Constant\n",
    "   바로 값이 대입, 정해진 값\n",
    "- Variable\n",
    "   Weight, bias, 내부에서 계속 변경하는 값\n",
    "   global_variable_initializer() 시작할 때 초기화\n",
    "- Placeholder\n",
    "   설계를 한다.\n",
    "   그런데 데이터가 여러 종류\n",
    "   1번 데이터를 10000개\n",
    "   다음 번에는 2번 데이터를 50000개\n",
    "   training_data, test_data, validation_data\n",
    "   training시 외부에서 전달해야 하는 값"
   ]
  },
  {
   "cell_type": "code",
   "execution_count": 1,
   "metadata": {},
   "outputs": [],
   "source": [
    "import tensorflow as tf"
   ]
  },
  {
   "cell_type": "code",
   "execution_count": 2,
   "metadata": {},
   "outputs": [
    {
     "name": "stdout",
     "output_type": "stream",
     "text": [
      "node c =  Tensor(\"Mul:0\", dtype=float32)\n"
     ]
    }
   ],
   "source": [
    "# Build a graph\n",
    "a = tf.placeholder(tf.float32)\n",
    "b = tf.placeholder(tf.float32)\n",
    "c = tf.multiply(a, b)\n",
    "print(\"node c = \", c)"
   ]
  },
  {
   "cell_type": "code",
   "execution_count": 4,
   "metadata": {},
   "outputs": [
    {
     "name": "stdout",
     "output_type": "stream",
     "text": [
      "run c =  12.0\n"
     ]
    }
   ],
   "source": [
    "sess = tf.Session()\n",
    "print(\"run c = \", sess.run(c, feed_dict={a:3., b:4.}))"
   ]
  },
  {
   "cell_type": "code",
   "execution_count": null,
   "metadata": {},
   "outputs": [],
   "source": []
  }
 ],
 "metadata": {
  "kernelspec": {
   "display_name": "Python 3",
   "language": "python",
   "name": "python3"
  },
  "language_info": {
   "codemirror_mode": {
    "name": "ipython",
    "version": 3
   },
   "file_extension": ".py",
   "mimetype": "text/x-python",
   "name": "python",
   "nbconvert_exporter": "python",
   "pygments_lexer": "ipython3",
   "version": "3.6.6"
  }
 },
 "nbformat": 4,
 "nbformat_minor": 2
}
