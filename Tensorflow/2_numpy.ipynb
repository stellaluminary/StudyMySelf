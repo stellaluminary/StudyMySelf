{
 "cells": [
  {
   "cell_type": "markdown",
   "metadata": {},
   "source": [
    "# 1) List -> np.array"
   ]
  },
  {
   "cell_type": "code",
   "execution_count": 3,
   "metadata": {},
   "outputs": [
    {
     "name": "stdout",
     "output_type": "stream",
     "text": [
      "<class 'list'>\n",
      "[1 2 3 4]\n",
      "['1' '2' '3' '4']\n",
      "[1. 2. 3. 4.]\n",
      "<class 'numpy.ndarray'>\n"
     ]
    }
   ],
   "source": [
    "import numpy as np\n",
    "lst = [1, 2, 3, 4]\n",
    "print(type(lst))\n",
    "arr1 = np.array(lst, np.int)\n",
    "print(arr1)\n",
    "arr2 = np.array(lst, np.str)\n",
    "print(arr2)\n",
    "arr3 = np.array(lst, np.float)\n",
    "print(arr3)\n",
    "print(type(arr3))"
   ]
  },
  {
   "cell_type": "markdown",
   "metadata": {},
   "source": [
    "# 2) ndarray.ndim"
   ]
  },
  {
   "cell_type": "code",
   "execution_count": 4,
   "metadata": {},
   "outputs": [
    {
     "name": "stdout",
     "output_type": "stream",
     "text": [
      "5\n",
      "0\n"
     ]
    }
   ],
   "source": [
    "import numpy as np\n",
    "arr = np.array(5)\n",
    "print(arr)\n",
    "print(arr.ndim)"
   ]
  },
  {
   "cell_type": "code",
   "execution_count": 5,
   "metadata": {},
   "outputs": [
    {
     "name": "stdout",
     "output_type": "stream",
     "text": [
      "[1 2 3 4]\n",
      "1\n"
     ]
    }
   ],
   "source": [
    "lst = [1, 2, 3, 4]\n",
    "arr = np.array(lst)\n",
    "print(arr)\n",
    "print(arr.ndim)"
   ]
  },
  {
   "cell_type": "code",
   "execution_count": 6,
   "metadata": {},
   "outputs": [
    {
     "name": "stdout",
     "output_type": "stream",
     "text": [
      "[[1 2]\n",
      " [3 4]]\n",
      "2\n"
     ]
    }
   ],
   "source": [
    "lst = [[1, 2], [3, 4]]\n",
    "arr = np.array(lst)\n",
    "print(arr)\n",
    "print(arr.ndim)"
   ]
  },
  {
   "cell_type": "markdown",
   "metadata": {},
   "source": [
    "# 3) ndarray.shape, size, dtype"
   ]
  },
  {
   "cell_type": "code",
   "execution_count": 8,
   "metadata": {},
   "outputs": [
    {
     "name": "stdout",
     "output_type": "stream",
     "text": [
      "shape:  (3, 5, 2)\n",
      "size:  30\n",
      "dtype:  int32\n",
      "arr:  [[[0 0]\n",
      "  [0 0]\n",
      "  [0 0]\n",
      "  [0 0]\n",
      "  [0 0]]\n",
      "\n",
      " [[0 0]\n",
      "  [0 0]\n",
      "  [0 0]\n",
      "  [0 0]\n",
      "  [0 0]]\n",
      "\n",
      " [[0 0]\n",
      "  [0 0]\n",
      "  [0 0]\n",
      "  [0 0]\n",
      "  [0 0]]]\n"
     ]
    }
   ],
   "source": [
    "import numpy as np\n",
    "arr = np.zeros((3, 5, 2), dtype=np.int)\n",
    "print(\"shape: \", arr.shape)\n",
    "print(\"size: \", arr.size)\n",
    "print(\"dtype: \", arr.dtype)\n",
    "print(\"arr: \", arr)"
   ]
  },
  {
   "cell_type": "markdown",
   "metadata": {},
   "source": [
    "# 4) Reshape"
   ]
  },
  {
   "cell_type": "code",
   "execution_count": 13,
   "metadata": {},
   "outputs": [
    {
     "name": "stdout",
     "output_type": "stream",
     "text": [
      "origin:  [1 2 3 4]\n",
      "after:  [[1 2]\n",
      " [3 4]]\n",
      "after2:  [[1 2 3 4]]\n",
      "after2:  [[1 2]\n",
      " [3 4]]\n"
     ]
    }
   ],
   "source": [
    "import numpy as np\n",
    "arr = np.array([1, 2, 3, 4])\n",
    "print(\"origin: \", arr)\n",
    "arr = arr.reshape(2, 2)\n",
    "print(\"after: \", arr)\n",
    "arr = arr.reshape(1, 4)\n",
    "print(\"after2: \", arr)\n",
    "arr = arr.reshape(-1, 2)\n",
    "print(\"after2: \", arr)"
   ]
  },
  {
   "cell_type": "markdown",
   "metadata": {},
   "source": [
    "# 5) Rank"
   ]
  },
  {
   "cell_type": "code",
   "execution_count": 14,
   "metadata": {},
   "outputs": [
    {
     "name": "stdout",
     "output_type": "stream",
     "text": [
      "Rank 0. Scalar =  483\n"
     ]
    }
   ],
   "source": [
    "import numpy as np\n",
    "s = 483\n",
    "print(\"Rank 0. Scalar = \", s)"
   ]
  },
  {
   "cell_type": "code",
   "execution_count": 15,
   "metadata": {},
   "outputs": [
    {
     "name": "stdout",
     "output_type": "stream",
     "text": [
      "Rank 1. Shape =  (3,)\n",
      "Rank 1. Items = \n",
      " [1.1 2.2 3.3]\n"
     ]
    }
   ],
   "source": [
    "v = np.array([1.1, 2.2, 3.3])  # Vector\n",
    "print(\"Rank 1. Shape = \", v.shape)\n",
    "print(\"Rank 1. Items = \\n\", v)"
   ]
  },
  {
   "cell_type": "code",
   "execution_count": 16,
   "metadata": {},
   "outputs": [
    {
     "name": "stdout",
     "output_type": "stream",
     "text": [
      "Rank 2. Shape =  (2, 3)\n",
      "Rank 2. Items = \n",
      " [[1 2 3]\n",
      " [4 5 6]]\n"
     ]
    }
   ],
   "source": [
    "m = np.array([[1, 2, 3], [4, 5, 6]])  # Matrix\n",
    "print(\"Rank 2. Shape = \", m.shape)\n",
    "print(\"Rank 2. Items = \\n\", m)"
   ]
  },
  {
   "cell_type": "code",
   "execution_count": 17,
   "metadata": {},
   "outputs": [
    {
     "name": "stdout",
     "output_type": "stream",
     "text": [
      "Rank 3. Shape =  (4, 3, 1)\n",
      "Rank 3. Items = \n",
      " [[[ 2]\n",
      "  [ 4]\n",
      "  [ 6]]\n",
      "\n",
      " [[ 8]\n",
      "  [10]\n",
      "  [12]]\n",
      "\n",
      " [[14]\n",
      "  [16]\n",
      "  [18]]\n",
      "\n",
      " [[20]\n",
      "  [22]\n",
      "  [24]]]\n"
     ]
    }
   ],
   "source": [
    "t = np.array([[[2], [4], [6]], [[8], [10], [12]],\n",
    "             [[14], [16], [18]], [[20], [22], [24]]]) # 3-Tensor\n",
    "print(\"Rank 3. Shape = \", t.shape)\n",
    "print(\"Rank 3. Items = \\n\", t)"
   ]
  },
  {
   "cell_type": "code",
   "execution_count": 18,
   "metadata": {},
   "outputs": [
    {
     "name": "stdout",
     "output_type": "stream",
     "text": [
      "Rank 3. (2nd) Shape =  (4, 3, 2)\n",
      "Rank 3. (2nd) Items = \n",
      " [[[ 2  1]\n",
      "  [ 4  1]\n",
      "  [ 6  1]]\n",
      "\n",
      " [[ 8  1]\n",
      "  [10  1]\n",
      "  [12  1]]\n",
      "\n",
      " [[14  1]\n",
      "  [16  1]\n",
      "  [18  1]]\n",
      "\n",
      " [[20  1]\n",
      "  [22  1]\n",
      "  [24  1]]]\n"
     ]
    }
   ],
   "source": [
    "t = np.array([[[2, 1], [4, 1], [6, 1]], [[8, 1], [10, 1], [12, 1]],\n",
    "             [[14, 1], [16, 1], [18, 1]], [[20, 1], [22, 1], [24, 1]]]) # 3-Tensor\n",
    "print(\"Rank 3. (2nd) Shape = \", t.shape)\n",
    "print(\"Rank 3. (2nd) Items = \\n\", t)"
   ]
  },
  {
   "cell_type": "code",
   "execution_count": 19,
   "metadata": {},
   "outputs": [
    {
     "name": "stdout",
     "output_type": "stream",
     "text": [
      "[[0. 0.]\n",
      " [0. 0.]\n",
      " [0. 0.]]\n"
     ]
    }
   ],
   "source": [
    "# array 생성과 기본값 채우기\n",
    "import numpy as np\n",
    "\n",
    "# 0으로 채운 배열 생성\n",
    "a = np.zeros((3, 2))\n",
    "print(a)"
   ]
  },
  {
   "cell_type": "code",
   "execution_count": 20,
   "metadata": {},
   "outputs": [
    {
     "name": "stdout",
     "output_type": "stream",
     "text": [
      "[[1. 1.]\n",
      " [1. 1.]\n",
      " [1. 1.]\n",
      " [1. 1.]]\n"
     ]
    }
   ],
   "source": [
    "# 1로 채운 배열 생성\n",
    "b = np.ones((4, 2))\n",
    "print(b)"
   ]
  },
  {
   "cell_type": "code",
   "execution_count": 21,
   "metadata": {},
   "outputs": [
    {
     "name": "stdout",
     "output_type": "stream",
     "text": [
      "[[7 7 7]\n",
      " [7 7 7]]\n"
     ]
    }
   ],
   "source": [
    "# 지정한 숫자로 채우기\n",
    "c = np.full((2, 3), 7)\n",
    "print(c)"
   ]
  },
  {
   "cell_type": "code",
   "execution_count": 22,
   "metadata": {},
   "outputs": [
    {
     "name": "stdout",
     "output_type": "stream",
     "text": [
      "[[1. 0. 0. 0. 0.]\n",
      " [0. 1. 0. 0. 0.]\n",
      " [0. 0. 1. 0. 0.]\n",
      " [0. 0. 0. 1. 0.]\n",
      " [0. 0. 0. 0. 1.]]\n"
     ]
    }
   ],
   "source": [
    "# 대각선만 1인 행렬\n",
    "d = np.eye(5)\n",
    "print(d)"
   ]
  },
  {
   "cell_type": "code",
   "execution_count": 23,
   "metadata": {},
   "outputs": [
    {
     "name": "stdout",
     "output_type": "stream",
     "text": [
      "[[0.57800554 0.41122284]\n",
      " [0.94363894 0.69566411]]\n"
     ]
    }
   ],
   "source": [
    "# 0 ~ 1사이의 난수\n",
    "e = np.random.random((2, 2))\n",
    "print(e)"
   ]
  },
  {
   "cell_type": "code",
   "execution_count": 24,
   "metadata": {},
   "outputs": [
    {
     "name": "stdout",
     "output_type": "stream",
     "text": [
      "[[ 6  8]\n",
      " [10 12]]\n",
      "[[4 4]\n",
      " [4 4]]\n",
      "[[ 5 12]\n",
      " [21 32]]\n",
      "[[0.2        0.33333333]\n",
      " [0.42857143 0.5       ]]\n",
      "[[19 22]\n",
      " [43 50]]\n"
     ]
    }
   ],
   "source": [
    "# array 연산\n",
    "a = np.array([[1,2], [3,4]])\n",
    "b = np.array([[5,6], [7,8]])\n",
    "\n",
    "print(a+b)\n",
    "print(b-a)\n",
    "print(a*b)\n",
    "print(a/b)\n",
    "print(a@b)   # 행렬곱셈"
   ]
  },
  {
   "cell_type": "code",
   "execution_count": 25,
   "metadata": {},
   "outputs": [
    {
     "name": "stdout",
     "output_type": "stream",
     "text": [
      "True\n"
     ]
    }
   ],
   "source": [
    "x = float('nan')\n",
    "print(np.isnan(x))"
   ]
  },
  {
   "cell_type": "code",
   "execution_count": null,
   "metadata": {},
   "outputs": [],
   "source": []
  }
 ],
 "metadata": {
  "kernelspec": {
   "display_name": "Python 3",
   "language": "python",
   "name": "python3"
  },
  "language_info": {
   "codemirror_mode": {
    "name": "ipython",
    "version": 3
   },
   "file_extension": ".py",
   "mimetype": "text/x-python",
   "name": "python",
   "nbconvert_exporter": "python",
   "pygments_lexer": "ipython3",
   "version": "3.5.6"
  }
 },
 "nbformat": 4,
 "nbformat_minor": 2
}
