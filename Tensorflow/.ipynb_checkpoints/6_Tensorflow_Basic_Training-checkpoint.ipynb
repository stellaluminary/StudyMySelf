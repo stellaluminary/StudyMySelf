{
 "cells": [
  {
   "cell_type": "markdown",
   "metadata": {},
   "source": [
    "# y = 1.4x + 3.5"
   ]
  },
  {
   "cell_type": "code",
   "execution_count": 1,
   "metadata": {},
   "outputs": [],
   "source": [
    "import tensorflow as tf"
   ]
  },
  {
   "cell_type": "code",
   "execution_count": 2,
   "metadata": {},
   "outputs": [],
   "source": [
    "# 학습데이터(x, y)\n",
    "x_train = [1, 2, 3, 4]\n",
    "y_train = [6, 5, 7, 10]"
   ]
  },
  {
   "cell_type": "code",
   "execution_count": 3,
   "metadata": {},
   "outputs": [],
   "source": [
    "# 변수 선언\n",
    "# 텐서플로 내부에서 계속 조정하는 값은 Variable로 선언\n",
    "# 가중치(weight), 편향값(bias)\n",
    "# 학습해야 하니까\n",
    "# 우리는 그냥 바라만 본다\n",
    "W = tf.Variable(tf.random_normal([1]), name='weight2')\n",
    "b = tf.Variable(tf.random_normal([1]), name='bias')"
   ]
  },
  {
   "cell_type": "code",
   "execution_count": 7,
   "metadata": {},
   "outputs": [
    {
     "name": "stdout",
     "output_type": "stream",
     "text": [
      "hypothesis:  Tensor(\"add_2:0\", shape=(4,), dtype=float32)\n"
     ]
    }
   ],
   "source": [
    "# 가설식\n",
    "# 예측값\n",
    "hypothesis = x_train * W + b\n",
    "print(\"hypothesis: \", hypothesis)"
   ]
  },
  {
   "cell_type": "code",
   "execution_count": 8,
   "metadata": {},
   "outputs": [
    {
     "name": "stdout",
     "output_type": "stream",
     "text": [
      "cost:  Tensor(\"Mean_1:0\", shape=(), dtype=float32)\n"
     ]
    }
   ],
   "source": [
    "# cost/loss function \n",
    "# 제곱오차\n",
    "cost = tf.reduce_mean(tf.square(hypothesis - y_train))\n",
    "print(\"cost: \", cost)"
   ]
  },
  {
   "cell_type": "code",
   "execution_count": 12,
   "metadata": {},
   "outputs": [
    {
     "name": "stdout",
     "output_type": "stream",
     "text": [
      "optimizer:  <tensorflow.python.training.gradient_descent.GradientDescentOptimizer object at 0x0000021B9EC17D68>\n",
      "train:  name: \"GradientDescent_1\"\n",
      "op: \"NoOp\"\n",
      "input: \"^GradientDescent_1/update_weight2/ApplyGradientDescent\"\n",
      "input: \"^GradientDescent_1/update_bias/ApplyGradientDescent\"\n",
      "\n"
     ]
    }
   ],
   "source": [
    "# 최적화 함수\n",
    "# 경사하강법\n",
    "optimizer = tf.train.GradientDescentOptimizer(learning_rate=0.01)\n",
    "train = optimizer.minimize(cost)\n",
    "print(\"optimizer: \", optimizer)\n",
    "print(\"train: \", train)"
   ]
  },
  {
   "cell_type": "code",
   "execution_count": 13,
   "metadata": {},
   "outputs": [],
   "source": [
    "sess = tf.Session()"
   ]
  },
  {
   "cell_type": "code",
   "execution_count": null,
   "metadata": {},
   "outputs": [],
   "source": [
    "sess.run(tf.global_varialbes_initializer())"
   ]
  }
 ],
 "metadata": {
  "kernelspec": {
   "display_name": "Python 3",
   "language": "python",
   "name": "python3"
  },
  "language_info": {
   "codemirror_mode": {
    "name": "ipython",
    "version": 3
   },
   "file_extension": ".py",
   "mimetype": "text/x-python",
   "name": "python",
   "nbconvert_exporter": "python",
   "pygments_lexer": "ipython3",
   "version": "3.5.6"
  }
 },
 "nbformat": 4,
 "nbformat_minor": 2
}
