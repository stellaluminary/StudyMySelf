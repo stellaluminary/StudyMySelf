{
 "cells": [
  {
   "cell_type": "code",
   "execution_count": 89,
   "metadata": {},
   "outputs": [],
   "source": [
    "import tensorflow as tf"
   ]
  },
  {
   "cell_type": "code",
   "execution_count": 90,
   "metadata": {
    "scrolled": true
   },
   "outputs": [
    {
     "name": "stdout",
     "output_type": "stream",
     "text": [
      "Extracting MNIST_data/train-images-idx3-ubyte.gz\n",
      "Extracting MNIST_data/train-labels-idx1-ubyte.gz\n",
      "Extracting MNIST_data/t10k-images-idx3-ubyte.gz\n",
      "Extracting MNIST_data/t10k-labels-idx1-ubyte.gz\n"
     ]
    }
   ],
   "source": [
    "# MNIST 데이터를 다운로드 한다\n",
    "from tensorflow.examples.tutorials.mnist import input_data\n",
    "mnist = input_data.read_data_sets(\"MNIST_data/\", one_hot=True)"
   ]
  },
  {
   "cell_type": "code",
   "execution_count": 91,
   "metadata": {},
   "outputs": [],
   "source": [
    "# placeholder, variables을 설정한다.\n",
    "# None은 10000개, 1000개 , 60000개 , ?\n",
    "# 784    동시에 input되는 값이 784개 = 28 x 28\n",
    "X = tf.placeholder(tf.float32, [None, 784])"
   ]
  },
  {
   "cell_type": "code",
   "execution_count": 92,
   "metadata": {},
   "outputs": [],
   "source": [
    "# 출력값 0 ~ 9 : 10개\n",
    "Y = tf.placeholder(tf.float32, [None, 10])"
   ]
  },
  {
   "cell_type": "code",
   "execution_count": 93,
   "metadata": {},
   "outputs": [],
   "source": [
    "# 변수\n",
    "W = tf.Variable(tf.random_normal([784, 10]))\n",
    "b = tf.Variable(tf.random_normal([10]))"
   ]
  },
  {
   "cell_type": "code",
   "execution_count": 94,
   "metadata": {},
   "outputs": [],
   "source": [
    "logit_y = tf.matmul(X, W) + b"
   ]
  },
  {
   "cell_type": "code",
   "execution_count": 95,
   "metadata": {},
   "outputs": [],
   "source": [
    "# softmax 함수 : 분류할 때 사용하는 함수\n",
    "softmax_y = tf.nn.softmax(logit_y)"
   ]
  },
  {
   "cell_type": "code",
   "execution_count": 96,
   "metadata": {},
   "outputs": [],
   "source": [
    "# Cross-Entropy 함수 : Cost 오차를 측정하는 함수\n",
    "cross_entropy = tf.reduce_mean(\n",
    "            -tf.reduce_sum(Y * tf.log(softmax_y), \n",
    "                           reduction_indices=[1]))"
   ]
  },
  {
   "cell_type": "code",
   "execution_count": 97,
   "metadata": {},
   "outputs": [],
   "source": [
    "# 최적화 함수\n",
    "optimizer = tf.train.GradientDescentOptimizer(0.2)\n",
    "train = optimizer.minimize(cross_entropy)"
   ]
  },
  {
   "cell_type": "code",
   "execution_count": 98,
   "metadata": {},
   "outputs": [],
   "source": [
    "# 학습한다\n",
    "sess = tf.Session()\n",
    "sess.run(tf.global_variables_initializer())"
   ]
  },
  {
   "cell_type": "code",
   "execution_count": 99,
   "metadata": {},
   "outputs": [
    {
     "name": "stdout",
     "output_type": "stream",
     "text": [
      "0 training...\n",
      "100 training...\n",
      "200 training...\n",
      "300 training...\n",
      "400 training...\n",
      "500 training...\n",
      "600 training...\n",
      "700 training...\n",
      "800 training...\n",
      "900 training...\n",
      "1000 training...\n",
      "1100 training...\n",
      "1200 training...\n",
      "1300 training...\n",
      "1400 training...\n",
      "1500 training...\n",
      "1600 training...\n",
      "1700 training...\n",
      "1800 training...\n",
      "1900 training...\n",
      "2000 training...\n",
      "2100 training...\n",
      "2200 training...\n",
      "2300 training...\n",
      "2400 training...\n",
      "2500 training...\n",
      "2600 training...\n",
      "2700 training...\n",
      "2800 training...\n",
      "2900 training...\n",
      "3000 training...\n",
      "3100 training...\n",
      "3200 training...\n",
      "3300 training...\n",
      "3400 training...\n",
      "3500 training...\n",
      "3600 training...\n",
      "3700 training...\n",
      "3800 training...\n",
      "3900 training...\n",
      "4000 training...\n",
      "4100 training...\n",
      "4200 training...\n",
      "4300 training...\n",
      "4400 training...\n",
      "4500 training...\n",
      "4600 training...\n",
      "4700 training...\n",
      "4800 training...\n",
      "4900 training...\n",
      "5000 training...\n",
      "5100 training...\n",
      "5200 training...\n",
      "5300 training...\n",
      "5400 training...\n",
      "5500 training...\n",
      "5600 training...\n",
      "5700 training...\n",
      "5800 training...\n",
      "5900 training...\n",
      "6000 training...\n",
      "6100 training...\n",
      "6200 training...\n",
      "6300 training...\n",
      "6400 training...\n",
      "6500 training...\n",
      "6600 training...\n",
      "6700 training...\n",
      "6800 training...\n",
      "6900 training...\n",
      "7000 training...\n",
      "7100 training...\n",
      "7200 training...\n",
      "7300 training...\n",
      "7400 training...\n",
      "7500 training...\n",
      "7600 training...\n",
      "7700 training...\n",
      "7800 training...\n",
      "7900 training...\n",
      "8000 training...\n",
      "8100 training...\n",
      "8200 training...\n",
      "8300 training...\n",
      "8400 training...\n",
      "8500 training...\n",
      "8600 training...\n",
      "8700 training...\n",
      "8800 training...\n",
      "8900 training...\n",
      "9000 training...\n",
      "9100 training...\n",
      "9200 training...\n",
      "9300 training...\n",
      "9400 training...\n",
      "9500 training...\n",
      "9600 training...\n",
      "9700 training...\n",
      "9800 training...\n",
      "9900 training...\n",
      "complete!\n"
     ]
    }
   ],
   "source": [
    "for i in range(10000):\n",
    "    batch_xs, batch_ys = mnist.train.next_batch(2000)\n",
    "    cost, _ = sess.run([cost, train], feed_dict={X:batch_xs, Y:batch_ys})\n",
    "    if i % 50 == 0:\n",
    "        print(i, \"training...\", \", cost : \", cost)\n",
    "\n",
    "print(\"complete!\")"
   ]
  },
  {
   "cell_type": "code",
   "execution_count": 100,
   "metadata": {},
   "outputs": [
    {
     "name": "stdout",
     "output_type": "stream",
     "text": [
      "정확도:  0.9051\n"
     ]
    }
   ],
   "source": [
    "# 학습된 모델이 정확한지를 계산하고 출력한다\n",
    "correct_prediction = tf.equal(tf.argmax(softmax_y, 1),\n",
    "                                tf.argmax(Y, 1))\n",
    "accuracy = tf.reduce_mean(tf.cast(correct_prediction,\n",
    "                                 tf.float32))\n",
    "print(\"정확도: \", sess.run(accuracy, \n",
    "                       feed_dict={X: mnist.test.images,\n",
    "                                 Y: mnist.test.labels}))"
   ]
  },
  {
   "cell_type": "code",
   "execution_count": null,
   "metadata": {},
   "outputs": [],
   "source": []
  }
 ],
 "metadata": {
  "kernelspec": {
   "display_name": "Python 3",
   "language": "python",
   "name": "python3"
  },
  "language_info": {
   "codemirror_mode": {
    "name": "ipython",
    "version": 3
   },
   "file_extension": ".py",
   "mimetype": "text/x-python",
   "name": "python",
   "nbconvert_exporter": "python",
   "pygments_lexer": "ipython3",
   "version": "3.5.6"
  }
 },
 "nbformat": 4,
 "nbformat_minor": 2
}
