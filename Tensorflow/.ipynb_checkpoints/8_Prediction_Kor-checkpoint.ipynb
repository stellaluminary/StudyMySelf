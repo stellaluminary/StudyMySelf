{
 "cells": [
  {
   "cell_type": "markdown",
   "metadata": {},
   "source": [
    "# 국어 성적 예측하기"
   ]
  },
  {
   "cell_type": "markdown",
   "metadata": {},
   "source": [
    "- 이름        공부시간       점수\n",
    "-  철수           5시간        52점\n",
    "-  영희           7시간        72점\n",
    "-  민수           8시간        (예측하기)"
   ]
  },
  {
   "cell_type": "code",
   "execution_count": 1,
   "metadata": {},
   "outputs": [],
   "source": [
    "import tensorflow as tf"
   ]
  },
  {
   "cell_type": "code",
   "execution_count": 2,
   "metadata": {},
   "outputs": [],
   "source": [
    "# 입력, 형태만 알려주는 placeholder로 정의\n",
    "X = tf.placeholder(tf.float32, shape=[None])\n",
    "# 출력, 형태만 알려주는 placeholder로 정의\n",
    "Y = tf.placeholder(tf.float32, shape=[None])"
   ]
  },
  {
   "cell_type": "code",
   "execution_count": 3,
   "metadata": {},
   "outputs": [],
   "source": [
    "# 변수 Weight, Bias정의 초기값은 랜덤값\n",
    "W = tf.Variable(tf.random_normal([1]), name='weight')\n",
    "b = tf.Variable(tf.random_normal([1]), name='bias')"
   ]
  },
  {
   "cell_type": "code",
   "execution_count": 4,
   "metadata": {},
   "outputs": [],
   "source": [
    "# 가설식 정의\n",
    "hypothesis = X * W + b\n",
    "# cost 함수 정의\n",
    "cost = tf.reduce_mean(tf.square(hypothesis - Y))"
   ]
  },
  {
   "cell_type": "code",
   "execution_count": 5,
   "metadata": {},
   "outputs": [],
   "source": [
    "# 최적화 함수 정의\n",
    "optimizer = tf.train.GradientDescentOptimizer(learning_rate=0.01)\n",
    "train = optimizer.minimize(cost)"
   ]
  },
  {
   "cell_type": "code",
   "execution_count": 6,
   "metadata": {},
   "outputs": [],
   "source": [
    "# 그래프 실행 준비\n",
    "sess = tf.Session()\n",
    "sess.run(tf.global_variables_initializer())"
   ]
  },
  {
   "cell_type": "code",
   "execution_count": 7,
   "metadata": {},
   "outputs": [
    {
     "name": "stdout",
     "output_type": "stream",
     "text": [
      "0 3413.0806 [7.7357388] [1.7172383]\n",
      "500 0.0001087637 [9.989712] [2.0633974]\n",
      "1000 6.4187014e-05 [9.992094] [2.0487194]\n",
      "1500 3.7888793e-05 [9.993925] [2.0374346]\n",
      "2000 2.2413238e-05 [9.995332] [2.0287652]\n",
      "2500 1.322609e-05 [9.996413] [2.0221045]\n",
      "3000 7.788301e-06 [9.997243] [2.0169861]\n",
      "3500 4.602858e-06 [9.997882] [2.0130527]\n",
      "4000 2.7121278e-06 [9.998371] [2.0100317]\n",
      "4500 1.6024351e-06 [9.99875] [2.0077057]\n",
      "5000 9.516443e-07 [9.99904] [2.0059197]\n"
     ]
    }
   ],
   "source": [
    "# 그래프 실행, 500번마다 화면출력\n",
    "for step in range(5001):\n",
    "    cost_val, W_val, b_val, _ = sess.run([cost, W, b, train],\n",
    "                                feed_dict={X:[5,7],Y:[52,72]})\n",
    "    if step%500 == 0:\n",
    "        print(step, cost_val, W_val, b_val)    "
   ]
  },
  {
   "cell_type": "code",
   "execution_count": 8,
   "metadata": {},
   "outputs": [
    {
     "name": "stdout",
     "output_type": "stream",
     "text": [
      "예측 Y :  [81.99824]\n"
     ]
    }
   ],
   "source": [
    "# 입력 X를 주고 예측 Y를 받아 화면 출력\n",
    "print(\"예측 Y : \", sess.run(hypothesis, feed_dict={X:[8]}))"
   ]
  },
  {
   "cell_type": "code",
   "execution_count": null,
   "metadata": {},
   "outputs": [],
   "source": []
  }
 ],
 "metadata": {
  "kernelspec": {
   "display_name": "Python 3",
   "language": "python",
   "name": "python3"
  },
  "language_info": {
   "codemirror_mode": {
    "name": "ipython",
    "version": 3
   },
   "file_extension": ".py",
   "mimetype": "text/x-python",
   "name": "python",
   "nbconvert_exporter": "python",
   "pygments_lexer": "ipython3",
   "version": "3.5.6"
  }
 },
 "nbformat": 4,
 "nbformat_minor": 2
}
