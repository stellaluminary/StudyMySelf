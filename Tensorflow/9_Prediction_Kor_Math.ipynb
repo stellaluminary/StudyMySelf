{
 "cells": [
  {
   "cell_type": "markdown",
   "metadata": {},
   "source": [
    "# 입력 인자가 kor, math 2개 경우 예측"
   ]
  },
  {
   "cell_type": "markdown",
   "metadata": {},
   "source": [
    "- 이름       국어공부시간       수학공부시간        점수합계\n",
    "\n",
    "- 철수            5시간              5시간              101점\n",
    "- 영희            7시간              7시간              141점\n",
    "- 민수            8시간              8시간            (예측하기)"
   ]
  },
  {
   "cell_type": "code",
   "execution_count": 1,
   "metadata": {},
   "outputs": [],
   "source": [
    "# 가설\n",
    "# hypothesis = X1 * W1 + X2 * W2 + b"
   ]
  },
  {
   "cell_type": "code",
   "execution_count": 15,
   "metadata": {},
   "outputs": [],
   "source": [
    "import tensorflow as tf"
   ]
  },
  {
   "cell_type": "code",
   "execution_count": 16,
   "metadata": {},
   "outputs": [],
   "source": [
    "# 입력, 형태만 알려주는 placeholder로 정의\n",
    "X1 = tf.placeholder(tf.float32, shape=[None])\n",
    "X2 = tf.placeholder(tf.float32, shape=[None])"
   ]
  },
  {
   "cell_type": "code",
   "execution_count": 17,
   "metadata": {},
   "outputs": [],
   "source": [
    "# 출력, 형태만 알려주는 placeholder로 정의\n",
    "Y = tf.placeholder(tf.float32, shape=[None])"
   ]
  },
  {
   "cell_type": "code",
   "execution_count": 18,
   "metadata": {},
   "outputs": [],
   "source": [
    "# 변수 Weight, Bias 훈련중에 Tensorflow내부에 학습(갱신)\n",
    "W1 = tf.Variable(tf.random_normal([1]), name='weight1')\n",
    "W2 = tf.Variable(tf.random_normal([1]), name='weight2')\n",
    "b = tf.Variable(tf.random_normal([1]), name='bias')"
   ]
  },
  {
   "cell_type": "code",
   "execution_count": 19,
   "metadata": {},
   "outputs": [],
   "source": [
    "# 가설식 정의\n",
    "hypothesis = X1 * W1 + X2 * W2 + b"
   ]
  },
  {
   "cell_type": "code",
   "execution_count": 20,
   "metadata": {},
   "outputs": [],
   "source": [
    "# cost함수 정의(오차 함수 : 정답과 얼마나 차이가 있느냐)\n",
    "cost = tf.reduce_mean(tf.square(hypothesis - Y))"
   ]
  },
  {
   "cell_type": "code",
   "execution_count": 21,
   "metadata": {},
   "outputs": [],
   "source": [
    "# 최적화 함수 정의\n",
    "optimizer = tf.train.GradientDescentOptimizer(learning_rate=0.01)\n",
    "train = optimizer.minimize(cost)"
   ]
  },
  {
   "cell_type": "code",
   "execution_count": 23,
   "metadata": {},
   "outputs": [],
   "source": [
    "# 그래프 실행 준비\n",
    "sess = tf.Session()\n",
    "sess.run(tf.global_variables_initializer())"
   ]
  },
  {
   "cell_type": "code",
   "execution_count": 24,
   "metadata": {},
   "outputs": [
    {
     "name": "stdout",
     "output_type": "stream",
     "text": [
      "0 17621.191 [13.64958] [17.240257] [1.0622432]\n",
      "500 0.010420555 [8.254996] [11.845674] [0.37941808]\n",
      "1000 0.0061112945 [8.243208] [11.833885] [0.52475846]\n",
      "1500 0.003584112 [8.23418] [11.824858] [0.6360586]\n",
      "2000 0.0021019117 [8.227267] [11.817945] [0.72129476]\n",
      "2500 0.0012323204 [8.221973] [11.812651] [0.7865683]\n",
      "3000 0.0007224765 [8.217919] [11.808597] [0.83655536]\n",
      "3500 0.0004238995 [8.214812] [11.80549] [0.874835]\n",
      "4000 0.0002484719 [8.212437] [11.803114] [0.90414757]\n",
      "4500 0.00014583231 [8.210614] [11.801291] [0.9265969]\n",
      "5000 8.557833e-05 [8.20922] [11.799897] [0.9437904]\n"
     ]
    }
   ],
   "source": [
    "# 그래프 실행\n",
    "for step in range(5001):\n",
    "    cost_val, W_val1, W_val2, b_val, _ = \\\n",
    "        sess.run([cost, W1, W2, b, train], \n",
    "                feed_dict={X1:[5,7], X2:[5,7], Y:[101,141]})\n",
    "    if step%500 == 0:\n",
    "        print(step, cost_val, W_val1, W_val2, b_val)"
   ]
  },
  {
   "cell_type": "code",
   "execution_count": 25,
   "metadata": {},
   "outputs": [
    {
     "name": "stdout",
     "output_type": "stream",
     "text": [
      "예측 Y :  [100.98937 141.0076  161.01672]\n"
     ]
    }
   ],
   "source": [
    "# 입력 X를 주고 예측 Y를 받아 화면 출력\n",
    "print(\"예측 Y : \", \n",
    "      sess.run(hypothesis, \n",
    "               feed_dict={X1:[5, 7, 8], X2:[5, 7, 8]}))"
   ]
  },
  {
   "cell_type": "code",
   "execution_count": null,
   "metadata": {},
   "outputs": [],
   "source": []
  }
 ],
 "metadata": {
  "kernelspec": {
   "display_name": "Python 3",
   "language": "python",
   "name": "python3"
  },
  "language_info": {
   "codemirror_mode": {
    "name": "ipython",
    "version": 3
   },
   "file_extension": ".py",
   "mimetype": "text/x-python",
   "name": "python",
   "nbconvert_exporter": "python",
   "pygments_lexer": "ipython3",
   "version": "3.5.6"
  }
 },
 "nbformat": 4,
 "nbformat_minor": 2
}
