{
 "cells": [
  {
   "cell_type": "code",
   "execution_count": 1,
   "metadata": {
    "collapsed": true
   },
   "outputs": [],
   "source": [
    "import tensorflow as tf\n",
    "import numpy as np"
   ]
  },
  {
   "cell_type": "code",
   "execution_count": 2,
   "metadata": {
    "collapsed": true
   },
   "outputs": [],
   "source": [
    "x_data=np.array([[0,0],[1,0],[1,1],[0,0],[0,0],[0,1]])# 털 유무 : 날개 유무\n",
    "y_data=np.array([[1,0,0],[0,1,0],[0,0,1],[1,0,0],[1,0,0],[0,0,1]]) # 기타 : 포유류 : 조류"
   ]
  },
  {
   "cell_type": "markdown",
   "metadata": {},
   "source": [
    "# 4.2 - 1 Try 66.6%\n",
    "16.7%~88% 왔다갔다함 => W의 random_uniform 초기값에 따라 많이 변화함"
   ]
  },
  {
   "cell_type": "code",
   "execution_count": 17,
   "metadata": {
    "collapsed": true
   },
   "outputs": [],
   "source": [
    "X=tf.placeholder(tf.float32)\n",
    "Y=tf.placeholder(tf.float32)\n",
    "\n",
    "W=tf.Variable(tf.random_uniform([2,3],-1.,1.)) #random_uniform 균등분포\n",
    "b=tf.Variable(tf.zeros([3]))\n",
    "L=tf.add(tf.matmul(X,W),b)\n",
    "L=tf.nn.relu(L)\n",
    "\n",
    "model=tf.nn.softmax(L)\n",
    "cost=tf.reduce_mean(-tf.reduce_sum(Y*tf.log(model), axis=1)) #cross - entropy\n",
    "optimizer=tf.train.GradientDescentOptimizer(learning_rate=.01)\n",
    "train_op=optimizer.minimize(cost)"
   ]
  },
  {
   "cell_type": "code",
   "execution_count": 18,
   "metadata": {
    "collapsed": false
   },
   "outputs": [
    {
     "name": "stdout",
     "output_type": "stream",
     "text": [
      "10 \t cost: 1.2178036\n",
      "20 \t cost: 1.2034622\n",
      "30 \t cost: 1.1897649\n",
      "40 \t cost: 1.1766967\n",
      "50 \t cost: 1.1641628\n",
      "60 \t cost: 1.1522752\n",
      "70 \t cost: 1.1408906\n",
      "80 \t cost: 1.1300844\n",
      "90 \t cost: 1.1196555\n",
      "100 \t cost: 1.1097602\n",
      "Prediction: [2 1 0 2 2 2]\n",
      "Real Value: [0 1 2 0 0 2]\n",
      "Accuracy:33.33\n"
     ]
    }
   ],
   "source": [
    "init=tf.global_variables_initializer()\n",
    "sess=tf.Session()\n",
    "sess.run(init)\n",
    "\n",
    "for step in range(100):\n",
    "    sess.run(train_op, feed_dict={X:x_data, Y:y_data})\n",
    "    \n",
    "    if (step+1) %10 == 0:\n",
    "        print(step+1, '\\t cost:',sess.run(cost,feed_dict={X:x_data,Y:y_data}))\n",
    "        \n",
    "prediction=tf.argmax(model,1)\n",
    "target=tf.argmax(Y,1)\n",
    "print('Prediction:',sess.run(prediction,feed_dict={X:x_data}))\n",
    "print('Real Value:',sess.run(target,feed_dict={Y:y_data}))\n",
    "\n",
    "is_correct=tf.equal(prediction, target)\n",
    "accuracy=tf.reduce_mean(tf.cast(is_correct, tf.float32))\n",
    "print('Accuracy:%.2f' % sess.run(accuracy*100, feed_dict={X:x_data, Y:y_data}))\n",
    "sess.close()"
   ]
  },
  {
   "cell_type": "markdown",
   "metadata": {},
   "source": [
    "# 4.3 심층 신경망 구현하기"
   ]
  },
  {
   "cell_type": "code",
   "execution_count": 24,
   "metadata": {
    "collapsed": true
   },
   "outputs": [],
   "source": [
    "W1=tf.Variable(tf.random_uniform([2,10],-1.,1.))\n",
    "W2=tf.Variable(tf.random_uniform([10,3],-1.,1.))\n",
    "\n",
    "b1=tf.Variable(tf.zeros([10]))\n",
    "b2=tf.Variable(tf.zeros([3]))\n",
    "\n",
    "L1=tf.add(tf.matmul(X,W1),b1)\n",
    "L1=tf.nn.relu(L1)\n",
    "model=tf.add(tf.matmul(L1,W2),b2)\n",
    "\n",
    "cost=tf.reduce_mean(tf.nn.softmax_cross_entropy_with_logits_v2(labels=Y,logits=model))\n",
    "optimizer=tf.train.AdamOptimizer(.01)\n",
    "train_op=optimizer.minimize(cost)"
   ]
  },
  {
   "cell_type": "code",
   "execution_count": 25,
   "metadata": {
    "collapsed": false
   },
   "outputs": [
    {
     "name": "stdout",
     "output_type": "stream",
     "text": [
      "10 \t cost: 0.7040131\n",
      "20 \t cost: 0.55824274\n",
      "30 \t cost: 0.44211376\n",
      "40 \t cost: 0.34222278\n",
      "50 \t cost: 0.2571103\n",
      "60 \t cost: 0.18496563\n",
      "70 \t cost: 0.12562166\n",
      "80 \t cost: 0.082470134\n",
      "90 \t cost: 0.054346394\n",
      "100 \t cost: 0.037117075\n",
      "Prediction: [0 1 2 0 0 2]\n",
      "Real Value: [0 1 2 0 0 2]\n",
      "Accuracy: 100.0\n"
     ]
    }
   ],
   "source": [
    "init=tf.global_variables_initializer()\n",
    "sess=tf.Session()\n",
    "sess.run(init)\n",
    "\n",
    "for step in range(100):\n",
    "    _,cost_val=sess.run([train_op,cost], feed_dict={X:x_data, Y:y_data})\n",
    "    \n",
    "    if (step+1) %10 ==0:\n",
    "        print(step+1,'\\t cost:',cost_val)\n",
    "        \n",
    "prediction=tf.argmax(model,1)\n",
    "target=tf.argmax(Y,1)\n",
    "print('Prediction:',sess.run(prediction, feed_dict={X:x_data}))\n",
    "print('Real Value:',sess.run(target,feed_dict={Y:y_data}))\n",
    "\n",
    "is_correct=tf.equal(prediction, target)\n",
    "accuracy=tf.reduce_mean(tf.cast(is_correct, tf.float32))\n",
    "print('Accuracy:', sess.run(accuracy*100, feed_dict={X:x_data,Y:y_data}))"
   ]
  },
  {
   "cell_type": "code",
   "execution_count": null,
   "metadata": {
    "collapsed": true
   },
   "outputs": [],
   "source": []
  }
 ],
 "metadata": {
  "kernelspec": {
   "display_name": "Python 3",
   "language": "python",
   "name": "python3"
  },
  "language_info": {
   "codemirror_mode": {
    "name": "ipython",
    "version": 3
   },
   "file_extension": ".py",
   "mimetype": "text/x-python",
   "name": "python",
   "nbconvert_exporter": "python",
   "pygments_lexer": "ipython3",
   "version": "3.6.2"
  }
 },
 "nbformat": 4,
 "nbformat_minor": 2
}
