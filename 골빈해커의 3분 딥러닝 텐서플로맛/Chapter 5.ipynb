{
 "cells": [
  {
   "cell_type": "markdown",
   "metadata": {},
   "source": [
    "# 5.1 Model Reuse"
   ]
  },
  {
   "cell_type": "code",
   "execution_count": 19,
   "metadata": {
    "collapsed": false
   },
   "outputs": [
    {
     "name": "stdout",
     "output_type": "stream",
     "text": [
      "data\n",
      " [[0. 1. 1. 0. 0. 0.]\n",
      " [0. 0. 1. 0. 0. 1.]\n",
      " [1. 0. 0. 1. 1. 0.]\n",
      " [0. 1. 0. 0. 0. 0.]\n",
      " [0. 0. 1. 0. 0. 1.]]\n",
      "x_data \n",
      " [[0. 0.]\n",
      " [1. 0.]\n",
      " [1. 1.]\n",
      " [0. 0.]\n",
      " [0. 0.]\n",
      " [0. 1.]]\n",
      "y_data \n",
      " [[1. 0. 0.]\n",
      " [0. 1. 0.]\n",
      " [0. 0. 1.]\n",
      " [1. 0. 0.]\n",
      " [1. 0. 0.]\n",
      " [0. 0. 1.]]\n"
     ]
    },
    {
     "data": {
      "text/plain": [
       "\"\\ndata2=np.loadtxt('./data.csv', delimiter=',',dtype='float32')\\nprint('data2\\n',data2)\\n\""
      ]
     },
     "execution_count": 19,
     "metadata": {},
     "output_type": "execute_result"
    }
   ],
   "source": [
    "import tensorflow as tf\n",
    "import numpy as np\n",
    "\n",
    "data=np.loadtxt('./data.csv', delimiter=',', unpack=True, dtype='float32') #unpack=True로 행과 열이 바뀜 \n",
    "x_data=np.transpose(data[0:2])#load시 unpack=True로 행, 열이 반전되었기 때문에 다시 transpose 전치함\n",
    "y_data=np.transpose(data[2:])\n",
    "\n",
    "print('data\\n',data)\n",
    "print('x_data \\n',x_data)\n",
    "print('y_data \\n',y_data)\n",
    "\n",
    "\"\"\"\n",
    "data2=np.loadtxt('./data.csv', delimiter=',',dtype='float32')\n",
    "print('data2\\n',data2)\n",
    "\"\"\""
   ]
  },
  {
   "cell_type": "code",
   "execution_count": 20,
   "metadata": {
    "collapsed": true
   },
   "outputs": [],
   "source": [
    "global_step=tf.Variable(0, trainable=False, name='global_step')\n",
    "\n",
    "X=tf.placeholder(tf.float32)\n",
    "Y=tf.placeholder(tf.float32)\n",
    "\n",
    "W1=tf.Variable(tf.random_uniform([2,10],-1.,1.))\n",
    "L1=tf.nn.relu(tf.matmul(X,W1))\n",
    "\n",
    "W2=tf.Variable(tf.random_uniform([10,20],-1.,1.))\n",
    "L2=tf.nn.relu(tf.matmul(L1,W2))\n",
    "\n",
    "W3=tf.Variable(tf.random_uniform([20,3],-1.,1.))\n",
    "model=tf.matmul(L2,W3)\n",
    "\n",
    "cost=tf.reduce_mean(tf.nn.softmax_cross_entropy_with_logits_v2(labels=Y, logits=model))\n",
    "optimizer=tf.train.AdamOptimizer(learning_rate=.01)\n",
    "train_op=optimizer.minimize(cost,global_step=global_step)"
   ]
  },
  {
   "cell_type": "code",
   "execution_count": 21,
   "metadata": {
    "collapsed": false
   },
   "outputs": [],
   "source": [
    "#activate Session\n",
    "\n",
    "sess=tf.Session()\n",
    "saver=tf.train.Saver(tf.global_variables())\n",
    "\n",
    "ckpt=tf.train.get_checkpoint_state('./model')\n",
    "if ckpt and tf.train.checkpoint_exists(ckpt.model_checkpoint_path):\n",
    "    saver.restore(sess, ckpt.model_checkpoint_path)\n",
    "else:\n",
    "    sess.run(tf.global_variables_initializer())"
   ]
  },
  {
   "cell_type": "code",
   "execution_count": 24,
   "metadata": {
    "collapsed": false
   },
   "outputs": [
    {
     "name": "stdout",
     "output_type": "stream",
     "text": [
      "Step:3,  Cost:1.163,\n",
      "Step:4,  Cost:1.075,\n"
     ]
    },
    {
     "data": {
      "text/plain": [
       "'./model/dnn.ckpt-4'"
      ]
     },
     "execution_count": 24,
     "metadata": {},
     "output_type": "execute_result"
    }
   ],
   "source": [
    "for step in range(2):\n",
    "    sess.run(train_op, feed_dict={X:x_data, Y:y_data})\n",
    "    \n",
    "    print('Step:%d, ' %sess.run(global_step),\n",
    "         'Cost:%.3f,' % sess.run(cost, feed_dict={X:x_data, Y:y_data}))\n",
    "saver.save(sess, './model/dnn.ckpt', global_step=global_step)"
   ]
  },
  {
   "cell_type": "code",
   "execution_count": 23,
   "metadata": {
    "collapsed": false
   },
   "outputs": [
    {
     "name": "stdout",
     "output_type": "stream",
     "text": [
      "Prediction: [0 0 0 0 0 0]\n",
      "Target: [0 1 2 0 0 2]\n",
      "Accuracy: 50.0\n"
     ]
    }
   ],
   "source": [
    "prediction=tf.argmax(model,1)\n",
    "target=tf.argmax(Y,1)\n",
    "print('Prediction:',sess.run(prediction, feed_dict={X:x_data}))\n",
    "print('Target:', sess.run(target, feed_dict={Y:y_data}))\n",
    "is_correct=tf.equal(prediction,target)\n",
    "accuracy=tf.reduce_mean(tf.cast(is_correct, tf.float32))\n",
    "print('Accuracy:',sess.run(accuracy*100, feed_dict={X:x_data, Y:y_data}))"
   ]
  },
  {
   "cell_type": "markdown",
   "metadata": {
    "collapsed": true
   },
   "source": [
    "# 5.2 Tensorboard"
   ]
  },
  {
   "cell_type": "code",
   "execution_count": 1,
   "metadata": {
    "collapsed": true
   },
   "outputs": [],
   "source": [
    "import tensorflow as tf\n",
    "import numpy as np\n",
    "\n",
    "data=np.loadtxt('./data.csv', delimiter=',', unpack=True, dtype='float32') #unpack=True로 행과 열이 바뀜 \n",
    "x_data=np.transpose(data[0:2])#load시 unpack=True로 행, 열이 반전되었기 때문에 다시 transpose 전치함\n",
    "y_data=np.transpose(data[2:])\n",
    "\n",
    "global_step=tf.Variable(0, trainable=False, name='global_step')\n",
    "\n",
    "X=tf.placeholder(tf.float32, name='X')\n",
    "Y=tf.placeholder(tf.float32, name='Y')\n",
    "\n",
    "with tf.name_scope('layer1'):\n",
    "    W1=tf.Variable(tf.random_uniform([2,10],-1.,1.), name='W1')\n",
    "    L1=tf.nn.relu(tf.matmul(X,W1))\n",
    "\n",
    "with tf.name_scope('layer2'):\n",
    "    W2=tf.Variable(tf.random_uniform([10,20],-1.,1.), name='W2')\n",
    "    L2=tf.nn.relu(tf.matmul(L1,W2))\n",
    "\n",
    "with tf.name_scope('output'):\n",
    "    W3=tf.Variable(tf.random_uniform([20,3],-1.,1.), name='W3')\n",
    "    model=tf.matmul(L2,W3)\n",
    "\n",
    "with tf.name_scope('optimizer'):\n",
    "    cost=tf.reduce_mean(tf.nn.softmax_cross_entropy_with_logits_v2(labels=Y, logits=model))\n",
    "    optimizer=tf.train.AdamOptimizer(learning_rate=.01)\n",
    "    train_op=optimizer.minimize(cost,global_step=global_step)\n",
    "    tf.summary.scalar('cost',cost)"
   ]
  },
  {
   "cell_type": "code",
   "execution_count": 2,
   "metadata": {
    "collapsed": true
   },
   "outputs": [],
   "source": [
    "#activate Session\n",
    "\n",
    "sess=tf.Session()\n",
    "saver=tf.train.Saver(tf.global_variables())\n",
    "\n",
    "ckpt=tf.train.get_checkpoint_state('./model')\n",
    "if ckpt and tf.train.checkpoint_exists(ckpt.model_checkpoint_path):\n",
    "    saver.restore(sess, ckpt.model_checkpoint_path)\n",
    "else:\n",
    "    sess.run(tf.global_variables_initializer())\n",
    "\n",
    "merged=tf.summary.merge_all()\n",
    "writer=tf.summary.FileWriter('./logs',sess.graph)"
   ]
  },
  {
   "cell_type": "code",
   "execution_count": 3,
   "metadata": {
    "collapsed": false,
    "scrolled": true
   },
   "outputs": [
    {
     "name": "stdout",
     "output_type": "stream",
     "text": [
      "Step:1,  Cost:1.539,\n",
      "Step:2,  Cost:1.461,\n",
      "Step:3,  Cost:1.387,\n",
      "Step:4,  Cost:1.318,\n",
      "Step:5,  Cost:1.252,\n",
      "Step:6,  Cost:1.190,\n",
      "Step:7,  Cost:1.132,\n",
      "Step:8,  Cost:1.077,\n",
      "Step:9,  Cost:1.025,\n",
      "Step:10,  Cost:0.981,\n",
      "Step:11,  Cost:0.940,\n",
      "Step:12,  Cost:0.901,\n",
      "Step:13,  Cost:0.865,\n",
      "Step:14,  Cost:0.831,\n",
      "Step:15,  Cost:0.801,\n",
      "Step:16,  Cost:0.773,\n",
      "Step:17,  Cost:0.749,\n",
      "Step:18,  Cost:0.727,\n",
      "Step:19,  Cost:0.709,\n",
      "Step:20,  Cost:0.693,\n",
      "Step:21,  Cost:0.678,\n",
      "Step:22,  Cost:0.665,\n",
      "Step:23,  Cost:0.653,\n",
      "Step:24,  Cost:0.643,\n",
      "Step:25,  Cost:0.633,\n",
      "Step:26,  Cost:0.624,\n",
      "Step:27,  Cost:0.616,\n",
      "Step:28,  Cost:0.609,\n",
      "Step:29,  Cost:0.602,\n",
      "Step:30,  Cost:0.596,\n",
      "Step:31,  Cost:0.591,\n",
      "Step:32,  Cost:0.587,\n",
      "Step:33,  Cost:0.583,\n",
      "Step:34,  Cost:0.579,\n",
      "Step:35,  Cost:0.576,\n",
      "Step:36,  Cost:0.573,\n",
      "Step:37,  Cost:0.571,\n",
      "Step:38,  Cost:0.569,\n",
      "Step:39,  Cost:0.567,\n",
      "Step:40,  Cost:0.566,\n",
      "Step:41,  Cost:0.564,\n",
      "Step:42,  Cost:0.563,\n",
      "Step:43,  Cost:0.562,\n",
      "Step:44,  Cost:0.561,\n",
      "Step:45,  Cost:0.560,\n",
      "Step:46,  Cost:0.559,\n",
      "Step:47,  Cost:0.559,\n",
      "Step:48,  Cost:0.558,\n",
      "Step:49,  Cost:0.557,\n",
      "Step:50,  Cost:0.557,\n",
      "Step:51,  Cost:0.556,\n",
      "Step:52,  Cost:0.556,\n",
      "Step:53,  Cost:0.556,\n",
      "Step:54,  Cost:0.555,\n",
      "Step:55,  Cost:0.555,\n",
      "Step:56,  Cost:0.555,\n",
      "Step:57,  Cost:0.554,\n",
      "Step:58,  Cost:0.554,\n",
      "Step:59,  Cost:0.554,\n",
      "Step:60,  Cost:0.554,\n",
      "Step:61,  Cost:0.554,\n",
      "Step:62,  Cost:0.553,\n",
      "Step:63,  Cost:0.553,\n",
      "Step:64,  Cost:0.553,\n",
      "Step:65,  Cost:0.553,\n",
      "Step:66,  Cost:0.553,\n",
      "Step:67,  Cost:0.553,\n",
      "Step:68,  Cost:0.553,\n",
      "Step:69,  Cost:0.552,\n",
      "Step:70,  Cost:0.552,\n",
      "Step:71,  Cost:0.552,\n",
      "Step:72,  Cost:0.552,\n",
      "Step:73,  Cost:0.552,\n",
      "Step:74,  Cost:0.552,\n",
      "Step:75,  Cost:0.552,\n",
      "Step:76,  Cost:0.552,\n",
      "Step:77,  Cost:0.552,\n",
      "Step:78,  Cost:0.552,\n",
      "Step:79,  Cost:0.552,\n",
      "Step:80,  Cost:0.552,\n",
      "Step:81,  Cost:0.552,\n",
      "Step:82,  Cost:0.552,\n",
      "Step:83,  Cost:0.551,\n",
      "Step:84,  Cost:0.551,\n",
      "Step:85,  Cost:0.551,\n",
      "Step:86,  Cost:0.551,\n",
      "Step:87,  Cost:0.551,\n",
      "Step:88,  Cost:0.551,\n",
      "Step:89,  Cost:0.551,\n",
      "Step:90,  Cost:0.551,\n",
      "Step:91,  Cost:0.551,\n",
      "Step:92,  Cost:0.551,\n",
      "Step:93,  Cost:0.551,\n",
      "Step:94,  Cost:0.551,\n",
      "Step:95,  Cost:0.551,\n",
      "Step:96,  Cost:0.551,\n",
      "Step:97,  Cost:0.551,\n",
      "Step:98,  Cost:0.551,\n",
      "Step:99,  Cost:0.551,\n",
      "Step:100,  Cost:0.551,\n",
      "Prediction: [0 1 2 0 0 2]\n",
      "Target: [0 1 2 0 0 2]\n",
      "Accuracy: 100.0\n"
     ]
    }
   ],
   "source": [
    "for step in range(100):\n",
    "    sess.run(train_op, feed_dict={X:x_data, Y:y_data})\n",
    "    \n",
    "    print('Step:%d, ' %sess.run(global_step),\n",
    "         'Cost:%.3f,' % sess.run(cost, feed_dict={X:x_data, Y:y_data}))\n",
    "    summary=sess.run(merged, feed_dict={X:x_data, Y:y_data})\n",
    "    writer.add_summary(summary, global_step=sess.run(global_step))\n",
    "    \n",
    "saver.save(sess, './model/dnn.ckpt', global_step=global_step)\n",
    "\n",
    "prediction=tf.argmax(model,1)\n",
    "target=tf.argmax(Y,1)\n",
    "print('Prediction:',sess.run(prediction, feed_dict={X:x_data}))\n",
    "print('Target:', sess.run(target, feed_dict={Y:y_data}))\n",
    "is_correct=tf.equal(prediction,target)\n",
    "accuracy=tf.reduce_mean(tf.cast(is_correct, tf.float32))\n",
    "print('Accuracy:',sess.run(accuracy*100, feed_dict={X:x_data, Y:y_data}))"
   ]
  }
 ],
 "metadata": {
  "kernelspec": {
   "display_name": "Python 3",
   "language": "python",
   "name": "python3"
  },
  "language_info": {
   "codemirror_mode": {
    "name": "ipython",
    "version": 3
   },
   "file_extension": ".py",
   "mimetype": "text/x-python",
   "name": "python",
   "nbconvert_exporter": "python",
   "pygments_lexer": "ipython3",
   "version": "3.6.2"
  }
 },
 "nbformat": 4,
 "nbformat_minor": 2
}
