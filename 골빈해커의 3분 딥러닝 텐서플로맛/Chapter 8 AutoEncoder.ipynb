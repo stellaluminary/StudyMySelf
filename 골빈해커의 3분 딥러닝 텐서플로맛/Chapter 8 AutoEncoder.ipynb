{
 "cells": [
  {
   "cell_type": "code",
   "execution_count": 1,
   "metadata": {
    "collapsed": true
   },
   "outputs": [
    {
     "name": "stdout",
     "output_type": "stream",
     "text": [
      "WARNING:tensorflow:From <ipython-input-1-dd063f89be97>:6: read_data_sets (from tensorflow.contrib.learn.python.learn.datasets.mnist) is deprecated and will be removed in a future version.\n",
      "Instructions for updating:\n",
      "Please use alternatives such as official/mnist/dataset.py from tensorflow/models.\n",
      "WARNING:tensorflow:From C:\\Users\\la\\Anaconda3\\lib\\site-packages\\tensorflow\\contrib\\learn\\python\\learn\\datasets\\mnist.py:260: maybe_download (from tensorflow.contrib.learn.python.learn.datasets.base) is deprecated and will be removed in a future version.\n",
      "Instructions for updating:\n",
      "Please write your own downloading logic.\n",
      "WARNING:tensorflow:From C:\\Users\\la\\Anaconda3\\lib\\site-packages\\tensorflow\\contrib\\learn\\python\\learn\\datasets\\mnist.py:262: extract_images (from tensorflow.contrib.learn.python.learn.datasets.mnist) is deprecated and will be removed in a future version.\n",
      "Instructions for updating:\n",
      "Please use tf.data to implement this functionality.\n",
      "Extracting ./mnist/data/train-images-idx3-ubyte.gz\n",
      "WARNING:tensorflow:From C:\\Users\\la\\Anaconda3\\lib\\site-packages\\tensorflow\\contrib\\learn\\python\\learn\\datasets\\mnist.py:267: extract_labels (from tensorflow.contrib.learn.python.learn.datasets.mnist) is deprecated and will be removed in a future version.\n",
      "Instructions for updating:\n",
      "Please use tf.data to implement this functionality.\n",
      "Extracting ./mnist/data/train-labels-idx1-ubyte.gz\n",
      "WARNING:tensorflow:From C:\\Users\\la\\Anaconda3\\lib\\site-packages\\tensorflow\\contrib\\learn\\python\\learn\\datasets\\mnist.py:110: dense_to_one_hot (from tensorflow.contrib.learn.python.learn.datasets.mnist) is deprecated and will be removed in a future version.\n",
      "Instructions for updating:\n",
      "Please use tf.one_hot on tensors.\n",
      "Extracting ./mnist/data/t10k-images-idx3-ubyte.gz\n",
      "Extracting ./mnist/data/t10k-labels-idx1-ubyte.gz\n",
      "WARNING:tensorflow:From C:\\Users\\la\\Anaconda3\\lib\\site-packages\\tensorflow\\contrib\\learn\\python\\learn\\datasets\\mnist.py:290: DataSet.__init__ (from tensorflow.contrib.learn.python.learn.datasets.mnist) is deprecated and will be removed in a future version.\n",
      "Instructions for updating:\n",
      "Please use alternatives such as official/mnist/dataset.py from tensorflow/models.\n"
     ]
    }
   ],
   "source": [
    "import tensorflow as tf\n",
    "import numpy as np\n",
    "import matplotlib.pyplot as plt\n",
    "%matplotlib inline\n",
    "\n",
    "from tensorflow.examples.tutorials.mnist import input_data\n",
    "mnist=input_data.read_data_sets('./mnist/data/', one_hot=True)"
   ]
  },
  {
   "cell_type": "code",
   "execution_count": 3,
   "metadata": {
    "collapsed": false
   },
   "outputs": [],
   "source": [
    "learning_rate=0.01\n",
    "training_epoch=20\n",
    "batch_size=100\n",
    "n_hidden=256\n",
    "n_input=28*28\n",
    "\n",
    "X=tf.placeholder(tf.float32, [None,n_input])\n",
    "\n",
    "W_encode=tf.Variable(tf.random_normal([n_input, n_hidden]))\n",
    "b_encode=tf.Variable(tf.random_normal([n_hidden]))\n",
    "\n",
    "encoder=tf.nn.sigmoid(tf.add(tf.matmul(X,W_encode),b_encode))\n",
    "\n",
    "W_decode=tf.Variable(tf.random_normal([n_hidden, n_input]))\n",
    "b_decode=tf.Variable(tf.random_normal([n_input]))\n",
    "\n",
    "decoder=tf.nn.sigmoid(tf.add(tf.matmul(encoder,W_decode),b_decode))\n",
    "\n",
    "cost=tf.reduce_mean(tf.pow(X-decoder,2))\n",
    "optimizer=tf.train.RMSPropOptimizer(learning_rate).minimize(cost)"
   ]
  },
  {
   "cell_type": "code",
   "execution_count": 4,
   "metadata": {
    "collapsed": false
   },
   "outputs": [
    {
     "name": "stdout",
     "output_type": "stream",
     "text": [
      "Epoch: 0001 Avg. cost = 0.1974\n",
      "Epoch: 0002 Avg. cost = 0.0538\n",
      "Epoch: 0003 Avg. cost = 0.0445\n",
      "Epoch: 0004 Avg. cost = 0.0404\n",
      "Epoch: 0005 Avg. cost = 0.0382\n",
      "Epoch: 0006 Avg. cost = 0.0368\n",
      "Epoch: 0007 Avg. cost = 0.0356\n",
      "Epoch: 0008 Avg. cost = 0.0349\n",
      "Epoch: 0009 Avg. cost = 0.0342\n",
      "Epoch: 0010 Avg. cost = 0.0337\n",
      "Epoch: 0011 Avg. cost = 0.0334\n",
      "Epoch: 0012 Avg. cost = 0.0330\n",
      "Epoch: 0013 Avg. cost = 0.0305\n",
      "Epoch: 0014 Avg. cost = 0.0298\n",
      "Epoch: 0015 Avg. cost = 0.0294\n",
      "Epoch: 0016 Avg. cost = 0.0291\n",
      "Epoch: 0017 Avg. cost = 0.0275\n",
      "Epoch: 0018 Avg. cost = 0.0269\n",
      "Epoch: 0019 Avg. cost = 0.0267\n",
      "Epoch: 0020 Avg. cost = 0.0265\n"
     ]
    }
   ],
   "source": [
    "init=tf.global_variables_initializer()\n",
    "sess=tf.Session()\n",
    "sess.run(init)\n",
    "\n",
    "total_batch=int(mnist.train.num_examples / batch_size)\n",
    "\n",
    "for epoch in range(training_epoch):\n",
    "    total_cost=0\n",
    "    \n",
    "    for i in range(total_batch):\n",
    "        batch_xs, batch_ys=mnist.train.next_batch(batch_size)\n",
    "        _,cost_val=sess.run([optimizer,cost], feed_dict={X:batch_xs})\n",
    "        total_cost += cost_val\n",
    "        \n",
    "    print('Epoch:', '%04d' % (epoch + 1),\n",
    "          'Avg. cost =', '{:.4f}'.format(total_cost / total_batch))"
   ]
  },
  {
   "cell_type": "code",
   "execution_count": 9,
   "metadata": {
    "collapsed": false
   },
   "outputs": [
    {
     "data": {
      "image/png": "[encoded data removed]",
      "text/plain": [
       "<matplotlib.figure.Figure at 0x279a788c518>"
      ]
     },
     "metadata": {},
     "output_type": "display_data"
    }
   ],
   "source": [
    "sample_size=10\n",
    "samples=sess.run(decoder, feed_dict={X:mnist.test.images[:sample_size]})\n",
    "\n",
    "fig,ax=plt.subplots(2,sample_size,figsize=(sample_size,2))\n",
    "\n",
    "for i in range(sample_size):\n",
    "    ax[0][i].set_axis_off()\n",
    "    ax[1][i].set_axis_off()\n",
    "    ax[0][i].imshow(np.reshape(mnist.test.images[i],(28,28)))\n",
    "    ax[1][i].imshow(np.reshape(samples[i],(28,28)))\n"
   ]
  }
 ],
 "metadata": {
  "kernelspec": {
   "display_name": "Python 3",
   "language": "python",
   "name": "python3"
  },
  "language_info": {
   "codemirror_mode": {
    "name": "ipython",
    "version": 3
   },
   "file_extension": ".py",
   "mimetype": "text/x-python",
   "name": "python",
   "nbconvert_exporter": "python",
   "pygments_lexer": "ipython3",
   "version": "3.6.2"
  }
 },
 "nbformat": 4,
 "nbformat_minor": 2
}
