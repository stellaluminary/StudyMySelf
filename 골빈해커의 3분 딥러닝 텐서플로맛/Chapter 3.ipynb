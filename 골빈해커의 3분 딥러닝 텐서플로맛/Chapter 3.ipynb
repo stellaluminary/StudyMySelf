{
 "cells": [
  {
   "cell_type": "code",
   "execution_count": 3,
   "metadata": {
    "collapsed": true
   },
   "outputs": [],
   "source": [
    "import tensorflow as tf"
   ]
  },
  {
   "cell_type": "code",
   "execution_count": 4,
   "metadata": {
    "collapsed": false
   },
   "outputs": [
    {
     "name": "stdout",
     "output_type": "stream",
     "text": [
      "Tensor(\"Const:0\", shape=(), dtype=string)\n"
     ]
    }
   ],
   "source": [
    "hello=tf.constant('Hello, Tensorflow')\n",
    "print(hello)"
   ]
  },
  {
   "cell_type": "code",
   "execution_count": 5,
   "metadata": {
    "collapsed": false
   },
   "outputs": [
    {
     "name": "stdout",
     "output_type": "stream",
     "text": [
      "Tensor(\"Add:0\", shape=(), dtype=int32)\n"
     ]
    }
   ],
   "source": [
    "a=tf.constant(10)\n",
    "b=tf.constant(32)\n",
    "c=tf.add(a,b)\n",
    "print(c)"
   ]
  },
  {
   "cell_type": "code",
   "execution_count": 7,
   "metadata": {
    "collapsed": false
   },
   "outputs": [
    {
     "name": "stdout",
     "output_type": "stream",
     "text": [
      "b'Hello, Tensorflow'\n",
      "[10, 32, 42]\n"
     ]
    }
   ],
   "source": [
    "sess=tf.Session()\n",
    "print(sess.run(hello))\n",
    "print(sess.run([a,b,c]))\n",
    "sess.close()"
   ]
  },
  {
   "cell_type": "markdown",
   "metadata": {},
   "source": [
    "# 3.2 PlaceHolder"
   ]
  },
  {
   "cell_type": "code",
   "execution_count": 8,
   "metadata": {
    "collapsed": false
   },
   "outputs": [
    {
     "name": "stdout",
     "output_type": "stream",
     "text": [
      "Tensor(\"Placeholder:0\", shape=(?, 3), dtype=float32)\n"
     ]
    }
   ],
   "source": [
    "X=tf.placeholder(tf.float32, [None,3])\n",
    "print(X)"
   ]
  },
  {
   "cell_type": "code",
   "execution_count": 11,
   "metadata": {
    "collapsed": false
   },
   "outputs": [
    {
     "name": "stdout",
     "output_type": "stream",
     "text": [
      "[[1, 2, 3], [4, 5, 6]]\n",
      "W : \n",
      " [[ 1.0313114  -0.87785816]\n",
      " [ 0.05046078 -1.1747489 ]\n",
      " [ 1.6255963  -0.4801863 ]]\n",
      "b : \n",
      " [[-0.8043297]\n",
      " [-1.0051572]]\n",
      "expr :\n",
      " [[  5.204692   -5.4722447]\n",
      " [ 13.125971  -13.271453 ]]\n"
     ]
    }
   ],
   "source": [
    "x_data=[[1,2,3],[4,5,6]]\n",
    "\n",
    "W=tf.Variable(tf.random_normal([3,2]))\n",
    "b=tf.Variable(tf.random_normal([2,1]))\n",
    "\n",
    "#W=tf.Variable([[.1,.1],[.2,.2],[.3,.3]])\n",
    "\n",
    "expr=tf.matmul(X,W)+b\n",
    "\n",
    "sess=tf.Session()\n",
    "sess.run(tf.global_variables_initializer())\n",
    "\n",
    "print(x_data)\n",
    "print('W : \\n', sess.run(W))\n",
    "print('b : \\n', sess.run(b))\n",
    "print('expr :\\n',sess.run(expr, feed_dict={X:x_data}))\n",
    "sess.close()"
   ]
  },
  {
   "cell_type": "markdown",
   "metadata": {},
   "source": [
    "# 3.3 Linear Regression Model"
   ]
  },
  {
   "cell_type": "code",
   "execution_count": 12,
   "metadata": {
    "collapsed": true
   },
   "outputs": [],
   "source": [
    "x_data=[1,2,3]\n",
    "y_data=[1,2,3]\n",
    "\n",
    "W=tf.Variable(tf.random_uniform([1],-1.,1.))\n",
    "b=tf.Variable(tf.random_uniform([1],-1.,1.))"
   ]
  },
  {
   "cell_type": "code",
   "execution_count": 14,
   "metadata": {
    "collapsed": false
   },
   "outputs": [
    {
     "name": "stdout",
     "output_type": "stream",
     "text": [
      "Tensor(\"Placeholder_1:0\", dtype=float32)\n",
      "Tensor(\"Placeholder_2:0\", dtype=float32)\n"
     ]
    }
   ],
   "source": [
    "\"\"\"\n",
    "X=tf.placeholder(tf.float32)\n",
    "Y=tf.placeholder(tf.float32)\n",
    "print(X)\n",
    "print(Y)\n",
    "\"\"\""
   ]
  },
  {
   "cell_type": "code",
   "execution_count": 15,
   "metadata": {
    "collapsed": false
   },
   "outputs": [
    {
     "name": "stdout",
     "output_type": "stream",
     "text": [
      "Tensor(\"X_1:0\", dtype=float32)\n",
      "Tensor(\"Y_1:0\", dtype=float32)\n"
     ]
    }
   ],
   "source": [
    "X=tf.placeholder(tf.float32, name='X')\n",
    "Y=tf.placeholder(tf.float32, name='Y')\n",
    "print(X)\n",
    "print(Y)"
   ]
  },
  {
   "cell_type": "code",
   "execution_count": 16,
   "metadata": {
    "collapsed": true
   },
   "outputs": [],
   "source": [
    "hypothesis=W*X+b\n",
    "cost=tf.reduce_mean(tf.square(hypothesis-Y)) #MSE\n",
    "optimizer=tf.train.GradientDescentOptimizer(learning_rate=.1)\n",
    "train_op=optimizer.minimize(cost)"
   ]
  },
  {
   "cell_type": "code",
   "execution_count": 22,
   "metadata": {
    "collapsed": false,
    "scrolled": true
   },
   "outputs": [
    {
     "name": "stdout",
     "output_type": "stream",
     "text": [
      "X:5,Y: [5.0588946]\n",
      "X:2.5,Y: [2.5048978]\n"
     ]
    }
   ],
   "source": [
    "# 그래프 실행\n",
    "with tf.Session() as sess:\n",
    "    sess.run(tf.global_variables_initializer())\n",
    "    \n",
    "    for step in range(100):\n",
    "        _, cost_val = sess.run([train_op,cost], feed_dict={X:x_data, Y:y_data})\n",
    "        #print(step,'\\t cost :',cost_val,'\\t W:',sess.run(W),'\\t b:',sess.run(b))\n",
    "    \n",
    "    print('X:5,Y:',sess.run(hypothesis, feed_dict={X:5}))\n",
    "    print('X:2.5,Y:',sess.run(hypothesis, feed_dict={X:2.5}))"
   ]
  }
 ],
 "metadata": {
  "kernelspec": {
   "display_name": "Python 3",
   "language": "python",
   "name": "python3"
  },
  "language_info": {
   "codemirror_mode": {
    "name": "ipython",
    "version": 3
   },
   "file_extension": ".py",
   "mimetype": "text/x-python",
   "name": "python",
   "nbconvert_exporter": "python",
   "pygments_lexer": "ipython3",
   "version": "3.6.2"
  }
 },
 "nbformat": 4,
 "nbformat_minor": 2
}
