{
 "cells": [
  {
   "cell_type": "markdown",
   "metadata": {},
   "source": [
    "# 6.1 MNIST"
   ]
  },
  {
   "cell_type": "code",
   "execution_count": 2,
   "metadata": {
    "collapsed": false,
    "scrolled": true
   },
   "outputs": [
    {
     "name": "stdout",
     "output_type": "stream",
     "text": [
      "WARNING:tensorflow:From <ipython-input-2-da1bb030b9ae>:4: read_data_sets (from tensorflow.contrib.learn.python.learn.datasets.mnist) is deprecated and will be removed in a future version.\n",
      "Instructions for updating:\n",
      "Please use alternatives such as official/mnist/dataset.py from tensorflow/models.\n",
      "WARNING:tensorflow:From C:\\Users\\la\\Anaconda3\\lib\\site-packages\\tensorflow\\contrib\\learn\\python\\learn\\datasets\\mnist.py:260: maybe_download (from tensorflow.contrib.learn.python.learn.datasets.base) is deprecated and will be removed in a future version.\n",
      "Instructions for updating:\n",
      "Please write your own downloading logic.\n",
      "WARNING:tensorflow:From C:\\Users\\la\\Anaconda3\\lib\\site-packages\\tensorflow\\contrib\\learn\\python\\learn\\datasets\\base.py:252: _internal_retry.<locals>.wrap.<locals>.wrapped_fn (from tensorflow.contrib.learn.python.learn.datasets.base) is deprecated and will be removed in a future version.\n",
      "Instructions for updating:\n",
      "Please use urllib or similar directly.\n",
      "Successfully downloaded train-images-idx3-ubyte.gz 9912422 bytes.\n",
      "WARNING:tensorflow:From C:\\Users\\la\\Anaconda3\\lib\\site-packages\\tensorflow\\contrib\\learn\\python\\learn\\datasets\\mnist.py:262: extract_images (from tensorflow.contrib.learn.python.learn.datasets.mnist) is deprecated and will be removed in a future version.\n",
      "Instructions for updating:\n",
      "Please use tf.data to implement this functionality.\n",
      "Extracting ./mnist/data/train-images-idx3-ubyte.gz\n",
      "Successfully downloaded train-labels-idx1-ubyte.gz 28881 bytes.\n",
      "WARNING:tensorflow:From C:\\Users\\la\\Anaconda3\\lib\\site-packages\\tensorflow\\contrib\\learn\\python\\learn\\datasets\\mnist.py:267: extract_labels (from tensorflow.contrib.learn.python.learn.datasets.mnist) is deprecated and will be removed in a future version.\n",
      "Instructions for updating:\n",
      "Please use tf.data to implement this functionality.\n",
      "Extracting ./mnist/data/train-labels-idx1-ubyte.gz\n",
      "WARNING:tensorflow:From C:\\Users\\la\\Anaconda3\\lib\\site-packages\\tensorflow\\contrib\\learn\\python\\learn\\datasets\\mnist.py:110: dense_to_one_hot (from tensorflow.contrib.learn.python.learn.datasets.mnist) is deprecated and will be removed in a future version.\n",
      "Instructions for updating:\n",
      "Please use tf.one_hot on tensors.\n",
      "Successfully downloaded t10k-images-idx3-ubyte.gz 1648877 bytes.\n",
      "Extracting ./mnist/data/t10k-images-idx3-ubyte.gz\n",
      "Successfully downloaded t10k-labels-idx1-ubyte.gz 4542 bytes.\n",
      "Extracting ./mnist/data/t10k-labels-idx1-ubyte.gz\n",
      "WARNING:tensorflow:From C:\\Users\\la\\Anaconda3\\lib\\site-packages\\tensorflow\\contrib\\learn\\python\\learn\\datasets\\mnist.py:290: DataSet.__init__ (from tensorflow.contrib.learn.python.learn.datasets.mnist) is deprecated and will be removed in a future version.\n",
      "Instructions for updating:\n",
      "Please use alternatives such as official/mnist/dataset.py from tensorflow/models.\n"
     ]
    }
   ],
   "source": [
    "import tensorflow as tf\n",
    "from tensorflow.examples.tutorials.mnist import input_data\n",
    "\n",
    "mnist=input_data.read_data_sets('./mnist/data/', one_hot=True)"
   ]
  },
  {
   "cell_type": "code",
   "execution_count": 3,
   "metadata": {
    "collapsed": true
   },
   "outputs": [],
   "source": [
    "X=tf.placeholder(tf.float32, [None,784])\n",
    "Y=tf.placeholder(tf.float32, [None,10])\n",
    "\n",
    "W1=tf.Variable(tf.random_normal([784,256], stddev=.01))\n",
    "L1=tf.nn.relu(tf.matmul(X,W1))\n",
    "\n",
    "W2=tf.Variable(tf.random_normal([256,256], stddev=.01))\n",
    "L2=tf.nn.relu(tf.matmul(L1,W2))\n",
    "\n",
    "W3=tf.Variable(tf.random_normal([256,10], stddev=.01))\n",
    "model=tf.matmul(L2,W3)\n",
    "\n",
    "cost=tf.reduce_mean(tf.nn.softmax_cross_entropy_with_logits_v2(labels=Y, logits=model))\n",
    "optimizer=tf.train.AdamOptimizer(.01).minimize(cost)"
   ]
  },
  {
   "cell_type": "code",
   "execution_count": 10,
   "metadata": {
    "collapsed": false
   },
   "outputs": [
    {
     "name": "stdout",
     "output_type": "stream",
     "text": [
      "Epoch:0001 Avg. cost =0.261\n",
      "Epoch:0002 Avg. cost =0.147\n",
      "Epoch:0003 Avg. cost =0.126\n",
      "Epoch:0004 Avg. cost =0.111\n",
      "Epoch:0005 Avg. cost =0.096\n",
      "Epoch:0006 Avg. cost =0.091\n",
      "Epoch:0007 Avg. cost =0.091\n",
      "Epoch:0008 Avg. cost =0.080\n",
      "Epoch:0009 Avg. cost =0.086\n",
      "Epoch:0010 Avg. cost =0.067\n",
      "Epoch:0011 Avg. cost =0.071\n",
      "Epoch:0012 Avg. cost =0.068\n",
      "Epoch:0013 Avg. cost =0.075\n",
      "Epoch:0014 Avg. cost =0.060\n",
      "Epoch:0015 Avg. cost =0.082\n"
     ]
    }
   ],
   "source": [
    "init=tf.global_variables_initializer()\n",
    "sess=tf.Session()\n",
    "sess.run(init)\n",
    "\n",
    "batch_size=100\n",
    "total_batch=int(mnist.train.num_examples/ batch_size)\n",
    "\n",
    "for epoch in range(15):\n",
    "    total_cost=0\n",
    "    \n",
    "    for i in range(total_batch):\n",
    "        batch_xs, batch_ys=mnist.train.next_batch(batch_size)\n",
    "        \n",
    "        _,cost_val=sess.run([optimizer, cost], feed_dict={X:batch_xs, Y:batch_ys})\n",
    "        total_cost +=cost_val\n",
    "        \n",
    "    print('Epoch:%04d' %(epoch+1), 'Avg. cost ={:.3f}'.format(total_cost/total_batch))"
   ]
  },
  {
   "cell_type": "code",
   "execution_count": 11,
   "metadata": {
    "collapsed": false
   },
   "outputs": [
    {
     "name": "stdout",
     "output_type": "stream",
     "text": [
      "Accuracy: 0.9673\n"
     ]
    }
   ],
   "source": [
    "is_correct=tf.equal(tf.argmax(Y,1), tf.argmax(model,1))\n",
    "accuracy=tf.reduce_mean(tf.cast(is_correct, tf.float32))\n",
    "print('Accuracy:',sess.run(accuracy, feed_dict={X:mnist.test.images, Y:mnist.test.labels}))"
   ]
  },
  {
   "cell_type": "markdown",
   "metadata": {},
   "source": [
    "# 6.2 DropOut"
   ]
  },
  {
   "cell_type": "code",
   "execution_count": 1,
   "metadata": {
    "collapsed": false,
    "scrolled": true
   },
   "outputs": [
    {
     "name": "stdout",
     "output_type": "stream",
     "text": [
      "WARNING:tensorflow:From <ipython-input-1-27f737f5eaaa>:7: read_data_sets (from tensorflow.contrib.learn.python.learn.datasets.mnist) is deprecated and will be removed in a future version.\n",
      "Instructions for updating:\n",
      "Please use alternatives such as official/mnist/dataset.py from tensorflow/models.\n",
      "WARNING:tensorflow:From C:\\Users\\la\\Anaconda3\\lib\\site-packages\\tensorflow\\contrib\\learn\\python\\learn\\datasets\\mnist.py:260: maybe_download (from tensorflow.contrib.learn.python.learn.datasets.base) is deprecated and will be removed in a future version.\n",
      "Instructions for updating:\n",
      "Please write your own downloading logic.\n",
      "WARNING:tensorflow:From C:\\Users\\la\\Anaconda3\\lib\\site-packages\\tensorflow\\contrib\\learn\\python\\learn\\datasets\\mnist.py:262: extract_images (from tensorflow.contrib.learn.python.learn.datasets.mnist) is deprecated and will be removed in a future version.\n",
      "Instructions for updating:\n",
      "Please use tf.data to implement this functionality.\n",
      "Extracting ./mnist/data/train-images-idx3-ubyte.gz\n",
      "WARNING:tensorflow:From C:\\Users\\la\\Anaconda3\\lib\\site-packages\\tensorflow\\contrib\\learn\\python\\learn\\datasets\\mnist.py:267: extract_labels (from tensorflow.contrib.learn.python.learn.datasets.mnist) is deprecated and will be removed in a future version.\n",
      "Instructions for updating:\n",
      "Please use tf.data to implement this functionality.\n",
      "Extracting ./mnist/data/train-labels-idx1-ubyte.gz\n",
      "WARNING:tensorflow:From C:\\Users\\la\\Anaconda3\\lib\\site-packages\\tensorflow\\contrib\\learn\\python\\learn\\datasets\\mnist.py:110: dense_to_one_hot (from tensorflow.contrib.learn.python.learn.datasets.mnist) is deprecated and will be removed in a future version.\n",
      "Instructions for updating:\n",
      "Please use tf.one_hot on tensors.\n",
      "Extracting ./mnist/data/t10k-images-idx3-ubyte.gz\n",
      "Extracting ./mnist/data/t10k-labels-idx1-ubyte.gz\n",
      "WARNING:tensorflow:From C:\\Users\\la\\Anaconda3\\lib\\site-packages\\tensorflow\\contrib\\learn\\python\\learn\\datasets\\mnist.py:290: DataSet.__init__ (from tensorflow.contrib.learn.python.learn.datasets.mnist) is deprecated and will be removed in a future version.\n",
      "Instructions for updating:\n",
      "Please use alternatives such as official/mnist/dataset.py from tensorflow/models.\n"
     ]
    }
   ],
   "source": [
    "import tensorflow as tf\n",
    "import numpy as np\n",
    "import matplotlib.pyplot as plt\n",
    "\n",
    "from tensorflow.examples.tutorials.mnist import input_data\n",
    "\n",
    "mnist=input_data.read_data_sets('./mnist/data/', one_hot=True)"
   ]
  },
  {
   "cell_type": "code",
   "execution_count": 2,
   "metadata": {
    "collapsed": false
   },
   "outputs": [],
   "source": [
    "X=tf.placeholder(tf.float32, [None,784])\n",
    "Y=tf.placeholder(tf.float32, [None,10])\n",
    "keep_prob=tf.placeholder(tf.float32)\n",
    "\n",
    "W1=tf.Variable(tf.random_normal([784,256], stddev=.01))\n",
    "L1=tf.nn.relu(tf.matmul(X,W1))\n",
    "L1=tf.nn.dropout(L1, keep_prob)\n",
    "\n",
    "W2=tf.Variable(tf.random_normal([256,256], stddev=.01))\n",
    "L2=tf.nn.relu(tf.matmul(L1,W2))\n",
    "L2=tf.nn.dropout(L2, keep_prob)\n",
    "\n",
    "W3=tf.Variable(tf.random_normal([256,10], stddev=.01))\n",
    "model=tf.matmul(L2,W3)\n",
    "\n",
    "cost=tf.reduce_mean(tf.nn.softmax_cross_entropy_with_logits_v2(labels=Y, logits=model))\n",
    "optimizer=tf.train.AdamOptimizer(.01).minimize(cost)"
   ]
  },
  {
   "cell_type": "code",
   "execution_count": 9,
   "metadata": {
    "collapsed": false
   },
   "outputs": [
    {
     "name": "stdout",
     "output_type": "stream",
     "text": [
      "Epoch:0001 Avg. cost =0.328\n",
      "Epoch:0002 Avg. cost =0.242\n",
      "Epoch:0003 Avg. cost =0.230\n",
      "Epoch:0004 Avg. cost =0.208\n",
      "Epoch:0005 Avg. cost =0.203\n",
      "Epoch:0006 Avg. cost =0.193\n",
      "Epoch:0007 Avg. cost =0.201\n",
      "Epoch:0008 Avg. cost =0.188\n",
      "Epoch:0009 Avg. cost =0.176\n",
      "Epoch:0010 Avg. cost =0.185\n",
      "Epoch:0011 Avg. cost =0.181\n",
      "Epoch:0012 Avg. cost =0.182\n",
      "Epoch:0013 Avg. cost =0.174\n",
      "Epoch:0014 Avg. cost =0.165\n",
      "Epoch:0015 Avg. cost =0.161\n",
      "Epoch:0016 Avg. cost =0.173\n",
      "Epoch:0017 Avg. cost =0.157\n",
      "Epoch:0018 Avg. cost =0.171\n",
      "Epoch:0019 Avg. cost =0.152\n",
      "Epoch:0020 Avg. cost =0.155\n",
      "Epoch:0021 Avg. cost =0.153\n",
      "Epoch:0022 Avg. cost =0.155\n",
      "Epoch:0023 Avg. cost =0.154\n",
      "Epoch:0024 Avg. cost =0.149\n",
      "Epoch:0025 Avg. cost =0.155\n",
      "Epoch:0026 Avg. cost =0.160\n",
      "Epoch:0027 Avg. cost =0.152\n",
      "Epoch:0028 Avg. cost =0.147\n",
      "Epoch:0029 Avg. cost =0.137\n",
      "Epoch:0030 Avg. cost =0.131\n"
     ]
    }
   ],
   "source": [
    "init=tf.global_variables_initializer()\n",
    "sess=tf.Session()\n",
    "sess.run(init)\n",
    "\n",
    "batch_size=100\n",
    "total_batch=int(mnist.train.num_examples/ batch_size)\n",
    "\n",
    "for epoch in range(30):\n",
    "    total_cost=0\n",
    "    \n",
    "    for i in range(total_batch):\n",
    "        batch_xs, batch_ys=mnist.train.next_batch(batch_size)\n",
    "        \n",
    "        _,cost_val=sess.run([optimizer, cost], feed_dict={X:batch_xs, Y:batch_ys, keep_prob:0.8})\n",
    "        total_cost +=cost_val\n",
    "        \n",
    "    print('Epoch:%04d' %(epoch+1), 'Avg. cost ={:.3f}'.format(total_cost/total_batch))"
   ]
  },
  {
   "cell_type": "code",
   "execution_count": 10,
   "metadata": {
    "collapsed": false
   },
   "outputs": [
    {
     "name": "stdout",
     "output_type": "stream",
     "text": [
      "Accuracy: 0.9712\n"
     ]
    }
   ],
   "source": [
    "is_correct=tf.equal(tf.argmax(Y,1), tf.argmax(model,1))\n",
    "accuracy=tf.reduce_mean(tf.cast(is_correct, tf.float32))\n",
    "print('Accuracy:',sess.run(accuracy, feed_dict={X:mnist.test.images, Y:mnist.test.labels, keep_prob:1}))"
   ]
  },
  {
   "cell_type": "code",
   "execution_count": 11,
   "metadata": {
    "collapsed": false
   },
   "outputs": [
    {
     "data": {
      "image/png": "[encoded data removed]",
      "text/plain": [
       "<matplotlib.figure.Figure at 0x1e63947f898>"
      ]
     },
     "metadata": {},
     "output_type": "display_data"
    }
   ],
   "source": [
    "labels=sess.run(model, feed_dict={X:mnist.test.images, Y:mnist.test.labels, keep_prob:1})\n",
    "\n",
    "fig=plt.figure()\n",
    "for i in range(10):\n",
    "    subplot=fig.add_subplot(2,5,i+1)\n",
    "    subplot.set_xticks([])\n",
    "    subplot.set_yticks([])\n",
    "    subplot.set_title('%d' %np.argmax(labels[i]))\n",
    "    subplot.imshow(mnist.test.images[i].reshape((28,28)), cmap=plt.cm.gray_r)\n",
    "plt.show()"
   ]
  },
  {
   "cell_type": "code",
   "execution_count": null,
   "metadata": {
    "collapsed": true
   },
   "outputs": [],
   "source": []
  }
 ],
 "metadata": {
  "kernelspec": {
   "display_name": "Python 3",
   "language": "python",
   "name": "python3"
  },
  "language_info": {
   "codemirror_mode": {
    "name": "ipython",
    "version": 3
   },
   "file_extension": ".py",
   "mimetype": "text/x-python",
   "name": "python",
   "nbconvert_exporter": "python",
   "pygments_lexer": "ipython3",
   "version": "3.6.2"
  }
 },
 "nbformat": 4,
 "nbformat_minor": 2
}
