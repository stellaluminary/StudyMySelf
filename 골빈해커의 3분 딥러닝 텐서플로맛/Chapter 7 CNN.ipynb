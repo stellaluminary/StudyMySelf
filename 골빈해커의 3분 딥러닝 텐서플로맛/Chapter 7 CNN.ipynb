{
 "cells": [
  {
   "cell_type": "code",
   "execution_count": 1,
   "metadata": {
    "collapsed": true
   },
   "outputs": [
    {
     "name": "stdout",
     "output_type": "stream",
     "text": [
      "WARNING:tensorflow:From <ipython-input-1-fd0c780c13e7>:4: read_data_sets (from tensorflow.contrib.learn.python.learn.datasets.mnist) is deprecated and will be removed in a future version.\n",
      "Instructions for updating:\n",
      "Please use alternatives such as official/mnist/dataset.py from tensorflow/models.\n",
      "WARNING:tensorflow:From C:\\Users\\la\\Anaconda3\\lib\\site-packages\\tensorflow\\contrib\\learn\\python\\learn\\datasets\\mnist.py:260: maybe_download (from tensorflow.contrib.learn.python.learn.datasets.base) is deprecated and will be removed in a future version.\n",
      "Instructions for updating:\n",
      "Please write your own downloading logic.\n",
      "WARNING:tensorflow:From C:\\Users\\la\\Anaconda3\\lib\\site-packages\\tensorflow\\contrib\\learn\\python\\learn\\datasets\\mnist.py:262: extract_images (from tensorflow.contrib.learn.python.learn.datasets.mnist) is deprecated and will be removed in a future version.\n",
      "Instructions for updating:\n",
      "Please use tf.data to implement this functionality.\n",
      "Extracting ./mnist/data/train-images-idx3-ubyte.gz\n",
      "WARNING:tensorflow:From C:\\Users\\la\\Anaconda3\\lib\\site-packages\\tensorflow\\contrib\\learn\\python\\learn\\datasets\\mnist.py:267: extract_labels (from tensorflow.contrib.learn.python.learn.datasets.mnist) is deprecated and will be removed in a future version.\n",
      "Instructions for updating:\n",
      "Please use tf.data to implement this functionality.\n",
      "Extracting ./mnist/data/train-labels-idx1-ubyte.gz\n",
      "WARNING:tensorflow:From C:\\Users\\la\\Anaconda3\\lib\\site-packages\\tensorflow\\contrib\\learn\\python\\learn\\datasets\\mnist.py:110: dense_to_one_hot (from tensorflow.contrib.learn.python.learn.datasets.mnist) is deprecated and will be removed in a future version.\n",
      "Instructions for updating:\n",
      "Please use tf.one_hot on tensors.\n",
      "Extracting ./mnist/data/t10k-images-idx3-ubyte.gz\n",
      "Extracting ./mnist/data/t10k-labels-idx1-ubyte.gz\n",
      "WARNING:tensorflow:From C:\\Users\\la\\Anaconda3\\lib\\site-packages\\tensorflow\\contrib\\learn\\python\\learn\\datasets\\mnist.py:290: DataSet.__init__ (from tensorflow.contrib.learn.python.learn.datasets.mnist) is deprecated and will be removed in a future version.\n",
      "Instructions for updating:\n",
      "Please use alternatives such as official/mnist/dataset.py from tensorflow/models.\n"
     ]
    }
   ],
   "source": [
    "import tensorflow as tf\n",
    "\n",
    "from tensorflow.examples.tutorials.mnist import input_data\n",
    "mnist=input_data.read_data_sets('./mnist/data/', one_hot=True)"
   ]
  },
  {
   "cell_type": "code",
   "execution_count": 4,
   "metadata": {
    "collapsed": false
   },
   "outputs": [
    {
     "data": {
      "text/plain": [
       "(55000, 784)"
      ]
     },
     "execution_count": 4,
     "metadata": {},
     "output_type": "execute_result"
    }
   ],
   "source": [
    "mnist.train.images.shape"
   ]
  },
  {
   "cell_type": "code",
   "execution_count": 6,
   "metadata": {
    "collapsed": false
   },
   "outputs": [],
   "source": [
    "X=tf.placeholder(tf.float32, [None,28,28,1])\n",
    "Y=tf.placeholder(tf.float32, [None,10])\n",
    "\n",
    "keep_prob=tf.placeholder(tf.float32)\n",
    "\n",
    "W1=tf.Variable(tf.random_normal([3,3,1,32], stddev=.01))\n",
    "L1=tf.nn.conv2d(X,W1,strides=[1,1,1,1], padding='SAME')\n",
    "L1=tf.nn.relu(L1)\n",
    "L1=tf.nn.max_pool(L1, ksize=[1,2,2,1],strides=[1,2,2,1], padding='SAME')\n",
    "\n",
    "W2=tf.Variable(tf.random_normal([3,3,32,64], stddev=.01))\n",
    "L2=tf.nn.conv2d(L1,W2,strides=[1,1,1,1], padding='SAME')\n",
    "L2=tf.nn.relu(L2)\n",
    "L2=tf.nn.max_pool(L2 , ksize=[1,2,2,1],strides=[1,2,2,1], padding='SAME')\n",
    "\n",
    "W3=tf.Variable(tf.random_normal([7*7*64,256], stddev=.01))\n",
    "L3=tf.reshape(L2,[-1,7*7*64])\n",
    "L3=tf.matmul(L3,W3)\n",
    "L3=tf.nn.relu(L3)\n",
    "L3=tf.nn.dropout(L3,keep_prob)\n",
    "\n",
    "W4=tf.Variable(tf.random_normal([256,10], stddev=.01))\n",
    "model=tf.matmul(L3,W4)\n",
    "\n",
    "cost=tf.reduce_mean(tf.nn.softmax_cross_entropy_with_logits_v2(labels=Y,logits=model))\n",
    "optimizer=tf.train.AdamOptimizer(.001).minimize(cost)"
   ]
  },
  {
   "cell_type": "code",
   "execution_count": 8,
   "metadata": {
    "collapsed": false
   },
   "outputs": [
    {
     "name": "stdout",
     "output_type": "stream",
     "text": [
      "Epoch:0001, Avg. cost 1.936\n",
      "Epoch:0002, Avg. cost 0.593\n",
      "Epoch:0003, Avg. cost 0.426\n",
      "Epoch:0004, Avg. cost 0.342\n",
      "Epoch:0005, Avg. cost 0.274\n",
      "Epoch:0006, Avg. cost 0.231\n",
      "Epoch:0007, Avg. cost 0.199\n",
      "Epoch:0008, Avg. cost 0.174\n",
      "Epoch:0009, Avg. cost 0.149\n",
      "Epoch:0010, Avg. cost 0.133\n",
      "Epoch:0011, Avg. cost 0.119\n",
      "Epoch:0012, Avg. cost 0.114\n",
      "Epoch:0013, Avg. cost 0.096\n",
      "Epoch:0014, Avg. cost 0.098\n",
      "Epoch:0015, Avg. cost 0.081\n"
     ]
    }
   ],
   "source": [
    "init=tf.global_variables_initializer()\n",
    "sess=tf.Session()\n",
    "sess.run(init)\n",
    "\n",
    "batch_size=100\n",
    "total_batch=int(mnist.train.num_examples/batch_size)\n",
    "\n",
    "for epoch in range(15):\n",
    "    total_cost=0\n",
    "    \n",
    "    for i in range(total_batch):\n",
    "        batch_xs,batch_ys=mnist.train.next_batch(batch_size)\n",
    "        batch_xs=batch_xs.reshape(-1,28,28,1)\n",
    "        \n",
    "        _,cost_val=sess.run([optimizer, cost], feed_dict={X:batch_xs, Y:batch_ys, keep_prob:.7})\n",
    "        \n",
    "        total_cost += cost_val\n",
    "\n",
    "    print('Epoch:%04d, Avg. cost %.3f' %(epoch+1,total_cost/batch_size))   "
   ]
  },
  {
   "cell_type": "code",
   "execution_count": 9,
   "metadata": {
    "collapsed": false
   },
   "outputs": [
    {
     "name": "stdout",
     "output_type": "stream",
     "text": [
      "Accuracy: 0.9921\n"
     ]
    }
   ],
   "source": [
    "is_correct=tf.equal(tf.argmax(Y,1), tf.argmax(model,1))\n",
    "accuracy=tf.reduce_mean(tf.cast(is_correct, tf.float32))\n",
    "print('Accuracy:',sess.run(accuracy, feed_dict={X:mnist.test.images.reshape(-1,28,28,1),\n",
    "                                               Y:mnist.test.labels,\n",
    "                                               keep_prob:1}))"
   ]
  },
  {
   "cell_type": "markdown",
   "metadata": {},
   "source": [
    "# 7.3 HighLevel API"
   ]
  },
  {
   "cell_type": "code",
   "execution_count": 10,
   "metadata": {
    "collapsed": false
   },
   "outputs": [
    {
     "name": "stdout",
     "output_type": "stream",
     "text": [
      "Extracting ./mnist/data/train-images-idx3-ubyte.gz\n",
      "Extracting ./mnist/data/train-labels-idx1-ubyte.gz\n",
      "Extracting ./mnist/data/t10k-images-idx3-ubyte.gz\n",
      "Extracting ./mnist/data/t10k-labels-idx1-ubyte.gz\n"
     ]
    }
   ],
   "source": [
    "import tensorflow as tf\n",
    "\n",
    "from tensorflow.examples.tutorials.mnist import input_data\n",
    "mnist=input_data.read_data_sets('./mnist/data/', one_hot=True)\n",
    "\n",
    "X=tf.placeholder(tf.float32, [None,28,28,1])\n",
    "Y=tf.placeholder(tf.float32, [None,10])\n",
    "is_training=tf.placeholder(tf.bool)\n",
    "\n",
    "L1=tf.layers.conv2d(X,32,[3,3], activation=tf.nn.relu)\n",
    "L1=tf.layers.max_pooling2d(L1,[2,2],[2,2])#ksize, strides\n",
    "L1=tf.layers.dropout(L1,.7,is_training)\n",
    "\n",
    "L2=tf.layers.conv2d(L1,64,[3,3], activation=tf.nn.relu)\n",
    "L2=tf.layers.max_pooling2d(L2,[2,2],[2,2])#ksize, strides\n",
    "L2=tf.layers.dropout(L2,.7,is_training)\n",
    "\n",
    "L3=tf.contrib.layers.flatten(L2)\n",
    "L3=tf.layers.dense(L3,256,activation=tf.nn.relu)\n",
    "L3=tf.layers.dropout(L3,.5,is_training)\n",
    "\n",
    "model=tf.layers.dense(L3,10,activation=None)\n",
    "\n",
    "cost=tf.reduce_mean(tf.nn.softmax_cross_entropy_with_logits_v2(labels=Y, logits=model))\n",
    "optimizer=tf.train.AdamOptimizer(.001).minimize(cost)"
   ]
  },
  {
   "cell_type": "code",
   "execution_count": 13,
   "metadata": {
    "collapsed": false
   },
   "outputs": [
    {
     "name": "stdout",
     "output_type": "stream",
     "text": [
      "Epoch: 1 \t Avg.cost: 0.973786380593665\n",
      "Epoch: 2 \t Avg.cost: 0.28401529691182076\n",
      "Epoch: 3 \t Avg.cost: 0.19159172421204856\n",
      "Epoch: 4 \t Avg.cost: 0.13472390236740467\n",
      "Epoch: 5 \t Avg.cost: 0.09729414122761228\n",
      "Epoch: 6 \t Avg.cost: 0.08477792779478477\n",
      "Epoch: 7 \t Avg.cost: 0.060201402711536504\n",
      "Epoch: 8 \t Avg.cost: 0.05675248563857167\n",
      "Epoch: 9 \t Avg.cost: 0.03720425536866969\n",
      "Epoch: 10 \t Avg.cost: 0.04421077268907538\n",
      "Epoch: 11 \t Avg.cost: 0.034669768399226086\n",
      "Epoch: 12 \t Avg.cost: 0.023649986468390127\n",
      "Epoch: 13 \t Avg.cost: 0.020211200998196545\n",
      "Epoch: 14 \t Avg.cost: 0.035320131949974895\n",
      "Epoch: 15 \t Avg.cost: 0.017136596183793245\n"
     ]
    }
   ],
   "source": [
    "init=tf.global_variables_initializer()\n",
    "sess=tf.Session()\n",
    "sess.run(init)\n",
    "\n",
    "batch_size=100\n",
    "total_batch=int(mnist.train.num_examples/ batch_size)\n",
    "\n",
    "for epoch in range(15):\n",
    "    total_cost=0\n",
    "    \n",
    "    for i in range(total_batch):\n",
    "        batch_xs, batch_ys=mnist.train.next_batch(batch_size)\n",
    "        batch_xs=batch_xs.reshape(-1,28,28,1)\n",
    "        _,cost_val=sess.run([optimizer, cost], feed_dict={X:batch_xs, Y:batch_ys, is_training:True})\n",
    "        total_cost += cost_val\n",
    "        \n",
    "    print('Epoch:', epoch+1,'\\t Avg.cost:',total_cost/batch_size)"
   ]
  },
  {
   "cell_type": "code",
   "execution_count": 14,
   "metadata": {
    "collapsed": false
   },
   "outputs": [
    {
     "name": "stdout",
     "output_type": "stream",
     "text": [
      "Accuracy: 0.9902\n"
     ]
    }
   ],
   "source": [
    "is_correct=tf.equal(tf.argmax(Y,1), tf.argmax(model,1))\n",
    "accuracy=tf.reduce_mean(tf.cast(is_correct, tf.float32))\n",
    "print('Accuracy:',sess.run(accuracy, feed_dict={X:mnist.test.images.reshape(-1,28,28,1),\n",
    "                                               Y:mnist.test.labels,\n",
    "                                               is_training:False}))"
   ]
  }
 ],
 "metadata": {
  "kernelspec": {
   "display_name": "Python 3",
   "language": "python",
   "name": "python3"
  },
  "language_info": {
   "codemirror_mode": {
    "name": "ipython",
    "version": 3
   },
   "file_extension": ".py",
   "mimetype": "text/x-python",
   "name": "python",
   "nbconvert_exporter": "python",
   "pygments_lexer": "ipython3",
   "version": "3.6.2"
  }
 },
 "nbformat": 4,
 "nbformat_minor": 2
}
