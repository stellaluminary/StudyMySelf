{
 "cells": [
  {
   "cell_type": "markdown",
   "metadata": {},
   "source": [
    "# 10.1 MNIST"
   ]
  },
  {
   "cell_type": "code",
   "execution_count": 1,
   "metadata": {
    "collapsed": true
   },
   "outputs": [
    {
     "name": "stdout",
     "output_type": "stream",
     "text": [
      "WARNING:tensorflow:From <ipython-input-1-b20d2bec0762>:4: read_data_sets (from tensorflow.contrib.learn.python.learn.datasets.mnist) is deprecated and will be removed in a future version.\n",
      "Instructions for updating:\n",
      "Please use alternatives such as official/mnist/dataset.py from tensorflow/models.\n",
      "WARNING:tensorflow:From C:\\Users\\la\\Anaconda3\\lib\\site-packages\\tensorflow\\contrib\\learn\\python\\learn\\datasets\\mnist.py:260: maybe_download (from tensorflow.contrib.learn.python.learn.datasets.base) is deprecated and will be removed in a future version.\n",
      "Instructions for updating:\n",
      "Please write your own downloading logic.\n",
      "WARNING:tensorflow:From C:\\Users\\la\\Anaconda3\\lib\\site-packages\\tensorflow\\contrib\\learn\\python\\learn\\datasets\\mnist.py:262: extract_images (from tensorflow.contrib.learn.python.learn.datasets.mnist) is deprecated and will be removed in a future version.\n",
      "Instructions for updating:\n",
      "Please use tf.data to implement this functionality.\n",
      "Extracting ./mnist/data/train-images-idx3-ubyte.gz\n",
      "WARNING:tensorflow:From C:\\Users\\la\\Anaconda3\\lib\\site-packages\\tensorflow\\contrib\\learn\\python\\learn\\datasets\\mnist.py:267: extract_labels (from tensorflow.contrib.learn.python.learn.datasets.mnist) is deprecated and will be removed in a future version.\n",
      "Instructions for updating:\n",
      "Please use tf.data to implement this functionality.\n",
      "Extracting ./mnist/data/train-labels-idx1-ubyte.gz\n",
      "WARNING:tensorflow:From C:\\Users\\la\\Anaconda3\\lib\\site-packages\\tensorflow\\contrib\\learn\\python\\learn\\datasets\\mnist.py:110: dense_to_one_hot (from tensorflow.contrib.learn.python.learn.datasets.mnist) is deprecated and will be removed in a future version.\n",
      "Instructions for updating:\n",
      "Please use tf.one_hot on tensors.\n",
      "Extracting ./mnist/data/t10k-images-idx3-ubyte.gz\n",
      "Extracting ./mnist/data/t10k-labels-idx1-ubyte.gz\n",
      "WARNING:tensorflow:From C:\\Users\\la\\Anaconda3\\lib\\site-packages\\tensorflow\\contrib\\learn\\python\\learn\\datasets\\mnist.py:290: DataSet.__init__ (from tensorflow.contrib.learn.python.learn.datasets.mnist) is deprecated and will be removed in a future version.\n",
      "Instructions for updating:\n",
      "Please use alternatives such as official/mnist/dataset.py from tensorflow/models.\n"
     ]
    }
   ],
   "source": [
    "import tensorflow as tf\n",
    "\n",
    "from tensorflow.examples.tutorials.mnist import input_data\n",
    "mnist = input_data.read_data_sets(\"./mnist/data/\", one_hot=True)"
   ]
  },
  {
   "cell_type": "code",
   "execution_count": 3,
   "metadata": {
    "collapsed": false
   },
   "outputs": [],
   "source": [
    "learning_rate=0.001\n",
    "total_epoch=30\n",
    "batch_size=128\n",
    "\n",
    "n_input=28\n",
    "n_step=28\n",
    "n_hidden=128\n",
    "n_class=10\n",
    "\n",
    "X=tf.placeholder(tf.float32,[None,n_step, n_input])\n",
    "Y=tf.placeholder(tf.float32,[None,n_class])\n",
    "\n",
    "W=tf.Variable(tf.random_normal([n_hidden,n_class]))\n",
    "b=tf.Variable(tf.random_normal([n_class]))\n",
    "cell=tf.nn.rnn_cell.BasicRNNCell(n_hidden)\n",
    "\n",
    "outputs,states=tf.nn.dynamic_rnn(cell, X, dtype=tf.float32)\n",
    "outputs=tf.transpose(outputs,[1,0,2])\n",
    "outputs=outputs[-1]\n",
    "model=tf.matmul(outputs,W)+b\n",
    "\n",
    "cost=tf.reduce_mean(tf.nn.softmax_cross_entropy_with_logits_v2(logits=model,labels=Y))\n",
    "optimizer=tf.train.AdamOptimizer(learning_rate).minimize(cost)"
   ]
  },
  {
   "cell_type": "code",
   "execution_count": 4,
   "metadata": {
    "collapsed": false,
    "scrolled": true
   },
   "outputs": [
    {
     "name": "stdout",
     "output_type": "stream",
     "text": [
      "Epoch: 0001 Avg. cost = 0.558\n",
      "Epoch: 0002 Avg. cost = 0.226\n",
      "Epoch: 0003 Avg. cost = 0.170\n",
      "Epoch: 0004 Avg. cost = 0.148\n",
      "Epoch: 0005 Avg. cost = 0.134\n",
      "Epoch: 0006 Avg. cost = 0.120\n",
      "Epoch: 0007 Avg. cost = 0.113\n",
      "Epoch: 0008 Avg. cost = 0.107\n",
      "Epoch: 0009 Avg. cost = 0.099\n",
      "Epoch: 0010 Avg. cost = 0.093\n",
      "Epoch: 0011 Avg. cost = 0.096\n",
      "Epoch: 0012 Avg. cost = 0.090\n",
      "Epoch: 0013 Avg. cost = 0.092\n",
      "Epoch: 0014 Avg. cost = 0.085\n",
      "Epoch: 0015 Avg. cost = 0.076\n",
      "Epoch: 0016 Avg. cost = 0.077\n",
      "Epoch: 0017 Avg. cost = 0.082\n",
      "Epoch: 0018 Avg. cost = 0.072\n",
      "Epoch: 0019 Avg. cost = 0.074\n",
      "Epoch: 0020 Avg. cost = 0.074\n",
      "Epoch: 0021 Avg. cost = 0.071\n",
      "Epoch: 0022 Avg. cost = 0.066\n",
      "Epoch: 0023 Avg. cost = 0.071\n",
      "Epoch: 0024 Avg. cost = 0.063\n",
      "Epoch: 0025 Avg. cost = 0.066\n",
      "Epoch: 0026 Avg. cost = 0.058\n",
      "Epoch: 0027 Avg. cost = 0.060\n",
      "Epoch: 0028 Avg. cost = 0.073\n",
      "Epoch: 0029 Avg. cost = 0.057\n",
      "Epoch: 0030 Avg. cost = 0.062\n",
      "정확도: 0.9713\n"
     ]
    }
   ],
   "source": [
    "sess = tf.Session()\n",
    "sess.run(tf.global_variables_initializer())\n",
    "\n",
    "total_batch = int(mnist.train.num_examples/batch_size)\n",
    "\n",
    "for epoch in range(total_epoch):\n",
    "    total_cost = 0\n",
    "\n",
    "    for i in range(total_batch):\n",
    "        batch_xs, batch_ys = mnist.train.next_batch(batch_size)\n",
    "        # X 데이터를 RNN 입력 데이터에 맞게 [batch_size, n_step, n_input] 형태로 변환합니다.\n",
    "        batch_xs = batch_xs.reshape((batch_size, n_step, n_input))\n",
    "\n",
    "        _, cost_val = sess.run([optimizer, cost],\n",
    "                               feed_dict={X: batch_xs, Y: batch_ys})\n",
    "        total_cost += cost_val\n",
    "\n",
    "    print('Epoch:', '%04d' % (epoch + 1),\n",
    "          'Avg. cost =', '{:.3f}'.format(total_cost / total_batch))\n",
    "\n",
    "is_correct = tf.equal(tf.argmax(model, 1), tf.argmax(Y, 1))\n",
    "accuracy = tf.reduce_mean(tf.cast(is_correct, tf.float32))\n",
    "\n",
    "test_batch_size = len(mnist.test.images)\n",
    "test_xs = mnist.test.images.reshape(test_batch_size, n_step, n_input)\n",
    "test_ys = mnist.test.labels\n",
    "\n",
    "print('정확도:', sess.run(accuracy,feed_dict={X: test_xs, Y: test_ys}))"
   ]
  },
  {
   "cell_type": "markdown",
   "metadata": {},
   "source": [
    "# 10.2 AutoWordComplete"
   ]
  },
  {
   "cell_type": "code",
   "execution_count": 1,
   "metadata": {
    "collapsed": false
   },
   "outputs": [],
   "source": [
    "import tensorflow as tf\n",
    "import numpy as np\n",
    "\n",
    "char_arr=[chr(i) for i in range(ord('a'), ord('z')+1)]\n",
    "\n",
    "num_dic={n:i for i,n in enumerate(char_arr)}\n",
    "dic_len=len(num_dic)\n",
    "\n",
    "seq_data=['word','wood','doop','dive','cold', 'cool', 'load', 'love', 'kiss', 'kind']\n",
    "\n",
    "def make_batch(seq_data):\n",
    "    input_batch=[]\n",
    "    target_batch=[]\n",
    "    \n",
    "    for seq in seq_data:\n",
    "        input=[num_dic[n] for n in seq[:-1]]\n",
    "        target=num_dic[seq[-1]]\n",
    "        input_batch.append(np.eye(dic_len)[input])\n",
    "        target_batch.append(target)\n",
    "        \n",
    "    return input_batch,target_batch"
   ]
  },
  {
   "cell_type": "code",
   "execution_count": 2,
   "metadata": {
    "collapsed": false
   },
   "outputs": [
    {
     "name": "stdout",
     "output_type": "stream",
     "text": [
      "WARNING:tensorflow:From <ipython-input-2-b042feb02573>:13: BasicLSTMCell.__init__ (from tensorflow.python.ops.rnn_cell_impl) is deprecated and will be removed in a future version.\n",
      "Instructions for updating:\n",
      "This class is deprecated, please use tf.nn.rnn_cell.LSTMCell, which supports all the feature this cell currently has. Please replace the existing code with tf.nn.rnn_cell.LSTMCell(name='basic_lstm_cell').\n"
     ]
    }
   ],
   "source": [
    "learning_rate = 0.01\n",
    "n_hidden = 128\n",
    "total_epoch = 30\n",
    "n_step = 3\n",
    "n_input = n_class = dic_len\n",
    "\n",
    "X=tf.placeholder(tf.float32,[None,n_step,n_input])\n",
    "Y=tf.placeholder(tf.int32, [None])\n",
    "\n",
    "W=tf.Variable(tf.random_normal([n_hidden, n_class]))\n",
    "b=tf.Variable(tf.random_normal([n_class]))\n",
    "\n",
    "cell1=tf.nn.rnn_cell.BasicLSTMCell(n_hidden)\n",
    "cell1=tf.nn.rnn_cell.DropoutWrapper(cell1, output_keep_prob=0.5)\n",
    "cell2=tf.nn.rnn_cell.BasicLSTMCell(n_hidden)\n",
    "multi_cell=tf.nn.rnn_cell.MultiRNNCell([cell1,cell2])\n",
    "\n",
    "outputs,states=tf.nn.dynamic_rnn(multi_cell, X, dtype=tf.float32)\n",
    "\n",
    "outputs=tf.transpose(outputs,[1,0,2])\n",
    "outputs=outputs[-1]\n",
    "model=tf.matmul(outputs,W)+b\n",
    "\n",
    "cost=tf.reduce_mean(tf.nn.sparse_softmax_cross_entropy_with_logits(logits=model, labels=Y))\n",
    "optimizer=tf.train.AdamOptimizer(learning_rate).minimize(cost)"
   ]
  },
  {
   "cell_type": "code",
   "execution_count": 3,
   "metadata": {
    "collapsed": false
   },
   "outputs": [
    {
     "name": "stdout",
     "output_type": "stream",
     "text": [
      "Epoch: 0001 cost = 3.638918\n",
      "Epoch: 0002 cost = 2.702821\n",
      "Epoch: 0003 cost = 1.635561\n",
      "Epoch: 0004 cost = 1.274975\n",
      "Epoch: 0005 cost = 0.910665\n",
      "Epoch: 0006 cost = 0.624336\n",
      "Epoch: 0007 cost = 0.555362\n",
      "Epoch: 0008 cost = 0.422168\n",
      "Epoch: 0009 cost = 0.218087\n",
      "Epoch: 0010 cost = 0.244836\n",
      "Epoch: 0011 cost = 0.376875\n",
      "Epoch: 0012 cost = 0.521310\n",
      "Epoch: 0013 cost = 0.370061\n",
      "Epoch: 0014 cost = 0.066090\n",
      "Epoch: 0015 cost = 0.268151\n",
      "Epoch: 0016 cost = 0.287283\n",
      "Epoch: 0017 cost = 0.149890\n",
      "Epoch: 0018 cost = 0.016284\n",
      "Epoch: 0019 cost = 0.087698\n",
      "Epoch: 0020 cost = 0.005883\n",
      "Epoch: 0021 cost = 0.011586\n",
      "Epoch: 0022 cost = 0.110719\n",
      "Epoch: 0023 cost = 0.052522\n",
      "Epoch: 0024 cost = 0.020814\n",
      "Epoch: 0025 cost = 0.163787\n",
      "Epoch: 0026 cost = 0.033002\n",
      "Epoch: 0027 cost = 0.046358\n",
      "Epoch: 0028 cost = 0.145351\n",
      "Epoch: 0029 cost = 0.020019\n",
      "Epoch: 0030 cost = 0.221079\n"
     ]
    }
   ],
   "source": [
    "sess = tf.Session()\n",
    "sess.run(tf.global_variables_initializer())\n",
    "\n",
    "input_batch, target_batch = make_batch(seq_data)\n",
    "for epoch in range(total_epoch):\n",
    "    _, loss = sess.run([optimizer, cost], feed_dict={X: input_batch, Y: target_batch})\n",
    "\n",
    "    print('Epoch:', '%04d' % (epoch + 1),\n",
    "          'cost =', '{:.6f}'.format(loss))"
   ]
  },
  {
   "cell_type": "code",
   "execution_count": 4,
   "metadata": {
    "collapsed": false
   },
   "outputs": [
    {
     "name": "stdout",
     "output_type": "stream",
     "text": [
      "입력값: ['wor ', 'woo ', 'doo ', 'div ', 'col ', 'coo ', 'loa ', 'lov ', 'kis ', 'kin ']\n",
      "예측값: ['word', 'wood', 'doop', 'dive', 'cold', 'cool', 'load', 'love', 'kiss', 'kind']\n",
      "정확도: 1.0\n"
     ]
    }
   ],
   "source": [
    "prediction=tf.cast(tf.argmax(model,1), tf.int32)\n",
    "prediction_check=tf.equal(prediction,Y)\n",
    "accuracy=tf.reduce_mean(tf.cast(prediction_check, tf.float32))\n",
    "input_batch, target_batch = make_batch(seq_data)\n",
    "\n",
    "predict, accuracy_val = sess.run([prediction, accuracy], feed_dict={X: input_batch, Y: target_batch})\n",
    "\n",
    "predict_words=[]\n",
    "for idx,val in enumerate(seq_data):\n",
    "    last_char=char_arr[predict[idx]]\n",
    "    predict_words.append(val[:3]+last_char)\n",
    "    \n",
    "print('입력값:', [w[:3] + ' ' for w in seq_data])\n",
    "print('예측값:', predict_words)\n",
    "print('정확도:', accuracy_val)"
   ]
  },
  {
   "cell_type": "code",
   "execution_count": null,
   "metadata": {
    "collapsed": true
   },
   "outputs": [],
   "source": []
  }
 ],
 "metadata": {
  "kernelspec": {
   "display_name": "Python 3",
   "language": "python",
   "name": "python3"
  },
  "language_info": {
   "codemirror_mode": {
    "name": "ipython",
    "version": 3
   },
   "file_extension": ".py",
   "mimetype": "text/x-python",
   "name": "python",
   "nbconvert_exporter": "python",
   "pygments_lexer": "ipython3",
   "version": "3.6.2"
  }
 },
 "nbformat": 4,
 "nbformat_minor": 2
}
