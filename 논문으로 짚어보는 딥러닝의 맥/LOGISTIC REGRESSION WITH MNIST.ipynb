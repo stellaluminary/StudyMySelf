{
 "cells": [
  {
   "cell_type": "code",
   "execution_count": 1,
   "metadata": {
    "collapsed": true
   },
   "outputs": [],
   "source": [
    "import numpy as np\n",
    "import tensorflow as tf\n",
    "import matplotlib.pyplot as plt\n",
    "from tensorflow.examples.tutorials.mnist import input_data"
   ]
  },
  {
   "cell_type": "code",
   "execution_count": 4,
   "metadata": {
    "collapsed": false
   },
   "outputs": [
    {
     "name": "stdout",
     "output_type": "stream",
     "text": [
      "Extracting ../data/train-images-idx3-ubyte.gz\n",
      "Extracting ../data/train-labels-idx1-ubyte.gz\n",
      "Extracting ../data/t10k-images-idx3-ubyte.gz\n",
      "Extracting ../data/t10k-labels-idx1-ubyte.gz\n"
     ]
    }
   ],
   "source": [
    "mnist=input_data.read_data_sets('../data/', one_hot=True)\n",
    "trainimg=mnist.train.images\n",
    "trainlabel=mnist.train.labels\n",
    "testimg=mnist.test.images\n",
    "testlabel=mnist.test.labels"
   ]
  },
  {
   "cell_type": "code",
   "execution_count": 6,
   "metadata": {
    "collapsed": false
   },
   "outputs": [
    {
     "name": "stdout",
     "output_type": "stream",
     "text": [
      "(55000, 784)\n",
      "(55000, 10)\n",
      "(10000, 784)\n",
      "(10000, 10)\n"
     ]
    }
   ],
   "source": [
    "print(trainimg.shape)\n",
    "print(trainlabel.shape)\n",
    "print(testimg.shape)\n",
    "print(testlabel.shape)"
   ]
  },
  {
   "cell_type": "code",
   "execution_count": 7,
   "metadata": {
    "collapsed": true
   },
   "outputs": [],
   "source": [
    "X=tf.placeholder('float', [None,784])\n",
    "Y=tf.placeholder('float', [None,10])\n",
    "\n",
    "W=tf.Variable(tf.random_normal([784,10]))\n",
    "b=tf.Variable(tf.random_normal([10]))\n",
    "activation=tf.nn.softmax(tf.matmul(X,W)+b)\n",
    "cost=tf.reduce_mean(-tf.reduce_sum(Y*tf.log(activation), reduction_indices=1))\n",
    "\n",
    "learning_rate=.01\n",
    "optimizer=tf.train.GradientDescentOptimizer(learning_rate).minimize(cost)"
   ]
  },
  {
   "cell_type": "code",
   "execution_count": 8,
   "metadata": {
    "collapsed": true
   },
   "outputs": [],
   "source": [
    "pred=tf.equal(tf.argmax(activation,1), tf.argmax(Y,1))\n",
    "accuracy=tf.reduce_mean(tf.cast(pred,'float'))\n",
    "init=tf.global_variables_initializer()"
   ]
  },
  {
   "cell_type": "code",
   "execution_count": 10,
   "metadata": {
    "collapsed": false
   },
   "outputs": [
    {
     "name": "stdout",
     "output_type": "stream",
     "text": [
      "Epoch: 000/050 cost:7.869257184 train_Acc:0.290 test_Acc:0.282\n",
      "Epoch: 005/050 cost:1.682705235 train_Acc:0.770 test_Acc:0.683\n",
      "Epoch: 010/050 cost:1.166312169 train_Acc:0.800 test_Acc:0.762\n",
      "Epoch: 015/050 cost:0.968863342 train_Acc:0.750 test_Acc:0.796\n",
      "Epoch: 020/050 cost:0.867704521 train_Acc:0.740 test_Acc:0.816\n",
      "Epoch: 025/050 cost:0.802341418 train_Acc:0.830 test_Acc:0.828\n",
      "Epoch: 030/050 cost:0.747551400 train_Acc:0.860 test_Acc:0.837\n",
      "Epoch: 035/050 cost:0.710471613 train_Acc:0.830 test_Acc:0.845\n",
      "Epoch: 040/050 cost:0.678794927 train_Acc:0.830 test_Acc:0.849\n",
      "Epoch: 045/050 cost:0.647914761 train_Acc:0.900 test_Acc:0.853\n"
     ]
    }
   ],
   "source": [
    "training_epochs=50\n",
    "batch_size=100\n",
    "display_step=5\n",
    "\n",
    "sess=tf.Session()\n",
    "sess.run(init)\n",
    "\n",
    "for epoch in range(training_epochs):\n",
    "    avg_cost=0\n",
    "    num_batch=int(mnist.train.num_examples/batch_size)\n",
    "    for i in range(num_batch):\n",
    "        batch_xs,batch_ys=mnist.train.next_batch(batch_size)\n",
    "        feeds={X:batch_xs,Y:batch_ys}\n",
    "        sess.run(optimizer, feed_dict=feeds)\n",
    "        avg_cost += sess.run(cost,feed_dict=feeds)/num_batch\n",
    "        \n",
    "    if epoch % display_step ==0:\n",
    "        feeds_train={X:batch_xs, Y:batch_ys}\n",
    "        feeds_test={X:mnist.test.images, Y:mnist.test.labels}\n",
    "        train_acc=sess.run(accuracy, feed_dict=feeds_train)\n",
    "        test_acc=sess.run(accuracy, feed_dict=feeds_test)\n",
    "        print('Epoch: %03d/%03d cost:%.9f train_Acc:%.3f test_Acc:%.3f'\n",
    "             % (epoch, training_epochs, avg_cost, train_acc, test_acc))\n",
    "        "
   ]
  },
  {
   "cell_type": "code",
   "execution_count": null,
   "metadata": {
    "collapsed": true
   },
   "outputs": [],
   "source": []
  }
 ],
 "metadata": {
  "kernelspec": {
   "display_name": "Python 3",
   "language": "python",
   "name": "python3"
  },
  "language_info": {
   "codemirror_mode": {
    "name": "ipython",
    "version": 3
   },
   "file_extension": ".py",
   "mimetype": "text/x-python",
   "name": "python",
   "nbconvert_exporter": "python",
   "pygments_lexer": "ipython3",
   "version": "3.6.2"
  }
 },
 "nbformat": 4,
 "nbformat_minor": 2
}
