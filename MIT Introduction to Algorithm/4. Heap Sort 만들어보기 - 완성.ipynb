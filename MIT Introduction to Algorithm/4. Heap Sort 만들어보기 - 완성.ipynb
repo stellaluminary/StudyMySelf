{
 "cells": [
  {
   "cell_type": "code",
   "execution_count": 1,
   "metadata": {},
   "outputs": [
    {
     "name": "stdout",
     "output_type": "stream",
     "text": [
      "10\n"
     ]
    }
   ],
   "source": [
    "a = [4,1,3,2,16,9,10,14,8,7]\n",
    "print(len(a))"
   ]
  },
  {
   "cell_type": "code",
   "execution_count": 2,
   "metadata": {},
   "outputs": [],
   "source": [
    "b=a.copy()"
   ]
  },
  {
   "cell_type": "code",
   "execution_count": 3,
   "metadata": {},
   "outputs": [
    {
     "data": {
      "text/plain": [
       "[4, 1, 3, 14, 16, 9, 10, 2, 8, 7]"
      ]
     },
     "execution_count": 3,
     "metadata": {},
     "output_type": "execute_result"
    }
   ],
   "source": [
    "def max_heapify(A,i):\n",
    "    l = 2*i+1\n",
    "    r = 2*(i+1)    \n",
    "    if l< len(A) and A[l]>A[i]:\n",
    "        largest = l\n",
    "    else:\n",
    "        largest = i\n",
    "    if r<len(A) and A[r]>A[largest]:\n",
    "        largest = r\n",
    "    if largest != i:\n",
    "        tmp = A[i]\n",
    "        A[i] = A[largest]\n",
    "        A[largest] = tmp    \n",
    "        max_heapify(A,largest)\n",
    "        \n",
    "    return A\n",
    "max_heapify(b,3)"
   ]
  },
  {
   "cell_type": "code",
   "execution_count": 4,
   "metadata": {},
   "outputs": [],
   "source": [
    "def build_max_heap(A):\n",
    "    for i in range(len(A)//2-1,-1,-1):\n",
    "        max_heapify(A,i)\n",
    "    return A"
   ]
  },
  {
   "cell_type": "code",
   "execution_count": 5,
   "metadata": {},
   "outputs": [
    {
     "data": {
      "text/plain": [
       "[16, 14, 10, 8, 7, 9, 3, 2, 4, 1]"
      ]
     },
     "execution_count": 5,
     "metadata": {},
     "output_type": "execute_result"
    }
   ],
   "source": [
    "build_max_heap(b)"
   ]
  },
  {
   "cell_type": "code",
   "execution_count": 6,
   "metadata": {},
   "outputs": [
    {
     "name": "stdout",
     "output_type": "stream",
     "text": [
      "init :  [4, 1, 3, 2, 16, 9, 10, 14, 8, 7]\n",
      "0.0000000000 sec\n",
      "[16, 14, 10, 9, 8, 7, 4, 3, 2, 1]\n"
     ]
    }
   ],
   "source": [
    "b=a.copy()\n",
    "print('init : ',b)\n",
    "def heap_sort(A):\n",
    "    import time\n",
    "    start = time.time()\n",
    "    li = []\n",
    "    for i in range(len(A)):\n",
    "        build_max_heap(A)\n",
    "        max_ = A[0]\n",
    "        A[0] = A[len(A)-1]\n",
    "        A[len(A)-1] = max_\n",
    "        li.append(A.pop())\n",
    "    end = time.time()\n",
    "    print('%.10f sec' %(end-start))\n",
    "    return li\n",
    "print(heap_sort(b))"
   ]
  }
 ],
 "metadata": {
  "kernelspec": {
   "display_name": "tf20",
   "language": "python",
   "name": "tf20"
  },
  "language_info": {
   "codemirror_mode": {
    "name": "ipython",
    "version": 3
   },
   "file_extension": ".py",
   "mimetype": "text/x-python",
   "name": "python",
   "nbconvert_exporter": "python",
   "pygments_lexer": "ipython3",
   "version": "3.7.4"
  }
 },
 "nbformat": 4,
 "nbformat_minor": 2
}
