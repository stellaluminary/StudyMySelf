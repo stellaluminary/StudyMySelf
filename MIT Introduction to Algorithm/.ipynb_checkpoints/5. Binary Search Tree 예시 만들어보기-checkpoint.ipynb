{
 "cells": [
  {
   "cell_type": "markdown",
   "metadata": {},
   "source": [
    "# Python 2.0 기준 코드 소개\n",
    "https://ocw.mit.edu/courses/electrical-engineering-and-computer-science/6-006-introduction-to-algorithms-fall-2011/readings/binary-search-trees/"
   ]
  },
  {
   "cell_type": "code",
   "execution_count": 18,
   "metadata": {},
   "outputs": [
    {
     "name": "stdout",
     "output_type": "stream",
     "text": [
      "<bst.BST object at 0x000002B55FD711C8>\n",
      "<bst.BST object at 0x000002B55FD711C8>\n",
      "<bst.BST object at 0x000002B55FD711C8>\n"
     ]
    }
   ],
   "source": [
    "import bst\n",
    "t = bst.BST()\n",
    "print(t)\n",
    "\n",
    "for i in range(4):\n",
    "    t.insert(i)\n",
    "print(t)\n",
    "\n",
    "#t.delete_min() # AttributeError: 'BST' object has no attribute 'delete_min'\n",
    "print(t)"
   ]
  },
  {
   "cell_type": "markdown",
   "metadata": {},
   "source": [
    "# Python 3 기준 변화된 내용 확인\n",
    "https://www.youtube.com/watch?v=YlgPi75hIBc"
   ]
  },
  {
   "cell_type": "code",
   "execution_count": 21,
   "metadata": {},
   "outputs": [
    {
     "name": "stdout",
     "output_type": "stream",
     "text": [
      "True\n",
      "PreOrder\n",
      "10\n",
      "1\n",
      "True\n"
     ]
    }
   ],
   "source": [
    "class Node:\n",
    "\tdef __init__(self, val):\n",
    "\t\tself.value = val\n",
    "\t\tself.leftChild = None\n",
    "\t\tself.rightChild = None\n",
    "\t\t\n",
    "\tdef insert(self, data):\n",
    "\t\tif self.value == data:\n",
    "\t\t\treturn False\n",
    "\t\t\t\n",
    "\t\telif self.value > data:\n",
    "\t\t\tif self.leftChild:\n",
    "\t\t\t\treturn self.leftChild.insert(data)\n",
    "\t\t\telse:\n",
    "\t\t\t\tself.leftChild = Node(data)\n",
    "\t\t\t\treturn True\n",
    "\n",
    "\t\telse:\n",
    "\t\t\tif self.rightChild:\n",
    "\t\t\t\treturn self.rightChild.insert(data)\n",
    "\t\t\telse:\n",
    "\t\t\t\tself.rightChild = Node(data)\n",
    "\t\t\t\treturn True\n",
    "\t\t\t\t\n",
    "\tdef find(self, data):\n",
    "\t\tif(self.value == data):\n",
    "\t\t\treturn True\n",
    "\t\telif self.value > data:\n",
    "\t\t\tif self.leftChild:\n",
    "\t\t\t\treturn self.leftChild.find(data)\n",
    "\t\t\telse:\n",
    "\t\t\t\treturn False\n",
    "\t\telse:\n",
    "\t\t\tif self.rightChild:\n",
    "\t\t\t\treturn self.rightChild.find(data)\n",
    "\t\t\telse:\n",
    "\t\t\t\treturn False\n",
    "\t\t\t\t\n",
    "\tdef getHeight(self):\n",
    "\t\tif self.leftChild and self.rightChild:\n",
    "\t\t\treturn 1 + max(self.leftChild.getHeight(), self.rightChild.getHeight())\n",
    "\t\telif self.leftChild:\n",
    "\t\t\treturn 1 + self.leftChild.getHeight()\n",
    "\t\telif self.rightChild:\n",
    "\t\t\treturn 1 + self.rightChild.getHeight()\n",
    "\t\telse:\n",
    "\t\t\treturn 1\n",
    "\n",
    "\tdef preorder(self):\n",
    "\t\tif self:\n",
    "\t\t\tprint (str(self.value))\n",
    "\t\t\tif self.leftChild:\n",
    "\t\t\t\tself.leftChild.preorder()\n",
    "\t\t\tif self.rightChild:\n",
    "\t\t\t\tself.rightChild.preorder()\n",
    "\n",
    "\tdef postorder(self):\n",
    "\t\tif self:\n",
    "\t\t\tif self.leftChild:\n",
    "\t\t\t\tself.leftChild.postorder()\n",
    "\t\t\tif self.rightChild:\n",
    "\t\t\t\tself.rightChild.postorder()\n",
    "\t\t\tprint (str(self.value))\n",
    "\n",
    "\tdef inorder(self):\n",
    "\t\tif self:\n",
    "\t\t\tif self.leftChild:\n",
    "\t\t\t\tself.leftChild.inorder()\n",
    "\t\t\tprint (str(self.value))\n",
    "\t\t\tif self.rightChild:\n",
    "\t\t\t\tself.rightChild.inorder()\n",
    "\n",
    "class Tree:\n",
    "\tdef __init__(self):\n",
    "\t\tself.root = None\n",
    "\n",
    "\tdef insert(self, data):\n",
    "\t\tif self.root:\n",
    "\t\t\treturn self.root.insert(data)\n",
    "\t\telse:\n",
    "\t\t\tself.root = Node(data)\n",
    "\t\t\treturn True\n",
    "\n",
    "\tdef find(self, data):\n",
    "\t\tif self.root:\n",
    "\t\t\treturn self.root.find(data)\n",
    "\t\telse:\n",
    "\t\t\treturn False\n",
    "\t\t\t\n",
    "\tdef getHeight(self):\n",
    "\t\tif self.root:\n",
    "\t\t\treturn self.root.getHeight()\n",
    "\t\telse:\n",
    "\t\t\treturn -1\n",
    "\t\n",
    "\tdef remove(self, data):\n",
    "\t\t# empty tree\n",
    "\t\tif self.root is None:\n",
    "\t\t\treturn False\n",
    "\t\t\t\n",
    "\t\t# data is in root node\t\n",
    "\t\telif self.root.value == data:\n",
    "\t\t\tif self.root.leftChild is None and self.root.rightChild is None:\n",
    "\t\t\t\tself.root = None\n",
    "\t\t\telif self.root.leftChild and self.root.rightChild is None:\n",
    "\t\t\t\tself.root = self.root.leftChild\n",
    "\t\t\telif self.root.leftChild is None and self.root.rightChild:\n",
    "\t\t\t\tself.root = self.root.rightChild\n",
    "\t\t\telif self.root.leftChild and self.root.rightChild:\n",
    "\t\t\t\tdelNodeParent = self.root\n",
    "\t\t\t\tdelNode = self.root.rightChild\n",
    "\t\t\t\twhile delNode.leftChild:\n",
    "\t\t\t\t\tdelNodeParent = delNode\n",
    "\t\t\t\t\tdelNode = delNode.leftChild\n",
    "\t\t\t\t\t\n",
    "\t\t\t\tself.root.value = delNode.value\n",
    "\t\t\t\tif delNode.rightChild:\n",
    "\t\t\t\t\tif delNodeParent.value > delNode.value:\n",
    "\t\t\t\t\t\tdelNodeParent.leftChild = delNode.rightChild\n",
    "\t\t\t\t\telif delNodeParent.value < delNode.value:\n",
    "\t\t\t\t\t\tdelNodeParent.rightChild = delNode.rightChild\n",
    "\t\t\t\telse:\n",
    "\t\t\t\t\tif delNode.value < delNodeParent.value:\n",
    "\t\t\t\t\t\tdelNodeParent.leftChild = None\n",
    "\t\t\t\t\telse:\n",
    "\t\t\t\t\t\tdelNodeParent.rightChild = None\n",
    "\t\t\t\t\t\t\n",
    "\t\t\treturn True\n",
    "\t\t\n",
    "\t\tparent = None\n",
    "\t\tnode = self.root\n",
    "\t\t\n",
    "\t\t# find node to remove\n",
    "\t\twhile node and node.value != data:\n",
    "\t\t\tparent = node\n",
    "\t\t\tif data < node.value:\n",
    "\t\t\t\tnode = node.leftChild\n",
    "\t\t\telif data > node.value:\n",
    "\t\t\t\tnode = node.rightChild\n",
    "\t\t\n",
    "\t\t# case 1: data not found\n",
    "\t\tif node is None or node.value != data:\n",
    "\t\t\treturn False\n",
    "\t\t\t\n",
    "\t\t# case 2: remove-node has no children\n",
    "\t\telif node.leftChild is None and node.rightChild is None:\n",
    "\t\t\tif data < parent.value:\n",
    "\t\t\t\tparent.leftChild = None\n",
    "\t\t\telse:\n",
    "\t\t\t\tparent.rightChild = None\n",
    "\t\t\treturn True\n",
    "\t\t\t\n",
    "\t\t# case 3: remove-node has left child only\n",
    "\t\telif node.leftChild and node.rightChild is None:\n",
    "\t\t\tif data < parent.value:\n",
    "\t\t\t\tparent.leftChild = node.leftChild\n",
    "\t\t\telse:\n",
    "\t\t\t\tparent.rightChild = node.leftChild\n",
    "\t\t\treturn True\n",
    "\t\t\t\n",
    "\t\t# case 4: remove-node has right child only\n",
    "\t\telif node.leftChild is None and node.rightChild:\n",
    "\t\t\tif data < parent.value:\n",
    "\t\t\t\tparent.leftChild = node.rightChild\n",
    "\t\t\telse:\n",
    "\t\t\t\tparent.rightChild = node.rightChild\n",
    "\t\t\treturn True\n",
    "\t\t\t\n",
    "\t\t# case 5: remove-node has left and right children\n",
    "\t\telse:\n",
    "\t\t\tdelNodeParent = node\n",
    "\t\t\tdelNode = node.rightChild\n",
    "\t\t\twhile delNode.leftChild:\n",
    "\t\t\t\tdelNodeParent = delNode\n",
    "\t\t\t\tdelNode = delNode.leftChild\n",
    "\t\t\t\t\n",
    "\t\t\tnode.value = delNode.value\n",
    "\t\t\tif delNode.rightChild:\n",
    "\t\t\t\tif delNodeParent.value > delNode.value:\n",
    "\t\t\t\t\tdelNodeParent.leftChild = delNode.rightChild\n",
    "\t\t\t\telif delNodeParent.value < delNode.value:\n",
    "\t\t\t\t\tdelNodeParent.rightChild = delNode.rightChild\n",
    "\t\t\telse:\n",
    "\t\t\t\tif delNode.value < delNodeParent.value:\n",
    "\t\t\t\t\tdelNodeParent.leftChild = None\n",
    "\t\t\t\telse:\n",
    "\t\t\t\t\tdelNodeParent.rightChild = None\n",
    "\n",
    "\tdef preorder(self):\n",
    "\t\tif self.root is not None:\n",
    "\t\t\tprint(\"PreOrder\")\n",
    "\t\t\tself.root.preorder()\n",
    "\t\t\n",
    "\tdef postorder(self):\n",
    "\t\tif self.root is not None:\n",
    "\t\t\tprint(\"PostOrder\")\n",
    "\t\t\tself.root.postorder()\n",
    "\t\t\t\n",
    "\tdef inorder(self):\n",
    "\t\tif self.root is not None:\n",
    "\t\t\tprint(\"InOrder\")\n",
    "\t\t\tself.root.inorder()\n",
    "\n",
    "bst = Tree()\n",
    "print(bst.insert(10))\n",
    "#print(bst.insert(5))\n",
    "bst.preorder()\n",
    "print(bst.getHeight())\n",
    "#bst.postorder()\n",
    "#bst.inorder()\n",
    "print(bst.remove(10))\n",
    "bst.preorder()"
   ]
  },
  {
   "cell_type": "code",
   "execution_count": 26,
   "metadata": {},
   "outputs": [
    {
     "name": "stdout",
     "output_type": "stream",
     "text": [
      "\n",
      "      _____8__\n",
      "     /        \\\n",
      "    12         0__\n",
      "   /  \\       /   \\\n",
      "  2    9     7     3\n",
      " /      \\         / \\\n",
      "6        1       5   11\n",
      "\n"
     ]
    },
    {
     "data": {
      "text/plain": [
       "{'height': 3,\n",
       " 'size': 11,\n",
       " 'is_max_heap': False,\n",
       " 'is_min_heap': False,\n",
       " 'is_perfect': False,\n",
       " 'is_strict': False,\n",
       " 'is_complete': False,\n",
       " 'leaf_count': 5,\n",
       " 'min_node_value': 0,\n",
       " 'max_node_value': 12,\n",
       " 'min_leaf_depth': 2,\n",
       " 'max_leaf_depth': 3,\n",
       " 'is_bst': False,\n",
       " 'is_balanced': True,\n",
       " 'is_symmetric': False}"
      ]
     },
     "execution_count": 26,
     "metadata": {},
     "output_type": "execute_result"
    }
   ],
   "source": [
    "from binarytree import tree\n",
    "\n",
    "mytree = tree()\n",
    "print(mytree)\n",
    "mytree.properties"
   ]
  },
  {
   "cell_type": "markdown",
   "metadata": {},
   "source": [
    "# Runway Reservation System Algorithm"
   ]
  },
  {
   "cell_type": "code",
   "execution_count": 8,
   "metadata": {},
   "outputs": [
    {
     "name": "stdout",
     "output_type": "stream",
     "text": [
      "[3]\n"
     ]
    }
   ],
   "source": [
    "R = []\n",
    "def req(R, t):\n",
    "    \n",
    "    if len(R) != 0 and t < R[0]:\n",
    "        return print('error')\n",
    "\n",
    "    for i in range(len(R)):\n",
    "        if abs(t-R[i]) < k:        \n",
    "            return print('error')\n",
    "    R.append(t)\n",
    "    R = sorted(R)\n",
    "    print(R)\n",
    "req(R, 3)"
   ]
  },
  {
   "cell_type": "code",
   "execution_count": 11,
   "metadata": {},
   "outputs": [],
   "source": [
    "import graphviz as graph"
   ]
  },
  {
   "cell_type": "code",
   "execution_count": 12,
   "metadata": {},
   "outputs": [
    {
     "ename": "SyntaxError",
     "evalue": "invalid syntax (<ipython-input-12-0d513ae6742f>, line 1)",
     "output_type": "error",
     "traceback": [
      "\u001b[1;36m  File \u001b[1;32m\"<ipython-input-12-0d513ae6742f>\"\u001b[1;36m, line \u001b[1;32m1\u001b[0m\n\u001b[1;33m    graph {\u001b[0m\n\u001b[1;37m          ^\u001b[0m\n\u001b[1;31mSyntaxError\u001b[0m\u001b[1;31m:\u001b[0m invalid syntax\n"
     ]
    }
   ],
   "source": [
    "graph {\n",
    "    a -- b;\n",
    "    b -- c;\n",
    "    a -- c;\n",
    "    d -- c;\n",
    "    e -- c;\n",
    "    e -- a;\n",
    "}"
   ]
  },
  {
   "cell_type": "code",
   "execution_count": null,
   "metadata": {},
   "outputs": [],
   "source": []
  }
 ],
 "metadata": {
  "kernelspec": {
   "display_name": "tf20",
   "language": "python",
   "name": "tf20"
  },
  "language_info": {
   "codemirror_mode": {
    "name": "ipython",
    "version": 3
   },
   "file_extension": ".py",
   "mimetype": "text/x-python",
   "name": "python",
   "nbconvert_exporter": "python",
   "pygments_lexer": "ipython3",
   "version": "3.7.4"
  }
 },
 "nbformat": 4,
 "nbformat_minor": 2
}
