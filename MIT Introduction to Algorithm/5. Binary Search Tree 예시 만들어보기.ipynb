{
 "cells": [
  {
   "cell_type": "markdown",
   "metadata": {},
   "source": [
    "# Python 2.0 기준 코드 소개\n",
    "https://ocw.mit.edu/courses/electrical-engineering-and-computer-science/6-006-introduction-to-algorithms-fall-2011/readings/binary-search-trees/"
   ]
  },
  {
   "cell_type": "code",
   "execution_count": 18,
   "metadata": {},
   "outputs": [
    {
     "name": "stdout",
     "output_type": "stream",
     "text": [
      "<bst.BST object at 0x000002B55FD711C8>\n",
      "<bst.BST object at 0x000002B55FD711C8>\n",
      "<bst.BST object at 0x000002B55FD711C8>\n"
     ]
    }
   ],
   "source": [
    "import bst\n",
    "t = bst.BST()\n",
    "print(t)\n",
    "\n",
    "for i in range(4):\n",
    "    t.insert(i)\n",
    "print(t)\n",
    "\n",
    "#t.delete_min() # AttributeError: 'BST' object has no attribute 'delete_min'\n",
    "print(t)"
   ]
  },
  {
   "cell_type": "markdown",
   "metadata": {},
   "source": [
    "# Python 3 기준 변화된 내용 확인\n",
    "참조 : https://www.youtube.com/watch?v=YlgPi75hIBc"
   ]
  },
  {
   "cell_type": "code",
   "execution_count": 26,
   "metadata": {},
   "outputs": [
    {
     "name": "stdout",
     "output_type": "stream",
     "text": [
      "\n",
      "      _____8__\n",
      "     /        \\\n",
      "    12         0__\n",
      "   /  \\       /   \\\n",
      "  2    9     7     3\n",
      " /      \\         / \\\n",
      "6        1       5   11\n",
      "\n"
     ]
    },
    {
     "data": {
      "text/plain": [
       "{'height': 3,\n",
       " 'size': 11,\n",
       " 'is_max_heap': False,\n",
       " 'is_min_heap': False,\n",
       " 'is_perfect': False,\n",
       " 'is_strict': False,\n",
       " 'is_complete': False,\n",
       " 'leaf_count': 5,\n",
       " 'min_node_value': 0,\n",
       " 'max_node_value': 12,\n",
       " 'min_leaf_depth': 2,\n",
       " 'max_leaf_depth': 3,\n",
       " 'is_bst': False,\n",
       " 'is_balanced': True,\n",
       " 'is_symmetric': False}"
      ]
     },
     "execution_count": 26,
     "metadata": {},
     "output_type": "execute_result"
    }
   ],
   "source": [
    "#내장함수\n",
    "from binarytree import tree\n",
    "\n",
    "mytree = tree()\n",
    "print(mytree)\n",
    "mytree.properties"
   ]
  },
  {
   "cell_type": "markdown",
   "metadata": {},
   "source": [
    "http://ejklike.github.io/2018/01/09/traversing-a-binary-tree-1.html#fn:1"
   ]
  },
  {
   "cell_type": "code",
   "execution_count": 29,
   "metadata": {},
   "outputs": [],
   "source": [
    "class Node(object):\n",
    "    def __init__(self, data):\n",
    "        self.data = data\n",
    "        self.left = self.right = None"
   ]
  },
  {
   "cell_type": "code",
   "execution_count": 30,
   "metadata": {},
   "outputs": [],
   "source": [
    "class BinarySearchTree(object):\n",
    "    def __init__(self):\n",
    "        self.root = None\n",
    "    \n",
    "    def insert(self, data):\n",
    "        self.root = self._insert_value(self.root, data)\n",
    "        return self.root is not None\n",
    "        \n",
    "    def _insert_value(self, node, data):\n",
    "        if node is None:\n",
    "            node = Node(data)\n",
    "        else:\n",
    "            if data < node.data:\n",
    "                node.left = self._insert_value(node.left, data)\n",
    "            else:\n",
    "                node.right = self._insert_value(node.right, data)\n",
    "        return node\n",
    "    \n",
    "    def find(self, key):\n",
    "        return self._find_value(self.root, key)\n",
    "\n",
    "    def _find_value(self, root, key):\n",
    "        if root is None or root.data == key:\n",
    "            return root is not None\n",
    "        elif key < root.data:\n",
    "            return self._find_value(root.left, key)\n",
    "        else:\n",
    "            return self._find_value(root.right, key)\n",
    "        \n",
    "    def delete(self, key):\n",
    "        self.root, deleted = self._delete_value(self.root, key)\n",
    "        return deleted\n",
    "\n",
    "    def _delete_value(self, node, key):\n",
    "        if node is None:\n",
    "            return node, False\n",
    "\n",
    "        deleted = False\n",
    "        if key == node.data:\n",
    "            deleted = True\n",
    "            if node.left and node.right:\n",
    "                # replace the node to the leftmost of node.right\n",
    "                parent, child = node, node.right\n",
    "                while child.left is not None:\n",
    "                    parent, child = child, child.left\n",
    "                child.left = node.left\n",
    "                if parent != node:\n",
    "                    parent.left = child.right\n",
    "                    child.right = node.right\n",
    "                node = child\n",
    "            elif node.left or node.right:\n",
    "                node = node.left or node.right\n",
    "            else:\n",
    "                node = None\n",
    "        elif key < node.data:\n",
    "            node.left, deleted = self._delete_value(node.left, key)\n",
    "        else:\n",
    "            node.right, deleted = self._delete_value(node.right, key)\n",
    "        return node, deleted"
   ]
  },
  {
   "cell_type": "code",
   "execution_count": 31,
   "metadata": {},
   "outputs": [
    {
     "name": "stdout",
     "output_type": "stream",
     "text": [
      "True\n",
      "False\n",
      "True\n",
      "True\n",
      "False\n"
     ]
    }
   ],
   "source": [
    "array = [40, 4, 34, 45, 14, 55, 48, 13, 15, 49, 47]\n",
    "\n",
    "bst = BinarySearchTree()\n",
    "for x in array:\n",
    "    bst.insert(x)\n",
    "\n",
    "# Find\n",
    "print(bst.find(15)) # True\n",
    "print(bst.find(17)) # False\n",
    "\n",
    "# Delete\n",
    "print(bst.delete(55)) # True\n",
    "print(bst.delete(14)) # True\n",
    "print(bst.delete(11)) # False"
   ]
  },
  {
   "cell_type": "markdown",
   "metadata": {},
   "source": [
    "# Runway Reservation System Algorithm"
   ]
  },
  {
   "cell_type": "code",
   "execution_count": 8,
   "metadata": {},
   "outputs": [
    {
     "name": "stdout",
     "output_type": "stream",
     "text": [
      "[3]\n"
     ]
    }
   ],
   "source": [
    "R = []\n",
    "def req(R, t):\n",
    "    \n",
    "    if len(R) != 0 and t < R[0]:\n",
    "        return print('error')\n",
    "\n",
    "    for i in range(len(R)):\n",
    "        if abs(t-R[i]) < k:        \n",
    "            return print('error')\n",
    "    R.append(t)\n",
    "    R = sorted(R)\n",
    "    print(R)\n",
    "req(R, 3)"
   ]
  },
  {
   "cell_type": "code",
   "execution_count": 11,
   "metadata": {},
   "outputs": [],
   "source": [
    "import graphviz as graph"
   ]
  },
  {
   "cell_type": "code",
   "execution_count": 12,
   "metadata": {},
   "outputs": [
    {
     "ename": "SyntaxError",
     "evalue": "invalid syntax (<ipython-input-12-0d513ae6742f>, line 1)",
     "output_type": "error",
     "traceback": [
      "\u001b[1;36m  File \u001b[1;32m\"<ipython-input-12-0d513ae6742f>\"\u001b[1;36m, line \u001b[1;32m1\u001b[0m\n\u001b[1;33m    graph {\u001b[0m\n\u001b[1;37m          ^\u001b[0m\n\u001b[1;31mSyntaxError\u001b[0m\u001b[1;31m:\u001b[0m invalid syntax\n"
     ]
    }
   ],
   "source": [
    "graph {\n",
    "    a -- b;\n",
    "    b -- c;\n",
    "    a -- c;\n",
    "    d -- c;\n",
    "    e -- c;\n",
    "    e -- a;\n",
    "}"
   ]
  },
  {
   "cell_type": "code",
   "execution_count": null,
   "metadata": {},
   "outputs": [],
   "source": []
  }
 ],
 "metadata": {
  "kernelspec": {
   "display_name": "tf20",
   "language": "python",
   "name": "tf20"
  },
  "language_info": {
   "codemirror_mode": {
    "name": "ipython",
    "version": 3
   },
   "file_extension": ".py",
   "mimetype": "text/x-python",
   "name": "python",
   "nbconvert_exporter": "python",
   "pygments_lexer": "ipython3",
   "version": "3.7.4"
  }
 },
 "nbformat": 4,
 "nbformat_minor": 2
}
